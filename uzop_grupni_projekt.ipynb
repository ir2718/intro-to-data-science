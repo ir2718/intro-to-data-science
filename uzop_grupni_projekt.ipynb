{
  "nbformat": 4,
  "nbformat_minor": 0,
  "metadata": {
    "colab": {
      "name": "uzop_grupni_projekt.ipynb",
      "provenance": [],
      "collapsed_sections": []
    },
    "kernelspec": {
      "name": "python3",
      "display_name": "Python 3"
    },
    "language_info": {
      "name": "python"
    }
  },
  "cells": [
    {
      "cell_type": "code",
      "execution_count": 2,
      "metadata": {
        "id": "VKRA4K-qxCOc",
        "colab": {
          "base_uri": "https://localhost:8080/"
        },
        "outputId": "b0c89ff1-6efb-4425-b378-532f224120b8"
      },
      "outputs": [
        {
          "output_type": "stream",
          "name": "stdout",
          "text": [
            "Drive already mounted at /content/drive; to attempt to forcibly remount, call drive.mount(\"/content/drive\", force_remount=True).\n"
          ]
        }
      ],
      "source": [
        "from google.colab import drive\n",
        "drive.mount('/content/drive')"
      ]
    },
    {
      "cell_type": "code",
      "source": [
        "%cd drive/MyDrive/zop\n",
        "!ls"
      ],
      "metadata": {
        "colab": {
          "base_uri": "https://localhost:8080/"
        },
        "id": "dvGgDgxLxH0c",
        "outputId": "4d563dd5-1331-4c70-eb93-2f44306e9847"
      },
      "execution_count": 3,
      "outputs": [
        {
          "output_type": "stream",
          "name": "stdout",
          "text": [
            "/content/drive/MyDrive/zop\n",
            "dask-worker-space  diabetes.csv  projekt.ipynb\tuzop_grupni_projekt.ipynb\n"
          ]
        }
      ]
    },
    {
      "cell_type": "code",
      "source": [
        "!pip install autofeat\n",
        "!pip install lgbm"
      ],
      "metadata": {
        "colab": {
          "base_uri": "https://localhost:8080/"
        },
        "id": "eL5t56bSY_eN",
        "outputId": "7aa61fac-257f-4e30-a9ac-a167189c4485"
      },
      "execution_count": 4,
      "outputs": [
        {
          "output_type": "stream",
          "name": "stdout",
          "text": [
            "Requirement already satisfied: autofeat in /usr/local/lib/python3.7/dist-packages (2.0.10)\n",
            "Requirement already satisfied: pandas>=0.24.0 in /usr/local/lib/python3.7/dist-packages (from autofeat) (1.1.5)\n",
            "Requirement already satisfied: scikit-learn in /usr/local/lib/python3.7/dist-packages (from autofeat) (1.0.2)\n",
            "Requirement already satisfied: future in /usr/local/lib/python3.7/dist-packages (from autofeat) (0.16.0)\n",
            "Requirement already satisfied: numpy in /usr/local/lib/python3.7/dist-packages (from autofeat) (1.19.5)\n",
            "Requirement already satisfied: joblib in /usr/local/lib/python3.7/dist-packages (from autofeat) (1.1.0)\n",
            "Requirement already satisfied: pint in /usr/local/lib/python3.7/dist-packages (from autofeat) (0.18)\n",
            "Requirement already satisfied: numba in /usr/local/lib/python3.7/dist-packages (from autofeat) (0.51.2)\n",
            "Requirement already satisfied: sympy>=1.7.1 in /usr/local/lib/python3.7/dist-packages (from autofeat) (1.7.1)\n",
            "Requirement already satisfied: pytz>=2017.2 in /usr/local/lib/python3.7/dist-packages (from pandas>=0.24.0->autofeat) (2018.9)\n",
            "Requirement already satisfied: python-dateutil>=2.7.3 in /usr/local/lib/python3.7/dist-packages (from pandas>=0.24.0->autofeat) (2.8.2)\n",
            "Requirement already satisfied: six>=1.5 in /usr/local/lib/python3.7/dist-packages (from python-dateutil>=2.7.3->pandas>=0.24.0->autofeat) (1.15.0)\n",
            "Requirement already satisfied: mpmath>=0.19 in /usr/local/lib/python3.7/dist-packages (from sympy>=1.7.1->autofeat) (1.2.1)\n",
            "Requirement already satisfied: setuptools in /usr/local/lib/python3.7/dist-packages (from numba->autofeat) (57.4.0)\n",
            "Requirement already satisfied: llvmlite<0.35,>=0.34.0.dev0 in /usr/local/lib/python3.7/dist-packages (from numba->autofeat) (0.34.0)\n",
            "Requirement already satisfied: importlib-metadata in /usr/local/lib/python3.7/dist-packages (from pint->autofeat) (4.10.0)\n",
            "Requirement already satisfied: packaging in /usr/local/lib/python3.7/dist-packages (from pint->autofeat) (21.3)\n",
            "Requirement already satisfied: typing-extensions>=3.6.4 in /usr/local/lib/python3.7/dist-packages (from importlib-metadata->pint->autofeat) (3.10.0.2)\n",
            "Requirement already satisfied: zipp>=0.5 in /usr/local/lib/python3.7/dist-packages (from importlib-metadata->pint->autofeat) (3.7.0)\n",
            "Requirement already satisfied: pyparsing!=3.0.5,>=2.0.2 in /usr/local/lib/python3.7/dist-packages (from packaging->pint->autofeat) (3.0.6)\n",
            "Requirement already satisfied: threadpoolctl>=2.0.0 in /usr/local/lib/python3.7/dist-packages (from scikit-learn->autofeat) (3.0.0)\n",
            "Requirement already satisfied: scipy>=1.1.0 in /usr/local/lib/python3.7/dist-packages (from scikit-learn->autofeat) (1.4.1)\n",
            "\u001b[31mERROR: Could not find a version that satisfies the requirement lgbm (from versions: none)\u001b[0m\n",
            "\u001b[31mERROR: No matching distribution found for lgbm\u001b[0m\n"
          ]
        }
      ]
    },
    {
      "cell_type": "code",
      "source": [
        "import pandas as pd\n",
        "import numpy as np\n",
        "import matplotlib.pyplot as plt\n",
        "import seaborn as sb\n",
        "import warnings\n",
        "warnings.filterwarnings('ignore') \n",
        "from sklearn.preprocessing import PolynomialFeatures, StandardScaler, MinMaxScaler\n",
        "from sklearn.metrics import accuracy_score, f1_score, roc_auc_score, precision_score, recall_score, confusion_matrix\n",
        "from sklearn.neighbors import KNeighborsClassifier\n",
        "from sklearn.ensemble import RandomForestClassifier\n",
        "from sklearn.pipeline import Pipeline\n",
        "from sklearn.model_selection import RandomizedSearchCV, GridSearchCV, train_test_split, cross_val_score, StratifiedKFold\n",
        "from autofeat import AutoFeatRegressor, AutoFeatClassifier\n",
        "from sklearn.feature_selection import SelectKBest, SequentialFeatureSelector, SelectFromModel, RFE, f_classif, chi2\n",
        "from sklearn.linear_model import LogisticRegression\n",
        "import lightgbm as lgbm\n",
        "import tensorflow as tf\n",
        "from tensorflow import keras\n",
        "from keras.models import Sequential\n",
        "from keras.layers import Dense\n",
        "from keras.layers import Dense, Dropout, Flatten\n",
        "from keras.losses import BinaryCrossentropy\n",
        "from tensorflow.keras.optimizers import Adam, SGD, RMSprop, Nadam, Adagrad, Adadelta, Adamax\n",
        "from sklearn.utils.class_weight import compute_class_weight\n",
        "from sklearn.model_selection import train_test_split\n",
        "from keras.regularizers import l1, l2\n",
        "from keras.initializers import HeNormal, HeUniform, GlorotUniform, GlorotNormal\n",
        "from keras.callbacks import EarlyStopping, LearningRateScheduler\n",
        "from sklearn.ensemble import RandomForestClassifier"
      ],
      "metadata": {
        "id": "2mhFKSxGxNzl"
      },
      "execution_count": 5,
      "outputs": []
    },
    {
      "cell_type": "code",
      "source": [
        "df = pd.read_csv('diabetes.csv')"
      ],
      "metadata": {
        "id": "VCIbn0GAxP1J"
      },
      "execution_count": 6,
      "outputs": []
    },
    {
      "cell_type": "code",
      "source": [
        "def get_metrics(alg, pf=None):\n",
        "    acc_train, acc_test, conf_matrices, precisions, recalls, f1_scores = [], [], [], [], [], []\n",
        "\n",
        "    for i in range(100):\n",
        "        model = alg()\n",
        "        \n",
        "        X_train, X_test, y_train, y_test = train_test_split(X.values, y.values.reshape(-1), test_size=0.2)\n",
        "\n",
        "        model.fit(X_train, y_train)\n",
        "\n",
        "        train_pred = model.predict(X_train)\n",
        "        test_pred = model.predict(X_test)\n",
        "\n",
        "        conf_matrices.append(confusion_matrix(y_test, test_pred))\n",
        "        precisions.append(precision_score(y_test, test_pred))\n",
        "        recalls.append(recall_score(y_test, test_pred))\n",
        "        f1_scores.append(f1_score(y_test, test_pred))\n",
        "        acc_train.append(accuracy_score(y_train, train_pred))\n",
        "        acc_test.append(accuracy_score(y_test, test_pred))\n",
        "    \n",
        "    return acc_train, acc_test, conf_matrices, precisions, recalls, f1_scores, sum(conf_matrices)/len(conf_matrices)"
      ],
      "metadata": {
        "id": "F5QCPuwN7lZH"
      },
      "execution_count": 7,
      "outputs": []
    },
    {
      "cell_type": "code",
      "source": [
        "# def print_accuracies_logistic(alg):\n",
        "#     acc1, acc2, conf_matirces, precisions, recalls, f1_scores = [], [], [], [], [], []\n",
        "#     poly = PolynomialFeatures(3)\n",
        "#     X_translated = poly.fit_transform(X)\n",
        "#     for i in range(100):\n",
        "#         model = alg()\n",
        "\n",
        "#         X_train, X_test, y_train, y_test = train_test_split(X_translated, y.values.reshape(-1), test_size=0.2)\n",
        "#         model.fit(X_train, y_train)\n",
        "\n",
        "#         train_pred = model.predict(X_train)\n",
        "#         test_pred = model.predict(X_test)\n",
        "\n",
        "#         conf_mat = confusion_matrix(y_test, test_pred)\n",
        "#         conf_matirces.append(conf_mat)\n",
        "\n",
        "#         tn, fp, fn, tp = conf_mat.ravel()\n",
        "\n",
        "#         precision = tp/(tp + fp)\n",
        "#         precisions.append(precision)\n",
        "\n",
        "#         recall = tp/(tp+fn)\n",
        "#         recalls.append(recall)\n",
        "\n",
        "#         f1_score = 2 * (precision * recall)/(precision + recall)\n",
        "#         f1_scores.append(f1_score)\n",
        "\n",
        "#         acc1.append(accuracy_score(train_pred, y_train))\n",
        "#         acc2.append(accuracy_score(test_pred, y_test))\n",
        "\n",
        "#     print(f'Mean train accuracy: {np.mean(acc1)}')\n",
        "#     print(f'Mean test accuracy: {np.mean(acc2)}')\n",
        "#     print(f'Mean precision: {np.mean(precisions)}')\n",
        "#     print(f'Mean recall: {np.mean(recalls)}')\n",
        "#     print(f'Mean F1 score: {np.mean(f1_scores)}')\n",
        "#     print(\"Mean confusion matrix:\")\n",
        "#     print(sum(conf_matirces)/len(conf_matirces))"
      ],
      "metadata": {
        "id": "FUihKRM1riju"
      },
      "execution_count": 32,
      "outputs": []
    },
    {
      "cell_type": "markdown",
      "source": [
        "# Removing outliers"
      ],
      "metadata": {
        "id": "pZMA-x0pcbG2"
      }
    },
    {
      "cell_type": "code",
      "source": [
        "from sklearn.neighbors import LocalOutlierFactor\n",
        "\n",
        "y = df['Outcome']\n",
        "X = df.drop(columns=['Outcome'])\n",
        "\n",
        "d = {}\n",
        "for i in range(1, 20):\n",
        "    lof = LocalOutlierFactor(n_neighbors=i)\n",
        "    X_out = lof.fit_predict(X)\n",
        "    d[i] = np.sum(X_out == 1)/len(X_out)\n",
        "\n",
        "plt.plot(list(d.keys()), list(d.values()), '-o')\n",
        "plt.xlabel('n_neighbors')\n",
        "plt.ylabel('% of current dataset size')\n",
        "plt.title('N_neighbors hyperparameter compared to the dataset size')\n",
        "plt.show()"
      ],
      "metadata": {
        "colab": {
          "base_uri": "https://localhost:8080/",
          "height": 296
        },
        "id": "fHc-K0xbOiZP",
        "outputId": "82dc29ee-bebf-47fe-d5bd-51ea66e6585f"
      },
      "execution_count": 8,
      "outputs": [
        {
          "output_type": "display_data",
          "data": {
            "image/png": "[encoded data removed]",
            "text/plain": [
              "<Figure size 432x288 with 1 Axes>"
            ]
          },
          "metadata": {
            "needs_background": "light"
          }
        }
      ]
    },
    {
      "cell_type": "code",
      "source": [
        "lof = LocalOutlierFactor(n_neighbors=4)\n",
        "X_out = lof.fit_predict(X)\n",
        "\n",
        "mask = X_out != -1\n",
        "\n",
        "X = X.loc[mask, :]\n",
        "y = y.loc[mask]\n",
        "\n",
        "df = X[:]\n",
        "df['Outcome'] = y[:]\n",
        "\n",
        "print(len(X))\n",
        "print(len(y))\n",
        "print(len(df))"
      ],
      "metadata": {
        "colab": {
          "base_uri": "https://localhost:8080/"
        },
        "id": "wtjEsULFUwb-",
        "outputId": "a3d211cf-58c5-45a9-897e-3754e2e167b0"
      },
      "execution_count": 9,
      "outputs": [
        {
          "output_type": "stream",
          "name": "stdout",
          "text": [
            "725\n",
            "725\n",
            "725\n"
          ]
        }
      ]
    },
    {
      "cell_type": "code",
      "source": [
        "display(df[df['Pregnancies'] > 13])\n",
        "df = df[df['Pregnancies'] <= 13]"
      ],
      "metadata": {
        "colab": {
          "base_uri": "https://localhost:8080/",
          "height": 175
        },
        "id": "jyP7L1TH9Wve",
        "outputId": "bfd90664-9884-458f-f353-7d25f74364ef"
      },
      "execution_count": 10,
      "outputs": [
        {
          "output_type": "display_data",
          "data": {
            "text/html": [
              "\n",
              "  <div id=\"df-5d1d7ea9-031a-4585-a330-5392eef8b968\">\n",
              "    <div class=\"colab-df-container\">\n",
              "      <div>\n",
              "<style scoped>\n",
              "    .dataframe tbody tr th:only-of-type {\n",
              "        vertical-align: middle;\n",
              "    }\n",
              "\n",
              "    .dataframe tbody tr th {\n",
              "        vertical-align: top;\n",
              "    }\n",
              "\n",
              "    .dataframe thead th {\n",
              "        text-align: right;\n",
              "    }\n",
              "</style>\n",
              "<table border=\"1\" class=\"dataframe\">\n",
              "  <thead>\n",
              "    <tr style=\"text-align: right;\">\n",
              "      <th></th>\n",
              "      <th>Pregnancies</th>\n",
              "      <th>Glucose</th>\n",
              "      <th>BloodPressure</th>\n",
              "      <th>SkinThickness</th>\n",
              "      <th>Insulin</th>\n",
              "      <th>BMI</th>\n",
              "      <th>DiabetesPedigreeFunction</th>\n",
              "      <th>Age</th>\n",
              "      <th>Outcome</th>\n",
              "    </tr>\n",
              "  </thead>\n",
              "  <tbody>\n",
              "    <tr>\n",
              "      <th>88</th>\n",
              "      <td>15</td>\n",
              "      <td>136</td>\n",
              "      <td>70</td>\n",
              "      <td>32</td>\n",
              "      <td>110</td>\n",
              "      <td>37.1</td>\n",
              "      <td>0.153</td>\n",
              "      <td>43</td>\n",
              "      <td>1</td>\n",
              "    </tr>\n",
              "    <tr>\n",
              "      <th>159</th>\n",
              "      <td>17</td>\n",
              "      <td>163</td>\n",
              "      <td>72</td>\n",
              "      <td>41</td>\n",
              "      <td>114</td>\n",
              "      <td>40.9</td>\n",
              "      <td>0.817</td>\n",
              "      <td>47</td>\n",
              "      <td>1</td>\n",
              "    </tr>\n",
              "    <tr>\n",
              "      <th>298</th>\n",
              "      <td>14</td>\n",
              "      <td>100</td>\n",
              "      <td>78</td>\n",
              "      <td>25</td>\n",
              "      <td>184</td>\n",
              "      <td>36.6</td>\n",
              "      <td>0.412</td>\n",
              "      <td>46</td>\n",
              "      <td>1</td>\n",
              "    </tr>\n",
              "    <tr>\n",
              "      <th>455</th>\n",
              "      <td>14</td>\n",
              "      <td>175</td>\n",
              "      <td>62</td>\n",
              "      <td>30</td>\n",
              "      <td>0</td>\n",
              "      <td>33.6</td>\n",
              "      <td>0.212</td>\n",
              "      <td>38</td>\n",
              "      <td>1</td>\n",
              "    </tr>\n",
              "  </tbody>\n",
              "</table>\n",
              "</div>\n",
              "      <button class=\"colab-df-convert\" onclick=\"convertToInteractive('df-5d1d7ea9-031a-4585-a330-5392eef8b968')\"\n",
              "              title=\"Convert this dataframe to an interactive table.\"\n",
              "              style=\"display:none;\">\n",
              "        \n",
              "  <svg xmlns=\"http://www.w3.org/2000/svg\" height=\"24px\"viewBox=\"0 0 24 24\"\n",
              "       width=\"24px\">\n",
              "    <path d=\"M0 0h24v24H0V0z\" fill=\"none\"/>\n",
              "    <path d=\"M18.56 5.44l.94 2.06.94-2.06 2.06-.94-2.06-.94-.94-2.06-.94 2.06-2.06.94zm-11 1L8.5 8.5l.94-2.06 2.06-.94-2.06-.94L8.5 2.5l-.94 2.06-2.06.94zm10 10l.94 2.06.94-2.06 2.06-.94-2.06-.94-.94-2.06-.94 2.06-2.06.94z\"/><path d=\"M17.41 7.96l-1.37-1.37c-.4-.4-.92-.59-1.43-.59-.52 0-1.04.2-1.43.59L10.3 9.45l-7.72 7.72c-.78.78-.78 2.05 0 2.83L4 21.41c.39.39.9.59 1.41.59.51 0 1.02-.2 1.41-.59l7.78-7.78 2.81-2.81c.8-.78.8-2.07 0-2.86zM5.41 20L4 18.59l7.72-7.72 1.47 1.35L5.41 20z\"/>\n",
              "  </svg>\n",
              "      </button>\n",
              "      \n",
              "  <style>\n",
              "    .colab-df-container {\n",
              "      display:flex;\n",
              "      flex-wrap:wrap;\n",
              "      gap: 12px;\n",
              "    }\n",
              "\n",
              "    .colab-df-convert {\n",
              "      background-color: #E8F0FE;\n",
              "      border: none;\n",
              "      border-radius: 50%;\n",
              "      cursor: pointer;\n",
              "      display: none;\n",
              "      fill: #1967D2;\n",
              "      height: 32px;\n",
              "      padding: 0 0 0 0;\n",
              "      width: 32px;\n",
              "    }\n",
              "\n",
              "    .colab-df-convert:hover {\n",
              "      background-color: #E2EBFA;\n",
              "      box-shadow: 0px 1px 2px rgba(60, 64, 67, 0.3), 0px 1px 3px 1px rgba(60, 64, 67, 0.15);\n",
              "      fill: #174EA6;\n",
              "    }\n",
              "\n",
              "    [theme=dark] .colab-df-convert {\n",
              "      background-color: #3B4455;\n",
              "      fill: #D2E3FC;\n",
              "    }\n",
              "\n",
              "    [theme=dark] .colab-df-convert:hover {\n",
              "      background-color: #434B5C;\n",
              "      box-shadow: 0px 1px 3px 1px rgba(0, 0, 0, 0.15);\n",
              "      filter: drop-shadow(0px 1px 2px rgba(0, 0, 0, 0.3));\n",
              "      fill: #FFFFFF;\n",
              "    }\n",
              "  </style>\n",
              "\n",
              "      <script>\n",
              "        const buttonEl =\n",
              "          document.querySelector('#df-5d1d7ea9-031a-4585-a330-5392eef8b968 button.colab-df-convert');\n",
              "        buttonEl.style.display =\n",
              "          google.colab.kernel.accessAllowed ? 'block' : 'none';\n",
              "\n",
              "        async function convertToInteractive(key) {\n",
              "          const element = document.querySelector('#df-5d1d7ea9-031a-4585-a330-5392eef8b968');\n",
              "          const dataTable =\n",
              "            await google.colab.kernel.invokeFunction('convertToInteractive',\n",
              "                                                     [key], {});\n",
              "          if (!dataTable) return;\n",
              "\n",
              "          const docLinkHtml = 'Like what you see? Visit the ' +\n",
              "            '<a target=\"_blank\" href=https://colab.research.google.com/notebooks/data_table.ipynb>data table notebook</a>'\n",
              "            + ' to learn more about interactive tables.';\n",
              "          element.innerHTML = '';\n",
              "          dataTable['output_type'] = 'display_data';\n",
              "          await google.colab.output.renderOutput(dataTable, element);\n",
              "          const docLink = document.createElement('div');\n",
              "          docLink.innerHTML = docLinkHtml;\n",
              "          element.appendChild(docLink);\n",
              "        }\n",
              "      </script>\n",
              "    </div>\n",
              "  </div>\n",
              "  "
            ],
            "text/plain": [
              "     Pregnancies  Glucose  ...  Age  Outcome\n",
              "88            15      136  ...   43        1\n",
              "159           17      163  ...   47        1\n",
              "298           14      100  ...   46        1\n",
              "455           14      175  ...   38        1\n",
              "\n",
              "[4 rows x 9 columns]"
            ]
          },
          "metadata": {}
        }
      ]
    },
    {
      "cell_type": "code",
      "source": [
        "display(df[df['Glucose'] > 200])\n",
        "df = df[df['Glucose'] <= 200]"
      ],
      "metadata": {
        "colab": {
          "base_uri": "https://localhost:8080/",
          "height": 50
        },
        "id": "Fpe0-5dX_HGY",
        "outputId": "4a2a123c-5c29-492c-897d-0f1adf91e2b8"
      },
      "execution_count": 11,
      "outputs": [
        {
          "output_type": "display_data",
          "data": {
            "text/html": [
              "\n",
              "  <div id=\"df-022b1be9-8e7b-4a96-b410-b59d36516767\">\n",
              "    <div class=\"colab-df-container\">\n",
              "      <div>\n",
              "<style scoped>\n",
              "    .dataframe tbody tr th:only-of-type {\n",
              "        vertical-align: middle;\n",
              "    }\n",
              "\n",
              "    .dataframe tbody tr th {\n",
              "        vertical-align: top;\n",
              "    }\n",
              "\n",
              "    .dataframe thead th {\n",
              "        text-align: right;\n",
              "    }\n",
              "</style>\n",
              "<table border=\"1\" class=\"dataframe\">\n",
              "  <thead>\n",
              "    <tr style=\"text-align: right;\">\n",
              "      <th></th>\n",
              "      <th>Pregnancies</th>\n",
              "      <th>Glucose</th>\n",
              "      <th>BloodPressure</th>\n",
              "      <th>SkinThickness</th>\n",
              "      <th>Insulin</th>\n",
              "      <th>BMI</th>\n",
              "      <th>DiabetesPedigreeFunction</th>\n",
              "      <th>Age</th>\n",
              "      <th>Outcome</th>\n",
              "    </tr>\n",
              "  </thead>\n",
              "  <tbody>\n",
              "  </tbody>\n",
              "</table>\n",
              "</div>\n",
              "      <button class=\"colab-df-convert\" onclick=\"convertToInteractive('df-022b1be9-8e7b-4a96-b410-b59d36516767')\"\n",
              "              title=\"Convert this dataframe to an interactive table.\"\n",
              "              style=\"display:none;\">\n",
              "        \n",
              "  <svg xmlns=\"http://www.w3.org/2000/svg\" height=\"24px\"viewBox=\"0 0 24 24\"\n",
              "       width=\"24px\">\n",
              "    <path d=\"M0 0h24v24H0V0z\" fill=\"none\"/>\n",
              "    <path d=\"M18.56 5.44l.94 2.06.94-2.06 2.06-.94-2.06-.94-.94-2.06-.94 2.06-2.06.94zm-11 1L8.5 8.5l.94-2.06 2.06-.94-2.06-.94L8.5 2.5l-.94 2.06-2.06.94zm10 10l.94 2.06.94-2.06 2.06-.94-2.06-.94-.94-2.06-.94 2.06-2.06.94z\"/><path d=\"M17.41 7.96l-1.37-1.37c-.4-.4-.92-.59-1.43-.59-.52 0-1.04.2-1.43.59L10.3 9.45l-7.72 7.72c-.78.78-.78 2.05 0 2.83L4 21.41c.39.39.9.59 1.41.59.51 0 1.02-.2 1.41-.59l7.78-7.78 2.81-2.81c.8-.78.8-2.07 0-2.86zM5.41 20L4 18.59l7.72-7.72 1.47 1.35L5.41 20z\"/>\n",
              "  </svg>\n",
              "      </button>\n",
              "      \n",
              "  <style>\n",
              "    .colab-df-container {\n",
              "      display:flex;\n",
              "      flex-wrap:wrap;\n",
              "      gap: 12px;\n",
              "    }\n",
              "\n",
              "    .colab-df-convert {\n",
              "      background-color: #E8F0FE;\n",
              "      border: none;\n",
              "      border-radius: 50%;\n",
              "      cursor: pointer;\n",
              "      display: none;\n",
              "      fill: #1967D2;\n",
              "      height: 32px;\n",
              "      padding: 0 0 0 0;\n",
              "      width: 32px;\n",
              "    }\n",
              "\n",
              "    .colab-df-convert:hover {\n",
              "      background-color: #E2EBFA;\n",
              "      box-shadow: 0px 1px 2px rgba(60, 64, 67, 0.3), 0px 1px 3px 1px rgba(60, 64, 67, 0.15);\n",
              "      fill: #174EA6;\n",
              "    }\n",
              "\n",
              "    [theme=dark] .colab-df-convert {\n",
              "      background-color: #3B4455;\n",
              "      fill: #D2E3FC;\n",
              "    }\n",
              "\n",
              "    [theme=dark] .colab-df-convert:hover {\n",
              "      background-color: #434B5C;\n",
              "      box-shadow: 0px 1px 3px 1px rgba(0, 0, 0, 0.15);\n",
              "      filter: drop-shadow(0px 1px 2px rgba(0, 0, 0, 0.3));\n",
              "      fill: #FFFFFF;\n",
              "    }\n",
              "  </style>\n",
              "\n",
              "      <script>\n",
              "        const buttonEl =\n",
              "          document.querySelector('#df-022b1be9-8e7b-4a96-b410-b59d36516767 button.colab-df-convert');\n",
              "        buttonEl.style.display =\n",
              "          google.colab.kernel.accessAllowed ? 'block' : 'none';\n",
              "\n",
              "        async function convertToInteractive(key) {\n",
              "          const element = document.querySelector('#df-022b1be9-8e7b-4a96-b410-b59d36516767');\n",
              "          const dataTable =\n",
              "            await google.colab.kernel.invokeFunction('convertToInteractive',\n",
              "                                                     [key], {});\n",
              "          if (!dataTable) return;\n",
              "\n",
              "          const docLinkHtml = 'Like what you see? Visit the ' +\n",
              "            '<a target=\"_blank\" href=https://colab.research.google.com/notebooks/data_table.ipynb>data table notebook</a>'\n",
              "            + ' to learn more about interactive tables.';\n",
              "          element.innerHTML = '';\n",
              "          dataTable['output_type'] = 'display_data';\n",
              "          await google.colab.output.renderOutput(dataTable, element);\n",
              "          const docLink = document.createElement('div');\n",
              "          docLink.innerHTML = docLinkHtml;\n",
              "          element.appendChild(docLink);\n",
              "        }\n",
              "      </script>\n",
              "    </div>\n",
              "  </div>\n",
              "  "
            ],
            "text/plain": [
              "Empty DataFrame\n",
              "Columns: [Pregnancies, Glucose, BloodPressure, SkinThickness, Insulin, BMI, DiabetesPedigreeFunction, Age, Outcome]\n",
              "Index: []"
            ]
          },
          "metadata": {}
        }
      ]
    },
    {
      "cell_type": "code",
      "source": [
        "display(df[df['BloodPressure'] > 115])\n",
        "df = df[df['BloodPressure'] <= 115]"
      ],
      "metadata": {
        "colab": {
          "base_uri": "https://localhost:8080/",
          "height": 50
        },
        "id": "xlD0EEIfAQM_",
        "outputId": "1bb06b6b-1ca5-43c5-aed2-07905dbe39aa"
      },
      "execution_count": 12,
      "outputs": [
        {
          "output_type": "display_data",
          "data": {
            "text/html": [
              "\n",
              "  <div id=\"df-4aad717a-bdcf-4b02-a39e-7c5c6ddae676\">\n",
              "    <div class=\"colab-df-container\">\n",
              "      <div>\n",
              "<style scoped>\n",
              "    .dataframe tbody tr th:only-of-type {\n",
              "        vertical-align: middle;\n",
              "    }\n",
              "\n",
              "    .dataframe tbody tr th {\n",
              "        vertical-align: top;\n",
              "    }\n",
              "\n",
              "    .dataframe thead th {\n",
              "        text-align: right;\n",
              "    }\n",
              "</style>\n",
              "<table border=\"1\" class=\"dataframe\">\n",
              "  <thead>\n",
              "    <tr style=\"text-align: right;\">\n",
              "      <th></th>\n",
              "      <th>Pregnancies</th>\n",
              "      <th>Glucose</th>\n",
              "      <th>BloodPressure</th>\n",
              "      <th>SkinThickness</th>\n",
              "      <th>Insulin</th>\n",
              "      <th>BMI</th>\n",
              "      <th>DiabetesPedigreeFunction</th>\n",
              "      <th>Age</th>\n",
              "      <th>Outcome</th>\n",
              "    </tr>\n",
              "  </thead>\n",
              "  <tbody>\n",
              "  </tbody>\n",
              "</table>\n",
              "</div>\n",
              "      <button class=\"colab-df-convert\" onclick=\"convertToInteractive('df-4aad717a-bdcf-4b02-a39e-7c5c6ddae676')\"\n",
              "              title=\"Convert this dataframe to an interactive table.\"\n",
              "              style=\"display:none;\">\n",
              "        \n",
              "  <svg xmlns=\"http://www.w3.org/2000/svg\" height=\"24px\"viewBox=\"0 0 24 24\"\n",
              "       width=\"24px\">\n",
              "    <path d=\"M0 0h24v24H0V0z\" fill=\"none\"/>\n",
              "    <path d=\"M18.56 5.44l.94 2.06.94-2.06 2.06-.94-2.06-.94-.94-2.06-.94 2.06-2.06.94zm-11 1L8.5 8.5l.94-2.06 2.06-.94-2.06-.94L8.5 2.5l-.94 2.06-2.06.94zm10 10l.94 2.06.94-2.06 2.06-.94-2.06-.94-.94-2.06-.94 2.06-2.06.94z\"/><path d=\"M17.41 7.96l-1.37-1.37c-.4-.4-.92-.59-1.43-.59-.52 0-1.04.2-1.43.59L10.3 9.45l-7.72 7.72c-.78.78-.78 2.05 0 2.83L4 21.41c.39.39.9.59 1.41.59.51 0 1.02-.2 1.41-.59l7.78-7.78 2.81-2.81c.8-.78.8-2.07 0-2.86zM5.41 20L4 18.59l7.72-7.72 1.47 1.35L5.41 20z\"/>\n",
              "  </svg>\n",
              "      </button>\n",
              "      \n",
              "  <style>\n",
              "    .colab-df-container {\n",
              "      display:flex;\n",
              "      flex-wrap:wrap;\n",
              "      gap: 12px;\n",
              "    }\n",
              "\n",
              "    .colab-df-convert {\n",
              "      background-color: #E8F0FE;\n",
              "      border: none;\n",
              "      border-radius: 50%;\n",
              "      cursor: pointer;\n",
              "      display: none;\n",
              "      fill: #1967D2;\n",
              "      height: 32px;\n",
              "      padding: 0 0 0 0;\n",
              "      width: 32px;\n",
              "    }\n",
              "\n",
              "    .colab-df-convert:hover {\n",
              "      background-color: #E2EBFA;\n",
              "      box-shadow: 0px 1px 2px rgba(60, 64, 67, 0.3), 0px 1px 3px 1px rgba(60, 64, 67, 0.15);\n",
              "      fill: #174EA6;\n",
              "    }\n",
              "\n",
              "    [theme=dark] .colab-df-convert {\n",
              "      background-color: #3B4455;\n",
              "      fill: #D2E3FC;\n",
              "    }\n",
              "\n",
              "    [theme=dark] .colab-df-convert:hover {\n",
              "      background-color: #434B5C;\n",
              "      box-shadow: 0px 1px 3px 1px rgba(0, 0, 0, 0.15);\n",
              "      filter: drop-shadow(0px 1px 2px rgba(0, 0, 0, 0.3));\n",
              "      fill: #FFFFFF;\n",
              "    }\n",
              "  </style>\n",
              "\n",
              "      <script>\n",
              "        const buttonEl =\n",
              "          document.querySelector('#df-4aad717a-bdcf-4b02-a39e-7c5c6ddae676 button.colab-df-convert');\n",
              "        buttonEl.style.display =\n",
              "          google.colab.kernel.accessAllowed ? 'block' : 'none';\n",
              "\n",
              "        async function convertToInteractive(key) {\n",
              "          const element = document.querySelector('#df-4aad717a-bdcf-4b02-a39e-7c5c6ddae676');\n",
              "          const dataTable =\n",
              "            await google.colab.kernel.invokeFunction('convertToInteractive',\n",
              "                                                     [key], {});\n",
              "          if (!dataTable) return;\n",
              "\n",
              "          const docLinkHtml = 'Like what you see? Visit the ' +\n",
              "            '<a target=\"_blank\" href=https://colab.research.google.com/notebooks/data_table.ipynb>data table notebook</a>'\n",
              "            + ' to learn more about interactive tables.';\n",
              "          element.innerHTML = '';\n",
              "          dataTable['output_type'] = 'display_data';\n",
              "          await google.colab.output.renderOutput(dataTable, element);\n",
              "          const docLink = document.createElement('div');\n",
              "          docLink.innerHTML = docLinkHtml;\n",
              "          element.appendChild(docLink);\n",
              "        }\n",
              "      </script>\n",
              "    </div>\n",
              "  </div>\n",
              "  "
            ],
            "text/plain": [
              "Empty DataFrame\n",
              "Columns: [Pregnancies, Glucose, BloodPressure, SkinThickness, Insulin, BMI, DiabetesPedigreeFunction, Age, Outcome]\n",
              "Index: []"
            ]
          },
          "metadata": {}
        }
      ]
    },
    {
      "cell_type": "code",
      "source": [
        "display(df[(df['BloodPressure'] < 40) & (df['BloodPressure'] != 0)])\n",
        "df = df[(df['BloodPressure'] >= 40) | (df['BloodPressure'] == 0)]"
      ],
      "metadata": {
        "colab": {
          "base_uri": "https://localhost:8080/",
          "height": 81
        },
        "id": "zlZzJg9YcFT-",
        "outputId": "49936f6a-3a64-4db5-8358-76e734c1b41b"
      },
      "execution_count": 13,
      "outputs": [
        {
          "output_type": "display_data",
          "data": {
            "text/html": [
              "\n",
              "  <div id=\"df-cd204a04-3c8b-4430-b5ff-85bf3f8f4f2a\">\n",
              "    <div class=\"colab-df-container\">\n",
              "      <div>\n",
              "<style scoped>\n",
              "    .dataframe tbody tr th:only-of-type {\n",
              "        vertical-align: middle;\n",
              "    }\n",
              "\n",
              "    .dataframe tbody tr th {\n",
              "        vertical-align: top;\n",
              "    }\n",
              "\n",
              "    .dataframe thead th {\n",
              "        text-align: right;\n",
              "    }\n",
              "</style>\n",
              "<table border=\"1\" class=\"dataframe\">\n",
              "  <thead>\n",
              "    <tr style=\"text-align: right;\">\n",
              "      <th></th>\n",
              "      <th>Pregnancies</th>\n",
              "      <th>Glucose</th>\n",
              "      <th>BloodPressure</th>\n",
              "      <th>SkinThickness</th>\n",
              "      <th>Insulin</th>\n",
              "      <th>BMI</th>\n",
              "      <th>DiabetesPedigreeFunction</th>\n",
              "      <th>Age</th>\n",
              "      <th>Outcome</th>\n",
              "    </tr>\n",
              "  </thead>\n",
              "  <tbody>\n",
              "    <tr>\n",
              "      <th>599</th>\n",
              "      <td>1</td>\n",
              "      <td>109</td>\n",
              "      <td>38</td>\n",
              "      <td>18</td>\n",
              "      <td>120</td>\n",
              "      <td>23.1</td>\n",
              "      <td>0.407</td>\n",
              "      <td>26</td>\n",
              "      <td>0</td>\n",
              "    </tr>\n",
              "  </tbody>\n",
              "</table>\n",
              "</div>\n",
              "      <button class=\"colab-df-convert\" onclick=\"convertToInteractive('df-cd204a04-3c8b-4430-b5ff-85bf3f8f4f2a')\"\n",
              "              title=\"Convert this dataframe to an interactive table.\"\n",
              "              style=\"display:none;\">\n",
              "        \n",
              "  <svg xmlns=\"http://www.w3.org/2000/svg\" height=\"24px\"viewBox=\"0 0 24 24\"\n",
              "       width=\"24px\">\n",
              "    <path d=\"M0 0h24v24H0V0z\" fill=\"none\"/>\n",
              "    <path d=\"M18.56 5.44l.94 2.06.94-2.06 2.06-.94-2.06-.94-.94-2.06-.94 2.06-2.06.94zm-11 1L8.5 8.5l.94-2.06 2.06-.94-2.06-.94L8.5 2.5l-.94 2.06-2.06.94zm10 10l.94 2.06.94-2.06 2.06-.94-2.06-.94-.94-2.06-.94 2.06-2.06.94z\"/><path d=\"M17.41 7.96l-1.37-1.37c-.4-.4-.92-.59-1.43-.59-.52 0-1.04.2-1.43.59L10.3 9.45l-7.72 7.72c-.78.78-.78 2.05 0 2.83L4 21.41c.39.39.9.59 1.41.59.51 0 1.02-.2 1.41-.59l7.78-7.78 2.81-2.81c.8-.78.8-2.07 0-2.86zM5.41 20L4 18.59l7.72-7.72 1.47 1.35L5.41 20z\"/>\n",
              "  </svg>\n",
              "      </button>\n",
              "      \n",
              "  <style>\n",
              "    .colab-df-container {\n",
              "      display:flex;\n",
              "      flex-wrap:wrap;\n",
              "      gap: 12px;\n",
              "    }\n",
              "\n",
              "    .colab-df-convert {\n",
              "      background-color: #E8F0FE;\n",
              "      border: none;\n",
              "      border-radius: 50%;\n",
              "      cursor: pointer;\n",
              "      display: none;\n",
              "      fill: #1967D2;\n",
              "      height: 32px;\n",
              "      padding: 0 0 0 0;\n",
              "      width: 32px;\n",
              "    }\n",
              "\n",
              "    .colab-df-convert:hover {\n",
              "      background-color: #E2EBFA;\n",
              "      box-shadow: 0px 1px 2px rgba(60, 64, 67, 0.3), 0px 1px 3px 1px rgba(60, 64, 67, 0.15);\n",
              "      fill: #174EA6;\n",
              "    }\n",
              "\n",
              "    [theme=dark] .colab-df-convert {\n",
              "      background-color: #3B4455;\n",
              "      fill: #D2E3FC;\n",
              "    }\n",
              "\n",
              "    [theme=dark] .colab-df-convert:hover {\n",
              "      background-color: #434B5C;\n",
              "      box-shadow: 0px 1px 3px 1px rgba(0, 0, 0, 0.15);\n",
              "      filter: drop-shadow(0px 1px 2px rgba(0, 0, 0, 0.3));\n",
              "      fill: #FFFFFF;\n",
              "    }\n",
              "  </style>\n",
              "\n",
              "      <script>\n",
              "        const buttonEl =\n",
              "          document.querySelector('#df-cd204a04-3c8b-4430-b5ff-85bf3f8f4f2a button.colab-df-convert');\n",
              "        buttonEl.style.display =\n",
              "          google.colab.kernel.accessAllowed ? 'block' : 'none';\n",
              "\n",
              "        async function convertToInteractive(key) {\n",
              "          const element = document.querySelector('#df-cd204a04-3c8b-4430-b5ff-85bf3f8f4f2a');\n",
              "          const dataTable =\n",
              "            await google.colab.kernel.invokeFunction('convertToInteractive',\n",
              "                                                     [key], {});\n",
              "          if (!dataTable) return;\n",
              "\n",
              "          const docLinkHtml = 'Like what you see? Visit the ' +\n",
              "            '<a target=\"_blank\" href=https://colab.research.google.com/notebooks/data_table.ipynb>data table notebook</a>'\n",
              "            + ' to learn more about interactive tables.';\n",
              "          element.innerHTML = '';\n",
              "          dataTable['output_type'] = 'display_data';\n",
              "          await google.colab.output.renderOutput(dataTable, element);\n",
              "          const docLink = document.createElement('div');\n",
              "          docLink.innerHTML = docLinkHtml;\n",
              "          element.appendChild(docLink);\n",
              "        }\n",
              "      </script>\n",
              "    </div>\n",
              "  </div>\n",
              "  "
            ],
            "text/plain": [
              "     Pregnancies  Glucose  ...  Age  Outcome\n",
              "599            1      109  ...   26        0\n",
              "\n",
              "[1 rows x 9 columns]"
            ]
          },
          "metadata": {}
        }
      ]
    },
    {
      "cell_type": "code",
      "source": [
        "display(df[df['SkinThickness'] > 65])\n",
        "df = df[df['SkinThickness'] <= 65]"
      ],
      "metadata": {
        "colab": {
          "base_uri": "https://localhost:8080/",
          "height": 50
        },
        "id": "r5pI6wEF_Yfb",
        "outputId": "27ddfff0-c671-4fd1-849e-185d75201632"
      },
      "execution_count": 14,
      "outputs": [
        {
          "output_type": "display_data",
          "data": {
            "text/html": [
              "\n",
              "  <div id=\"df-a4838dd2-625a-4aaf-8c72-970382c016ed\">\n",
              "    <div class=\"colab-df-container\">\n",
              "      <div>\n",
              "<style scoped>\n",
              "    .dataframe tbody tr th:only-of-type {\n",
              "        vertical-align: middle;\n",
              "    }\n",
              "\n",
              "    .dataframe tbody tr th {\n",
              "        vertical-align: top;\n",
              "    }\n",
              "\n",
              "    .dataframe thead th {\n",
              "        text-align: right;\n",
              "    }\n",
              "</style>\n",
              "<table border=\"1\" class=\"dataframe\">\n",
              "  <thead>\n",
              "    <tr style=\"text-align: right;\">\n",
              "      <th></th>\n",
              "      <th>Pregnancies</th>\n",
              "      <th>Glucose</th>\n",
              "      <th>BloodPressure</th>\n",
              "      <th>SkinThickness</th>\n",
              "      <th>Insulin</th>\n",
              "      <th>BMI</th>\n",
              "      <th>DiabetesPedigreeFunction</th>\n",
              "      <th>Age</th>\n",
              "      <th>Outcome</th>\n",
              "    </tr>\n",
              "  </thead>\n",
              "  <tbody>\n",
              "  </tbody>\n",
              "</table>\n",
              "</div>\n",
              "      <button class=\"colab-df-convert\" onclick=\"convertToInteractive('df-a4838dd2-625a-4aaf-8c72-970382c016ed')\"\n",
              "              title=\"Convert this dataframe to an interactive table.\"\n",
              "              style=\"display:none;\">\n",
              "        \n",
              "  <svg xmlns=\"http://www.w3.org/2000/svg\" height=\"24px\"viewBox=\"0 0 24 24\"\n",
              "       width=\"24px\">\n",
              "    <path d=\"M0 0h24v24H0V0z\" fill=\"none\"/>\n",
              "    <path d=\"M18.56 5.44l.94 2.06.94-2.06 2.06-.94-2.06-.94-.94-2.06-.94 2.06-2.06.94zm-11 1L8.5 8.5l.94-2.06 2.06-.94-2.06-.94L8.5 2.5l-.94 2.06-2.06.94zm10 10l.94 2.06.94-2.06 2.06-.94-2.06-.94-.94-2.06-.94 2.06-2.06.94z\"/><path d=\"M17.41 7.96l-1.37-1.37c-.4-.4-.92-.59-1.43-.59-.52 0-1.04.2-1.43.59L10.3 9.45l-7.72 7.72c-.78.78-.78 2.05 0 2.83L4 21.41c.39.39.9.59 1.41.59.51 0 1.02-.2 1.41-.59l7.78-7.78 2.81-2.81c.8-.78.8-2.07 0-2.86zM5.41 20L4 18.59l7.72-7.72 1.47 1.35L5.41 20z\"/>\n",
              "  </svg>\n",
              "      </button>\n",
              "      \n",
              "  <style>\n",
              "    .colab-df-container {\n",
              "      display:flex;\n",
              "      flex-wrap:wrap;\n",
              "      gap: 12px;\n",
              "    }\n",
              "\n",
              "    .colab-df-convert {\n",
              "      background-color: #E8F0FE;\n",
              "      border: none;\n",
              "      border-radius: 50%;\n",
              "      cursor: pointer;\n",
              "      display: none;\n",
              "      fill: #1967D2;\n",
              "      height: 32px;\n",
              "      padding: 0 0 0 0;\n",
              "      width: 32px;\n",
              "    }\n",
              "\n",
              "    .colab-df-convert:hover {\n",
              "      background-color: #E2EBFA;\n",
              "      box-shadow: 0px 1px 2px rgba(60, 64, 67, 0.3), 0px 1px 3px 1px rgba(60, 64, 67, 0.15);\n",
              "      fill: #174EA6;\n",
              "    }\n",
              "\n",
              "    [theme=dark] .colab-df-convert {\n",
              "      background-color: #3B4455;\n",
              "      fill: #D2E3FC;\n",
              "    }\n",
              "\n",
              "    [theme=dark] .colab-df-convert:hover {\n",
              "      background-color: #434B5C;\n",
              "      box-shadow: 0px 1px 3px 1px rgba(0, 0, 0, 0.15);\n",
              "      filter: drop-shadow(0px 1px 2px rgba(0, 0, 0, 0.3));\n",
              "      fill: #FFFFFF;\n",
              "    }\n",
              "  </style>\n",
              "\n",
              "      <script>\n",
              "        const buttonEl =\n",
              "          document.querySelector('#df-a4838dd2-625a-4aaf-8c72-970382c016ed button.colab-df-convert');\n",
              "        buttonEl.style.display =\n",
              "          google.colab.kernel.accessAllowed ? 'block' : 'none';\n",
              "\n",
              "        async function convertToInteractive(key) {\n",
              "          const element = document.querySelector('#df-a4838dd2-625a-4aaf-8c72-970382c016ed');\n",
              "          const dataTable =\n",
              "            await google.colab.kernel.invokeFunction('convertToInteractive',\n",
              "                                                     [key], {});\n",
              "          if (!dataTable) return;\n",
              "\n",
              "          const docLinkHtml = 'Like what you see? Visit the ' +\n",
              "            '<a target=\"_blank\" href=https://colab.research.google.com/notebooks/data_table.ipynb>data table notebook</a>'\n",
              "            + ' to learn more about interactive tables.';\n",
              "          element.innerHTML = '';\n",
              "          dataTable['output_type'] = 'display_data';\n",
              "          await google.colab.output.renderOutput(dataTable, element);\n",
              "          const docLink = document.createElement('div');\n",
              "          docLink.innerHTML = docLinkHtml;\n",
              "          element.appendChild(docLink);\n",
              "        }\n",
              "      </script>\n",
              "    </div>\n",
              "  </div>\n",
              "  "
            ],
            "text/plain": [
              "Empty DataFrame\n",
              "Columns: [Pregnancies, Glucose, BloodPressure, SkinThickness, Insulin, BMI, DiabetesPedigreeFunction, Age, Outcome]\n",
              "Index: []"
            ]
          },
          "metadata": {}
        }
      ]
    },
    {
      "cell_type": "code",
      "source": [
        "display(df[(df['Insulin'] > 500) & (df['Outcome'] == 0)])\n",
        "df = df[(df['Insulin'] <= 500) | (df['Outcome'] == 1)]"
      ],
      "metadata": {
        "colab": {
          "base_uri": "https://localhost:8080/",
          "height": 81
        },
        "id": "yUaLijMphAGF",
        "outputId": "c2158539-ddf0-4e6c-acbe-acc4d4c22817"
      },
      "execution_count": 15,
      "outputs": [
        {
          "output_type": "display_data",
          "data": {
            "text/html": [
              "\n",
              "  <div id=\"df-4b4cf649-c7b5-4313-97da-9684a9f53b35\">\n",
              "    <div class=\"colab-df-container\">\n",
              "      <div>\n",
              "<style scoped>\n",
              "    .dataframe tbody tr th:only-of-type {\n",
              "        vertical-align: middle;\n",
              "    }\n",
              "\n",
              "    .dataframe tbody tr th {\n",
              "        vertical-align: top;\n",
              "    }\n",
              "\n",
              "    .dataframe thead th {\n",
              "        text-align: right;\n",
              "    }\n",
              "</style>\n",
              "<table border=\"1\" class=\"dataframe\">\n",
              "  <thead>\n",
              "    <tr style=\"text-align: right;\">\n",
              "      <th></th>\n",
              "      <th>Pregnancies</th>\n",
              "      <th>Glucose</th>\n",
              "      <th>BloodPressure</th>\n",
              "      <th>SkinThickness</th>\n",
              "      <th>Insulin</th>\n",
              "      <th>BMI</th>\n",
              "      <th>DiabetesPedigreeFunction</th>\n",
              "      <th>Age</th>\n",
              "      <th>Outcome</th>\n",
              "    </tr>\n",
              "  </thead>\n",
              "  <tbody>\n",
              "    <tr>\n",
              "      <th>286</th>\n",
              "      <td>5</td>\n",
              "      <td>155</td>\n",
              "      <td>84</td>\n",
              "      <td>44</td>\n",
              "      <td>545</td>\n",
              "      <td>38.7</td>\n",
              "      <td>0.619</td>\n",
              "      <td>34</td>\n",
              "      <td>0</td>\n",
              "    </tr>\n",
              "  </tbody>\n",
              "</table>\n",
              "</div>\n",
              "      <button class=\"colab-df-convert\" onclick=\"convertToInteractive('df-4b4cf649-c7b5-4313-97da-9684a9f53b35')\"\n",
              "              title=\"Convert this dataframe to an interactive table.\"\n",
              "              style=\"display:none;\">\n",
              "        \n",
              "  <svg xmlns=\"http://www.w3.org/2000/svg\" height=\"24px\"viewBox=\"0 0 24 24\"\n",
              "       width=\"24px\">\n",
              "    <path d=\"M0 0h24v24H0V0z\" fill=\"none\"/>\n",
              "    <path d=\"M18.56 5.44l.94 2.06.94-2.06 2.06-.94-2.06-.94-.94-2.06-.94 2.06-2.06.94zm-11 1L8.5 8.5l.94-2.06 2.06-.94-2.06-.94L8.5 2.5l-.94 2.06-2.06.94zm10 10l.94 2.06.94-2.06 2.06-.94-2.06-.94-.94-2.06-.94 2.06-2.06.94z\"/><path d=\"M17.41 7.96l-1.37-1.37c-.4-.4-.92-.59-1.43-.59-.52 0-1.04.2-1.43.59L10.3 9.45l-7.72 7.72c-.78.78-.78 2.05 0 2.83L4 21.41c.39.39.9.59 1.41.59.51 0 1.02-.2 1.41-.59l7.78-7.78 2.81-2.81c.8-.78.8-2.07 0-2.86zM5.41 20L4 18.59l7.72-7.72 1.47 1.35L5.41 20z\"/>\n",
              "  </svg>\n",
              "      </button>\n",
              "      \n",
              "  <style>\n",
              "    .colab-df-container {\n",
              "      display:flex;\n",
              "      flex-wrap:wrap;\n",
              "      gap: 12px;\n",
              "    }\n",
              "\n",
              "    .colab-df-convert {\n",
              "      background-color: #E8F0FE;\n",
              "      border: none;\n",
              "      border-radius: 50%;\n",
              "      cursor: pointer;\n",
              "      display: none;\n",
              "      fill: #1967D2;\n",
              "      height: 32px;\n",
              "      padding: 0 0 0 0;\n",
              "      width: 32px;\n",
              "    }\n",
              "\n",
              "    .colab-df-convert:hover {\n",
              "      background-color: #E2EBFA;\n",
              "      box-shadow: 0px 1px 2px rgba(60, 64, 67, 0.3), 0px 1px 3px 1px rgba(60, 64, 67, 0.15);\n",
              "      fill: #174EA6;\n",
              "    }\n",
              "\n",
              "    [theme=dark] .colab-df-convert {\n",
              "      background-color: #3B4455;\n",
              "      fill: #D2E3FC;\n",
              "    }\n",
              "\n",
              "    [theme=dark] .colab-df-convert:hover {\n",
              "      background-color: #434B5C;\n",
              "      box-shadow: 0px 1px 3px 1px rgba(0, 0, 0, 0.15);\n",
              "      filter: drop-shadow(0px 1px 2px rgba(0, 0, 0, 0.3));\n",
              "      fill: #FFFFFF;\n",
              "    }\n",
              "  </style>\n",
              "\n",
              "      <script>\n",
              "        const buttonEl =\n",
              "          document.querySelector('#df-4b4cf649-c7b5-4313-97da-9684a9f53b35 button.colab-df-convert');\n",
              "        buttonEl.style.display =\n",
              "          google.colab.kernel.accessAllowed ? 'block' : 'none';\n",
              "\n",
              "        async function convertToInteractive(key) {\n",
              "          const element = document.querySelector('#df-4b4cf649-c7b5-4313-97da-9684a9f53b35');\n",
              "          const dataTable =\n",
              "            await google.colab.kernel.invokeFunction('convertToInteractive',\n",
              "                                                     [key], {});\n",
              "          if (!dataTable) return;\n",
              "\n",
              "          const docLinkHtml = 'Like what you see? Visit the ' +\n",
              "            '<a target=\"_blank\" href=https://colab.research.google.com/notebooks/data_table.ipynb>data table notebook</a>'\n",
              "            + ' to learn more about interactive tables.';\n",
              "          element.innerHTML = '';\n",
              "          dataTable['output_type'] = 'display_data';\n",
              "          await google.colab.output.renderOutput(dataTable, element);\n",
              "          const docLink = document.createElement('div');\n",
              "          docLink.innerHTML = docLinkHtml;\n",
              "          element.appendChild(docLink);\n",
              "        }\n",
              "      </script>\n",
              "    </div>\n",
              "  </div>\n",
              "  "
            ],
            "text/plain": [
              "     Pregnancies  Glucose  ...  Age  Outcome\n",
              "286            5      155  ...   34        0\n",
              "\n",
              "[1 rows x 9 columns]"
            ]
          },
          "metadata": {}
        }
      ]
    },
    {
      "cell_type": "code",
      "source": [
        "display(df[(df['BMI'] > 50) & (df['Outcome'] == 0)])\n",
        "df = df[(df['BMI'] <= 50) | (df['Outcome'] == 1)]"
      ],
      "metadata": {
        "colab": {
          "base_uri": "https://localhost:8080/",
          "height": 81
        },
        "id": "dvwjcPX6jGOE",
        "outputId": "0129d0c7-35cc-4671-8f93-31d4792f2f54"
      },
      "execution_count": 16,
      "outputs": [
        {
          "output_type": "display_data",
          "data": {
            "text/html": [
              "\n",
              "  <div id=\"df-813a4f97-242e-4e6e-a8a5-9887f435357e\">\n",
              "    <div class=\"colab-df-container\">\n",
              "      <div>\n",
              "<style scoped>\n",
              "    .dataframe tbody tr th:only-of-type {\n",
              "        vertical-align: middle;\n",
              "    }\n",
              "\n",
              "    .dataframe tbody tr th {\n",
              "        vertical-align: top;\n",
              "    }\n",
              "\n",
              "    .dataframe thead th {\n",
              "        text-align: right;\n",
              "    }\n",
              "</style>\n",
              "<table border=\"1\" class=\"dataframe\">\n",
              "  <thead>\n",
              "    <tr style=\"text-align: right;\">\n",
              "      <th></th>\n",
              "      <th>Pregnancies</th>\n",
              "      <th>Glucose</th>\n",
              "      <th>BloodPressure</th>\n",
              "      <th>SkinThickness</th>\n",
              "      <th>Insulin</th>\n",
              "      <th>BMI</th>\n",
              "      <th>DiabetesPedigreeFunction</th>\n",
              "      <th>Age</th>\n",
              "      <th>Outcome</th>\n",
              "    </tr>\n",
              "  </thead>\n",
              "  <tbody>\n",
              "    <tr>\n",
              "      <th>673</th>\n",
              "      <td>3</td>\n",
              "      <td>123</td>\n",
              "      <td>100</td>\n",
              "      <td>35</td>\n",
              "      <td>240</td>\n",
              "      <td>57.3</td>\n",
              "      <td>0.88</td>\n",
              "      <td>22</td>\n",
              "      <td>0</td>\n",
              "    </tr>\n",
              "  </tbody>\n",
              "</table>\n",
              "</div>\n",
              "      <button class=\"colab-df-convert\" onclick=\"convertToInteractive('df-813a4f97-242e-4e6e-a8a5-9887f435357e')\"\n",
              "              title=\"Convert this dataframe to an interactive table.\"\n",
              "              style=\"display:none;\">\n",
              "        \n",
              "  <svg xmlns=\"http://www.w3.org/2000/svg\" height=\"24px\"viewBox=\"0 0 24 24\"\n",
              "       width=\"24px\">\n",
              "    <path d=\"M0 0h24v24H0V0z\" fill=\"none\"/>\n",
              "    <path d=\"M18.56 5.44l.94 2.06.94-2.06 2.06-.94-2.06-.94-.94-2.06-.94 2.06-2.06.94zm-11 1L8.5 8.5l.94-2.06 2.06-.94-2.06-.94L8.5 2.5l-.94 2.06-2.06.94zm10 10l.94 2.06.94-2.06 2.06-.94-2.06-.94-.94-2.06-.94 2.06-2.06.94z\"/><path d=\"M17.41 7.96l-1.37-1.37c-.4-.4-.92-.59-1.43-.59-.52 0-1.04.2-1.43.59L10.3 9.45l-7.72 7.72c-.78.78-.78 2.05 0 2.83L4 21.41c.39.39.9.59 1.41.59.51 0 1.02-.2 1.41-.59l7.78-7.78 2.81-2.81c.8-.78.8-2.07 0-2.86zM5.41 20L4 18.59l7.72-7.72 1.47 1.35L5.41 20z\"/>\n",
              "  </svg>\n",
              "      </button>\n",
              "      \n",
              "  <style>\n",
              "    .colab-df-container {\n",
              "      display:flex;\n",
              "      flex-wrap:wrap;\n",
              "      gap: 12px;\n",
              "    }\n",
              "\n",
              "    .colab-df-convert {\n",
              "      background-color: #E8F0FE;\n",
              "      border: none;\n",
              "      border-radius: 50%;\n",
              "      cursor: pointer;\n",
              "      display: none;\n",
              "      fill: #1967D2;\n",
              "      height: 32px;\n",
              "      padding: 0 0 0 0;\n",
              "      width: 32px;\n",
              "    }\n",
              "\n",
              "    .colab-df-convert:hover {\n",
              "      background-color: #E2EBFA;\n",
              "      box-shadow: 0px 1px 2px rgba(60, 64, 67, 0.3), 0px 1px 3px 1px rgba(60, 64, 67, 0.15);\n",
              "      fill: #174EA6;\n",
              "    }\n",
              "\n",
              "    [theme=dark] .colab-df-convert {\n",
              "      background-color: #3B4455;\n",
              "      fill: #D2E3FC;\n",
              "    }\n",
              "\n",
              "    [theme=dark] .colab-df-convert:hover {\n",
              "      background-color: #434B5C;\n",
              "      box-shadow: 0px 1px 3px 1px rgba(0, 0, 0, 0.15);\n",
              "      filter: drop-shadow(0px 1px 2px rgba(0, 0, 0, 0.3));\n",
              "      fill: #FFFFFF;\n",
              "    }\n",
              "  </style>\n",
              "\n",
              "      <script>\n",
              "        const buttonEl =\n",
              "          document.querySelector('#df-813a4f97-242e-4e6e-a8a5-9887f435357e button.colab-df-convert');\n",
              "        buttonEl.style.display =\n",
              "          google.colab.kernel.accessAllowed ? 'block' : 'none';\n",
              "\n",
              "        async function convertToInteractive(key) {\n",
              "          const element = document.querySelector('#df-813a4f97-242e-4e6e-a8a5-9887f435357e');\n",
              "          const dataTable =\n",
              "            await google.colab.kernel.invokeFunction('convertToInteractive',\n",
              "                                                     [key], {});\n",
              "          if (!dataTable) return;\n",
              "\n",
              "          const docLinkHtml = 'Like what you see? Visit the ' +\n",
              "            '<a target=\"_blank\" href=https://colab.research.google.com/notebooks/data_table.ipynb>data table notebook</a>'\n",
              "            + ' to learn more about interactive tables.';\n",
              "          element.innerHTML = '';\n",
              "          dataTable['output_type'] = 'display_data';\n",
              "          await google.colab.output.renderOutput(dataTable, element);\n",
              "          const docLink = document.createElement('div');\n",
              "          docLink.innerHTML = docLinkHtml;\n",
              "          element.appendChild(docLink);\n",
              "        }\n",
              "      </script>\n",
              "    </div>\n",
              "  </div>\n",
              "  "
            ],
            "text/plain": [
              "     Pregnancies  Glucose  ...  Age  Outcome\n",
              "673            3      123  ...   22        0\n",
              "\n",
              "[1 rows x 9 columns]"
            ]
          },
          "metadata": {}
        }
      ]
    },
    {
      "cell_type": "code",
      "source": [
        "df.describe()"
      ],
      "metadata": {
        "colab": {
          "base_uri": "https://localhost:8080/",
          "height": 300
        },
        "id": "rvDYBnZHmQYb",
        "outputId": "a21d998b-61a8-4039-a909-38d622332064"
      },
      "execution_count": 17,
      "outputs": [
        {
          "output_type": "execute_result",
          "data": {
            "text/html": [
              "\n",
              "  <div id=\"df-ec87d1ce-3368-4b13-a832-4425c40eeaf3\">\n",
              "    <div class=\"colab-df-container\">\n",
              "      <div>\n",
              "<style scoped>\n",
              "    .dataframe tbody tr th:only-of-type {\n",
              "        vertical-align: middle;\n",
              "    }\n",
              "\n",
              "    .dataframe tbody tr th {\n",
              "        vertical-align: top;\n",
              "    }\n",
              "\n",
              "    .dataframe thead th {\n",
              "        text-align: right;\n",
              "    }\n",
              "</style>\n",
              "<table border=\"1\" class=\"dataframe\">\n",
              "  <thead>\n",
              "    <tr style=\"text-align: right;\">\n",
              "      <th></th>\n",
              "      <th>Pregnancies</th>\n",
              "      <th>Glucose</th>\n",
              "      <th>BloodPressure</th>\n",
              "      <th>SkinThickness</th>\n",
              "      <th>Insulin</th>\n",
              "      <th>BMI</th>\n",
              "      <th>DiabetesPedigreeFunction</th>\n",
              "      <th>Age</th>\n",
              "      <th>Outcome</th>\n",
              "    </tr>\n",
              "  </thead>\n",
              "  <tbody>\n",
              "    <tr>\n",
              "      <th>count</th>\n",
              "      <td>718.000000</td>\n",
              "      <td>718.000000</td>\n",
              "      <td>718.000000</td>\n",
              "      <td>718.000000</td>\n",
              "      <td>718.000000</td>\n",
              "      <td>718.000000</td>\n",
              "      <td>718.000000</td>\n",
              "      <td>718.000000</td>\n",
              "      <td>718.000000</td>\n",
              "    </tr>\n",
              "    <tr>\n",
              "      <th>mean</th>\n",
              "      <td>3.811978</td>\n",
              "      <td>120.683844</td>\n",
              "      <td>69.470752</td>\n",
              "      <td>20.278552</td>\n",
              "      <td>78.803621</td>\n",
              "      <td>31.955571</td>\n",
              "      <td>0.464336</td>\n",
              "      <td>32.997214</td>\n",
              "      <td>0.346797</td>\n",
              "    </tr>\n",
              "    <tr>\n",
              "      <th>std</th>\n",
              "      <td>3.246201</td>\n",
              "      <td>31.410967</td>\n",
              "      <td>18.110419</td>\n",
              "      <td>15.613010</td>\n",
              "      <td>108.080458</td>\n",
              "      <td>7.202455</td>\n",
              "      <td>0.319024</td>\n",
              "      <td>11.409824</td>\n",
              "      <td>0.476282</td>\n",
              "    </tr>\n",
              "    <tr>\n",
              "      <th>min</th>\n",
              "      <td>0.000000</td>\n",
              "      <td>0.000000</td>\n",
              "      <td>0.000000</td>\n",
              "      <td>0.000000</td>\n",
              "      <td>0.000000</td>\n",
              "      <td>0.000000</td>\n",
              "      <td>0.078000</td>\n",
              "      <td>21.000000</td>\n",
              "      <td>0.000000</td>\n",
              "    </tr>\n",
              "    <tr>\n",
              "      <th>25%</th>\n",
              "      <td>1.000000</td>\n",
              "      <td>99.000000</td>\n",
              "      <td>64.000000</td>\n",
              "      <td>0.000000</td>\n",
              "      <td>0.000000</td>\n",
              "      <td>27.400000</td>\n",
              "      <td>0.238250</td>\n",
              "      <td>24.000000</td>\n",
              "      <td>0.000000</td>\n",
              "    </tr>\n",
              "    <tr>\n",
              "      <th>50%</th>\n",
              "      <td>3.000000</td>\n",
              "      <td>116.500000</td>\n",
              "      <td>72.000000</td>\n",
              "      <td>23.000000</td>\n",
              "      <td>36.500000</td>\n",
              "      <td>32.000000</td>\n",
              "      <td>0.365000</td>\n",
              "      <td>29.000000</td>\n",
              "      <td>0.000000</td>\n",
              "    </tr>\n",
              "    <tr>\n",
              "      <th>75%</th>\n",
              "      <td>6.000000</td>\n",
              "      <td>140.000000</td>\n",
              "      <td>80.000000</td>\n",
              "      <td>32.000000</td>\n",
              "      <td>130.000000</td>\n",
              "      <td>36.375000</td>\n",
              "      <td>0.613750</td>\n",
              "      <td>40.000000</td>\n",
              "      <td>1.000000</td>\n",
              "    </tr>\n",
              "    <tr>\n",
              "      <th>max</th>\n",
              "      <td>13.000000</td>\n",
              "      <td>199.000000</td>\n",
              "      <td>110.000000</td>\n",
              "      <td>60.000000</td>\n",
              "      <td>600.000000</td>\n",
              "      <td>52.300000</td>\n",
              "      <td>2.288000</td>\n",
              "      <td>70.000000</td>\n",
              "      <td>1.000000</td>\n",
              "    </tr>\n",
              "  </tbody>\n",
              "</table>\n",
              "</div>\n",
              "      <button class=\"colab-df-convert\" onclick=\"convertToInteractive('df-ec87d1ce-3368-4b13-a832-4425c40eeaf3')\"\n",
              "              title=\"Convert this dataframe to an interactive table.\"\n",
              "              style=\"display:none;\">\n",
              "        \n",
              "  <svg xmlns=\"http://www.w3.org/2000/svg\" height=\"24px\"viewBox=\"0 0 24 24\"\n",
              "       width=\"24px\">\n",
              "    <path d=\"M0 0h24v24H0V0z\" fill=\"none\"/>\n",
              "    <path d=\"M18.56 5.44l.94 2.06.94-2.06 2.06-.94-2.06-.94-.94-2.06-.94 2.06-2.06.94zm-11 1L8.5 8.5l.94-2.06 2.06-.94-2.06-.94L8.5 2.5l-.94 2.06-2.06.94zm10 10l.94 2.06.94-2.06 2.06-.94-2.06-.94-.94-2.06-.94 2.06-2.06.94z\"/><path d=\"M17.41 7.96l-1.37-1.37c-.4-.4-.92-.59-1.43-.59-.52 0-1.04.2-1.43.59L10.3 9.45l-7.72 7.72c-.78.78-.78 2.05 0 2.83L4 21.41c.39.39.9.59 1.41.59.51 0 1.02-.2 1.41-.59l7.78-7.78 2.81-2.81c.8-.78.8-2.07 0-2.86zM5.41 20L4 18.59l7.72-7.72 1.47 1.35L5.41 20z\"/>\n",
              "  </svg>\n",
              "      </button>\n",
              "      \n",
              "  <style>\n",
              "    .colab-df-container {\n",
              "      display:flex;\n",
              "      flex-wrap:wrap;\n",
              "      gap: 12px;\n",
              "    }\n",
              "\n",
              "    .colab-df-convert {\n",
              "      background-color: #E8F0FE;\n",
              "      border: none;\n",
              "      border-radius: 50%;\n",
              "      cursor: pointer;\n",
              "      display: none;\n",
              "      fill: #1967D2;\n",
              "      height: 32px;\n",
              "      padding: 0 0 0 0;\n",
              "      width: 32px;\n",
              "    }\n",
              "\n",
              "    .colab-df-convert:hover {\n",
              "      background-color: #E2EBFA;\n",
              "      box-shadow: 0px 1px 2px rgba(60, 64, 67, 0.3), 0px 1px 3px 1px rgba(60, 64, 67, 0.15);\n",
              "      fill: #174EA6;\n",
              "    }\n",
              "\n",
              "    [theme=dark] .colab-df-convert {\n",
              "      background-color: #3B4455;\n",
              "      fill: #D2E3FC;\n",
              "    }\n",
              "\n",
              "    [theme=dark] .colab-df-convert:hover {\n",
              "      background-color: #434B5C;\n",
              "      box-shadow: 0px 1px 3px 1px rgba(0, 0, 0, 0.15);\n",
              "      filter: drop-shadow(0px 1px 2px rgba(0, 0, 0, 0.3));\n",
              "      fill: #FFFFFF;\n",
              "    }\n",
              "  </style>\n",
              "\n",
              "      <script>\n",
              "        const buttonEl =\n",
              "          document.querySelector('#df-ec87d1ce-3368-4b13-a832-4425c40eeaf3 button.colab-df-convert');\n",
              "        buttonEl.style.display =\n",
              "          google.colab.kernel.accessAllowed ? 'block' : 'none';\n",
              "\n",
              "        async function convertToInteractive(key) {\n",
              "          const element = document.querySelector('#df-ec87d1ce-3368-4b13-a832-4425c40eeaf3');\n",
              "          const dataTable =\n",
              "            await google.colab.kernel.invokeFunction('convertToInteractive',\n",
              "                                                     [key], {});\n",
              "          if (!dataTable) return;\n",
              "\n",
              "          const docLinkHtml = 'Like what you see? Visit the ' +\n",
              "            '<a target=\"_blank\" href=https://colab.research.google.com/notebooks/data_table.ipynb>data table notebook</a>'\n",
              "            + ' to learn more about interactive tables.';\n",
              "          element.innerHTML = '';\n",
              "          dataTable['output_type'] = 'display_data';\n",
              "          await google.colab.output.renderOutput(dataTable, element);\n",
              "          const docLink = document.createElement('div');\n",
              "          docLink.innerHTML = docLinkHtml;\n",
              "          element.appendChild(docLink);\n",
              "        }\n",
              "      </script>\n",
              "    </div>\n",
              "  </div>\n",
              "  "
            ],
            "text/plain": [
              "       Pregnancies     Glucose  ...         Age     Outcome\n",
              "count   718.000000  718.000000  ...  718.000000  718.000000\n",
              "mean      3.811978  120.683844  ...   32.997214    0.346797\n",
              "std       3.246201   31.410967  ...   11.409824    0.476282\n",
              "min       0.000000    0.000000  ...   21.000000    0.000000\n",
              "25%       1.000000   99.000000  ...   24.000000    0.000000\n",
              "50%       3.000000  116.500000  ...   29.000000    0.000000\n",
              "75%       6.000000  140.000000  ...   40.000000    1.000000\n",
              "max      13.000000  199.000000  ...   70.000000    1.000000\n",
              "\n",
              "[8 rows x 9 columns]"
            ]
          },
          "metadata": {},
          "execution_count": 17
        }
      ]
    },
    {
      "cell_type": "markdown",
      "source": [
        "# Removing missing values"
      ],
      "metadata": {
        "id": "i8NSUePKppEF"
      }
    },
    {
      "cell_type": "code",
      "source": [
        "print('      Glucose missing values: ',len(df[df['Glucose'] == 0.0]))\n",
        "print('BloodPressure missing values: ',len(df[df['BloodPressure'] == 0.0]))\n",
        "print('SkinThickness missing values: ',len(df[df['SkinThickness'] == 0.0]))\n",
        "print('          BMI missing values: ',len(df[df['BMI'] == 0.0]))"
      ],
      "metadata": {
        "colab": {
          "base_uri": "https://localhost:8080/"
        },
        "id": "yLpjTpdTzvmN",
        "outputId": "5da08238-34b5-4af0-edfe-d6e81c19d3c8"
      },
      "execution_count": 18,
      "outputs": [
        {
          "output_type": "stream",
          "name": "stdout",
          "text": [
            "      Glucose missing values:  5\n",
            "BloodPressure missing values:  29\n",
            "SkinThickness missing values:  214\n",
            "          BMI missing values:  7\n"
          ]
        }
      ]
    },
    {
      "cell_type": "code",
      "source": [
        "df.loc[df['Glucose'] == 0.0, 'Glucose'] = np.nan\n",
        "df.loc[df['BMI'] == 0.0, 'BMI'] = np.nan\n",
        "df.loc[df['SkinThickness'] == 0.0, 'SkinThickness'] = np.nan\n",
        "df.loc[df['BloodPressure'] == 0.0, 'BloodPressure'] = np.nan\n",
        "df = df.interpolate()"
      ],
      "metadata": {
        "id": "ONvifZ80GZIJ"
      },
      "execution_count": 19,
      "outputs": []
    },
    {
      "cell_type": "markdown",
      "source": [
        "# Feature engineering"
      ],
      "metadata": {
        "id": "WY8DzokOpjDk"
      }
    },
    {
      "cell_type": "code",
      "source": [
        "X = df.drop(columns=['Outcome'])\n",
        "y = df[['Outcome']]\n",
        "\n",
        "display(X.head())\n",
        "display(y.head())"
      ],
      "metadata": {
        "colab": {
          "base_uri": "https://localhost:8080/",
          "height": 396
        },
        "id": "J2Sp8LRL7d4H",
        "outputId": "c8a9b829-89a7-4be6-c532-95cd74020af3"
      },
      "execution_count": 20,
      "outputs": [
        {
          "output_type": "display_data",
          "data": {
            "text/html": [
              "\n",
              "  <div id=\"df-6fae125c-9acb-4b39-9ac1-ca4536f18ca6\">\n",
              "    <div class=\"colab-df-container\">\n",
              "      <div>\n",
              "<style scoped>\n",
              "    .dataframe tbody tr th:only-of-type {\n",
              "        vertical-align: middle;\n",
              "    }\n",
              "\n",
              "    .dataframe tbody tr th {\n",
              "        vertical-align: top;\n",
              "    }\n",
              "\n",
              "    .dataframe thead th {\n",
              "        text-align: right;\n",
              "    }\n",
              "</style>\n",
              "<table border=\"1\" class=\"dataframe\">\n",
              "  <thead>\n",
              "    <tr style=\"text-align: right;\">\n",
              "      <th></th>\n",
              "      <th>Pregnancies</th>\n",
              "      <th>Glucose</th>\n",
              "      <th>BloodPressure</th>\n",
              "      <th>SkinThickness</th>\n",
              "      <th>Insulin</th>\n",
              "      <th>BMI</th>\n",
              "      <th>DiabetesPedigreeFunction</th>\n",
              "      <th>Age</th>\n",
              "    </tr>\n",
              "  </thead>\n",
              "  <tbody>\n",
              "    <tr>\n",
              "      <th>0</th>\n",
              "      <td>6</td>\n",
              "      <td>148.0</td>\n",
              "      <td>72.0</td>\n",
              "      <td>35.0</td>\n",
              "      <td>0</td>\n",
              "      <td>33.6</td>\n",
              "      <td>0.627</td>\n",
              "      <td>50</td>\n",
              "    </tr>\n",
              "    <tr>\n",
              "      <th>1</th>\n",
              "      <td>1</td>\n",
              "      <td>85.0</td>\n",
              "      <td>66.0</td>\n",
              "      <td>29.0</td>\n",
              "      <td>0</td>\n",
              "      <td>26.6</td>\n",
              "      <td>0.351</td>\n",
              "      <td>31</td>\n",
              "    </tr>\n",
              "    <tr>\n",
              "      <th>2</th>\n",
              "      <td>8</td>\n",
              "      <td>183.0</td>\n",
              "      <td>64.0</td>\n",
              "      <td>26.0</td>\n",
              "      <td>0</td>\n",
              "      <td>23.3</td>\n",
              "      <td>0.672</td>\n",
              "      <td>32</td>\n",
              "    </tr>\n",
              "    <tr>\n",
              "      <th>3</th>\n",
              "      <td>1</td>\n",
              "      <td>89.0</td>\n",
              "      <td>66.0</td>\n",
              "      <td>23.0</td>\n",
              "      <td>94</td>\n",
              "      <td>28.1</td>\n",
              "      <td>0.167</td>\n",
              "      <td>21</td>\n",
              "    </tr>\n",
              "    <tr>\n",
              "      <th>4</th>\n",
              "      <td>0</td>\n",
              "      <td>137.0</td>\n",
              "      <td>40.0</td>\n",
              "      <td>35.0</td>\n",
              "      <td>168</td>\n",
              "      <td>43.1</td>\n",
              "      <td>2.288</td>\n",
              "      <td>33</td>\n",
              "    </tr>\n",
              "  </tbody>\n",
              "</table>\n",
              "</div>\n",
              "      <button class=\"colab-df-convert\" onclick=\"convertToInteractive('df-6fae125c-9acb-4b39-9ac1-ca4536f18ca6')\"\n",
              "              title=\"Convert this dataframe to an interactive table.\"\n",
              "              style=\"display:none;\">\n",
              "        \n",
              "  <svg xmlns=\"http://www.w3.org/2000/svg\" height=\"24px\"viewBox=\"0 0 24 24\"\n",
              "       width=\"24px\">\n",
              "    <path d=\"M0 0h24v24H0V0z\" fill=\"none\"/>\n",
              "    <path d=\"M18.56 5.44l.94 2.06.94-2.06 2.06-.94-2.06-.94-.94-2.06-.94 2.06-2.06.94zm-11 1L8.5 8.5l.94-2.06 2.06-.94-2.06-.94L8.5 2.5l-.94 2.06-2.06.94zm10 10l.94 2.06.94-2.06 2.06-.94-2.06-.94-.94-2.06-.94 2.06-2.06.94z\"/><path d=\"M17.41 7.96l-1.37-1.37c-.4-.4-.92-.59-1.43-.59-.52 0-1.04.2-1.43.59L10.3 9.45l-7.72 7.72c-.78.78-.78 2.05 0 2.83L4 21.41c.39.39.9.59 1.41.59.51 0 1.02-.2 1.41-.59l7.78-7.78 2.81-2.81c.8-.78.8-2.07 0-2.86zM5.41 20L4 18.59l7.72-7.72 1.47 1.35L5.41 20z\"/>\n",
              "  </svg>\n",
              "      </button>\n",
              "      \n",
              "  <style>\n",
              "    .colab-df-container {\n",
              "      display:flex;\n",
              "      flex-wrap:wrap;\n",
              "      gap: 12px;\n",
              "    }\n",
              "\n",
              "    .colab-df-convert {\n",
              "      background-color: #E8F0FE;\n",
              "      border: none;\n",
              "      border-radius: 50%;\n",
              "      cursor: pointer;\n",
              "      display: none;\n",
              "      fill: #1967D2;\n",
              "      height: 32px;\n",
              "      padding: 0 0 0 0;\n",
              "      width: 32px;\n",
              "    }\n",
              "\n",
              "    .colab-df-convert:hover {\n",
              "      background-color: #E2EBFA;\n",
              "      box-shadow: 0px 1px 2px rgba(60, 64, 67, 0.3), 0px 1px 3px 1px rgba(60, 64, 67, 0.15);\n",
              "      fill: #174EA6;\n",
              "    }\n",
              "\n",
              "    [theme=dark] .colab-df-convert {\n",
              "      background-color: #3B4455;\n",
              "      fill: #D2E3FC;\n",
              "    }\n",
              "\n",
              "    [theme=dark] .colab-df-convert:hover {\n",
              "      background-color: #434B5C;\n",
              "      box-shadow: 0px 1px 3px 1px rgba(0, 0, 0, 0.15);\n",
              "      filter: drop-shadow(0px 1px 2px rgba(0, 0, 0, 0.3));\n",
              "      fill: #FFFFFF;\n",
              "    }\n",
              "  </style>\n",
              "\n",
              "      <script>\n",
              "        const buttonEl =\n",
              "          document.querySelector('#df-6fae125c-9acb-4b39-9ac1-ca4536f18ca6 button.colab-df-convert');\n",
              "        buttonEl.style.display =\n",
              "          google.colab.kernel.accessAllowed ? 'block' : 'none';\n",
              "\n",
              "        async function convertToInteractive(key) {\n",
              "          const element = document.querySelector('#df-6fae125c-9acb-4b39-9ac1-ca4536f18ca6');\n",
              "          const dataTable =\n",
              "            await google.colab.kernel.invokeFunction('convertToInteractive',\n",
              "                                                     [key], {});\n",
              "          if (!dataTable) return;\n",
              "\n",
              "          const docLinkHtml = 'Like what you see? Visit the ' +\n",
              "            '<a target=\"_blank\" href=https://colab.research.google.com/notebooks/data_table.ipynb>data table notebook</a>'\n",
              "            + ' to learn more about interactive tables.';\n",
              "          element.innerHTML = '';\n",
              "          dataTable['output_type'] = 'display_data';\n",
              "          await google.colab.output.renderOutput(dataTable, element);\n",
              "          const docLink = document.createElement('div');\n",
              "          docLink.innerHTML = docLinkHtml;\n",
              "          element.appendChild(docLink);\n",
              "        }\n",
              "      </script>\n",
              "    </div>\n",
              "  </div>\n",
              "  "
            ],
            "text/plain": [
              "   Pregnancies  Glucose  BloodPressure  ...   BMI  DiabetesPedigreeFunction  Age\n",
              "0            6    148.0           72.0  ...  33.6                     0.627   50\n",
              "1            1     85.0           66.0  ...  26.6                     0.351   31\n",
              "2            8    183.0           64.0  ...  23.3                     0.672   32\n",
              "3            1     89.0           66.0  ...  28.1                     0.167   21\n",
              "4            0    137.0           40.0  ...  43.1                     2.288   33\n",
              "\n",
              "[5 rows x 8 columns]"
            ]
          },
          "metadata": {}
        },
        {
          "output_type": "display_data",
          "data": {
            "text/html": [
              "\n",
              "  <div id=\"df-ba796946-a49e-4e20-b5bd-b4960833e7ca\">\n",
              "    <div class=\"colab-df-container\">\n",
              "      <div>\n",
              "<style scoped>\n",
              "    .dataframe tbody tr th:only-of-type {\n",
              "        vertical-align: middle;\n",
              "    }\n",
              "\n",
              "    .dataframe tbody tr th {\n",
              "        vertical-align: top;\n",
              "    }\n",
              "\n",
              "    .dataframe thead th {\n",
              "        text-align: right;\n",
              "    }\n",
              "</style>\n",
              "<table border=\"1\" class=\"dataframe\">\n",
              "  <thead>\n",
              "    <tr style=\"text-align: right;\">\n",
              "      <th></th>\n",
              "      <th>Outcome</th>\n",
              "    </tr>\n",
              "  </thead>\n",
              "  <tbody>\n",
              "    <tr>\n",
              "      <th>0</th>\n",
              "      <td>1</td>\n",
              "    </tr>\n",
              "    <tr>\n",
              "      <th>1</th>\n",
              "      <td>0</td>\n",
              "    </tr>\n",
              "    <tr>\n",
              "      <th>2</th>\n",
              "      <td>1</td>\n",
              "    </tr>\n",
              "    <tr>\n",
              "      <th>3</th>\n",
              "      <td>0</td>\n",
              "    </tr>\n",
              "    <tr>\n",
              "      <th>4</th>\n",
              "      <td>1</td>\n",
              "    </tr>\n",
              "  </tbody>\n",
              "</table>\n",
              "</div>\n",
              "      <button class=\"colab-df-convert\" onclick=\"convertToInteractive('df-ba796946-a49e-4e20-b5bd-b4960833e7ca')\"\n",
              "              title=\"Convert this dataframe to an interactive table.\"\n",
              "              style=\"display:none;\">\n",
              "        \n",
              "  <svg xmlns=\"http://www.w3.org/2000/svg\" height=\"24px\"viewBox=\"0 0 24 24\"\n",
              "       width=\"24px\">\n",
              "    <path d=\"M0 0h24v24H0V0z\" fill=\"none\"/>\n",
              "    <path d=\"M18.56 5.44l.94 2.06.94-2.06 2.06-.94-2.06-.94-.94-2.06-.94 2.06-2.06.94zm-11 1L8.5 8.5l.94-2.06 2.06-.94-2.06-.94L8.5 2.5l-.94 2.06-2.06.94zm10 10l.94 2.06.94-2.06 2.06-.94-2.06-.94-.94-2.06-.94 2.06-2.06.94z\"/><path d=\"M17.41 7.96l-1.37-1.37c-.4-.4-.92-.59-1.43-.59-.52 0-1.04.2-1.43.59L10.3 9.45l-7.72 7.72c-.78.78-.78 2.05 0 2.83L4 21.41c.39.39.9.59 1.41.59.51 0 1.02-.2 1.41-.59l7.78-7.78 2.81-2.81c.8-.78.8-2.07 0-2.86zM5.41 20L4 18.59l7.72-7.72 1.47 1.35L5.41 20z\"/>\n",
              "  </svg>\n",
              "      </button>\n",
              "      \n",
              "  <style>\n",
              "    .colab-df-container {\n",
              "      display:flex;\n",
              "      flex-wrap:wrap;\n",
              "      gap: 12px;\n",
              "    }\n",
              "\n",
              "    .colab-df-convert {\n",
              "      background-color: #E8F0FE;\n",
              "      border: none;\n",
              "      border-radius: 50%;\n",
              "      cursor: pointer;\n",
              "      display: none;\n",
              "      fill: #1967D2;\n",
              "      height: 32px;\n",
              "      padding: 0 0 0 0;\n",
              "      width: 32px;\n",
              "    }\n",
              "\n",
              "    .colab-df-convert:hover {\n",
              "      background-color: #E2EBFA;\n",
              "      box-shadow: 0px 1px 2px rgba(60, 64, 67, 0.3), 0px 1px 3px 1px rgba(60, 64, 67, 0.15);\n",
              "      fill: #174EA6;\n",
              "    }\n",
              "\n",
              "    [theme=dark] .colab-df-convert {\n",
              "      background-color: #3B4455;\n",
              "      fill: #D2E3FC;\n",
              "    }\n",
              "\n",
              "    [theme=dark] .colab-df-convert:hover {\n",
              "      background-color: #434B5C;\n",
              "      box-shadow: 0px 1px 3px 1px rgba(0, 0, 0, 0.15);\n",
              "      filter: drop-shadow(0px 1px 2px rgba(0, 0, 0, 0.3));\n",
              "      fill: #FFFFFF;\n",
              "    }\n",
              "  </style>\n",
              "\n",
              "      <script>\n",
              "        const buttonEl =\n",
              "          document.querySelector('#df-ba796946-a49e-4e20-b5bd-b4960833e7ca button.colab-df-convert');\n",
              "        buttonEl.style.display =\n",
              "          google.colab.kernel.accessAllowed ? 'block' : 'none';\n",
              "\n",
              "        async function convertToInteractive(key) {\n",
              "          const element = document.querySelector('#df-ba796946-a49e-4e20-b5bd-b4960833e7ca');\n",
              "          const dataTable =\n",
              "            await google.colab.kernel.invokeFunction('convertToInteractive',\n",
              "                                                     [key], {});\n",
              "          if (!dataTable) return;\n",
              "\n",
              "          const docLinkHtml = 'Like what you see? Visit the ' +\n",
              "            '<a target=\"_blank\" href=https://colab.research.google.com/notebooks/data_table.ipynb>data table notebook</a>'\n",
              "            + ' to learn more about interactive tables.';\n",
              "          element.innerHTML = '';\n",
              "          dataTable['output_type'] = 'display_data';\n",
              "          await google.colab.output.renderOutput(dataTable, element);\n",
              "          const docLink = document.createElement('div');\n",
              "          docLink.innerHTML = docLinkHtml;\n",
              "          element.appendChild(docLink);\n",
              "        }\n",
              "      </script>\n",
              "    </div>\n",
              "  </div>\n",
              "  "
            ],
            "text/plain": [
              "   Outcome\n",
              "0        1\n",
              "1        0\n",
              "2        1\n",
              "3        0\n",
              "4        1"
            ]
          },
          "metadata": {}
        }
      ]
    },
    {
      "cell_type": "markdown",
      "source": [
        "# **PROMIJENI U AUTOFEAT CLASSIFIER**"
      ],
      "metadata": {
        "id": "pn4PeASP3gsB"
      }
    },
    {
      "cell_type": "code",
      "source": [
        "model = AutoFeatRegressor(verbose=1, feateng_steps=3) #AutoFeatClassifier(verbose=1, feateng_steps=3)\n",
        "X = model.fit_transform(X, y.values.reshape(-1))"
      ],
      "metadata": {
        "colab": {
          "base_uri": "https://localhost:8080/"
        },
        "id": "pEgmqvOb7L2Z",
        "outputId": "c1a5e499-f6b8-45fb-a28c-07634c94c821"
      },
      "execution_count": 21,
      "outputs": [
        {
          "output_type": "stream",
          "name": "stdout",
          "text": [
            "[AutoFeat] The 3 step feature engineering process could generate up to 38556 features.\n",
            "[AutoFeat] With 718 data points this new feature matrix would use about 0.11 gb of space.\n",
            "[feateng] Step 1: transformation of original features\n",
            "[feateng]               0/              8 features transformed\r[feateng] Generated 37 transformed features from 8 original features - done.\n",
            "[feateng] Step 2: first combination of features\n",
            "[feateng] Generated 3875 feature combinations from 990 original feature tuples - done.\n",
            "[feateng] Step 3: transformation of new features\n",
            "[feateng] Generated 14500 transformed features from 3875 original features - done.\n",
            "[feateng] Generated altogether 20138 new features in 3 steps\n",
            "[feateng] Removing correlated features, as well as additions at the highest level\n",
            "[feateng] Generated a total of 8148 additional features\n",
            "[featsel] Scaling data...done.\n",
            "[featsel] Feature selection run 1/5\n",
            "[featsel] Feature selection run 2/5\n",
            "[featsel] Feature selection run 3/5\n",
            "[featsel] Feature selection run 4/5\n",
            "[featsel] Feature selection run 5/5\n",
            "[featsel] 22 features after 5 feature selection runs\n",
            "[featsel] 12 features after correlation filtering\n",
            "[featsel] 7 features after noise filtering\n",
            "[AutoFeat] Computing 7 new features.\n",
            "[AutoFeat]     7/    7 new features ...done.\n",
            "[AutoFeat] Final dataframe with 15 feature columns (7 new).\n",
            "[AutoFeat] Training final regression model.\n",
            "[AutoFeat] Trained model: largest coefficients:\n",
            "-1.039696360968838\n",
            "-156.024771 * 1/(Age**2 + Pregnancies**3)\n",
            "0.128220 * log(sqrt(DiabetesPedigreeFunction)*Glucose**2)\n",
            "0.021742 * (sqrt(Pregnancies) + log(DiabetesPedigreeFunction))**2\n",
            "-0.006147 * 1/(-sqrt(Pregnancies) + log(SkinThickness))\n",
            "0.000092 * BMI*Glucose\n",
            "[AutoFeat] Final score: 0.3582\n"
          ]
        }
      ]
    },
    {
      "cell_type": "code",
      "source": [
        "plt.figure(figsize=(10, 10))\n",
        "sb.heatmap(pd.concat([X, y]).corr(),  annot=True)\n",
        "plt.title('Correlation matrix for the Pima Indians dataset')\n",
        "plt.show()"
      ],
      "metadata": {
        "colab": {
          "base_uri": "https://localhost:8080/",
          "height": 878
        },
        "id": "gohFYzVnlKE7",
        "outputId": "cd2adf4d-a0fa-4a0b-bdbb-e0cfebb8a895"
      },
      "execution_count": 27,
      "outputs": [
        {
          "output_type": "display_data",
          "data": {
            "image/png": "[encoded data removed]",
            "text/plain": [
              "<Figure size 720x720 with 2 Axes>"
            ]
          },
          "metadata": {
            "needs_background": "light"
          }
        }
      ]
    },
    {
      "cell_type": "code",
      "source": [
        "print(np.array(X.columns.tolist()))"
      ],
      "metadata": {
        "id": "MZpptnfiUo9z",
        "colab": {
          "base_uri": "https://localhost:8080/"
        },
        "outputId": "f01a0c51-86db-422f-bd92-fc6491c2a52e"
      },
      "execution_count": 28,
      "outputs": [
        {
          "output_type": "stream",
          "name": "stdout",
          "text": [
            "['Pregnancies' 'Glucose' 'BloodPressure' 'SkinThickness' 'Insulin' 'BMI'\n",
            " 'DiabetesPedigreeFunction' 'Age'\n",
            " '(sqrt(Pregnancies) + log(DiabetesPedigreeFunction))**2' 'BMI*Glucose'\n",
            " 'log(sqrt(DiabetesPedigreeFunction)*Glucose**2)'\n",
            " '1/(Age**2 + Pregnancies**3)'\n",
            " '1/(-sqrt(Pregnancies) + log(SkinThickness))' 'Age**6/BMI**3'\n",
            " '(-BloodPressure**2 + Glucose**2)**2']\n"
          ]
        }
      ]
    },
    {
      "cell_type": "markdown",
      "source": [
        "# K-nearest neighbors"
      ],
      "metadata": {
        "id": "CwLRvX1xZ6lN"
      }
    },
    {
      "cell_type": "markdown",
      "source": [
        "KNN pipeline using StandardScaler and MinMaxScaler without feature selection"
      ],
      "metadata": {
        "id": "r_wpOX04avW0"
      }
    },
    {
      "cell_type": "code",
      "source": [
        "pipeline1 = Pipeline(steps=[\n",
        "    ('scaler', StandardScaler()), \n",
        "    ('knn', KNeighborsClassifier())\n",
        "])\n",
        "\n",
        "params = {\n",
        "    'knn__weights': ['uniform', 'distance'],\n",
        "    'knn__n_neighbors': list(range(2, 51))\n",
        "}\n",
        "\n",
        "search = GridSearchCV(pipeline1, params)\n",
        "search.fit(X, y)\n",
        "bp1 = search.best_params_\n",
        "print(search.best_score_)\n",
        "print(search.best_params_)\n",
        "\n",
        "pipeline2 = Pipeline(steps=[\n",
        "    ('scaler', MinMaxScaler()), \n",
        "    ('knn', KNeighborsClassifier())\n",
        "])\n",
        "params = {\n",
        "    'knn__weights': ['uniform', 'distance'],\n",
        "    'knn__n_neighbors': list(range(2, 51))\n",
        "}\n",
        "\n",
        "search = GridSearchCV(pipeline2, params)\n",
        "search.fit(X, y)\n",
        "bp2 = search.best_params_\n",
        "print(search.best_score_)\n",
        "print(search.best_params_)"
      ],
      "metadata": {
        "colab": {
          "base_uri": "https://localhost:8080/"
        },
        "id": "BH62Ty6JXAcu",
        "outputId": "d0948dae-946d-4da4-d847-452e6a72be83"
      },
      "execution_count": 42,
      "outputs": [
        {
          "output_type": "stream",
          "name": "stdout",
          "text": [
            "0.7884032634032634\n",
            "{'knn__n_neighbors': 29, 'knn__weights': 'distance'}\n",
            "0.7883741258741258\n",
            "{'knn__n_neighbors': 24, 'knn__weights': 'distance'}\n"
          ]
        }
      ]
    },
    {
      "cell_type": "code",
      "source": [
        "pipeline1 = lambda: Pipeline(steps=[\n",
        "    ('scaler', StandardScaler()), \n",
        "    ('knn', KNeighborsClassifier(n_neighbors=bp1['knn__n_neighbors'], weights=bp1['knn__weights']))\n",
        "])\n",
        "pipeline2 = lambda: Pipeline(steps=[\n",
        "    ('scaler', MinMaxScaler()), \n",
        "    ('knn', KNeighborsClassifier(n_neighbors=bp2['knn__n_neighbors'], weights=bp2['knn__weights']))\n",
        "])\n",
        "\n",
        "print(np.mean(get_metrics(pipeline1)[1]))\n",
        "print(np.mean(get_metrics(pipeline2)[1]))"
      ],
      "metadata": {
        "colab": {
          "base_uri": "https://localhost:8080/"
        },
        "id": "aRMGAl0njqXQ",
        "outputId": "45a59d20-b5b0-4722-d1cd-ebaeaa439f53"
      },
      "execution_count": 55,
      "outputs": [
        {
          "output_type": "stream",
          "name": "stdout",
          "text": [
            "0.774375\n",
            "0.7734722222222221\n"
          ]
        }
      ]
    },
    {
      "cell_type": "markdown",
      "source": [
        "KNN pipeline using StandardScaler and MinMaxScaler without feature selection using SelectKBest"
      ],
      "metadata": {
        "id": "TcLyUyumcHQ1"
      }
    },
    {
      "cell_type": "code",
      "source": [
        "pipeline3 = Pipeline(\n",
        "    steps=[\n",
        "        ('f_sel', SelectKBest()), \n",
        "        ('scaler', StandardScaler()), \n",
        "        ('knn', KNeighborsClassifier())\n",
        "])\n",
        "\n",
        "params = {\n",
        "    'f_sel__score_func': [f_classif],\n",
        "    'f_sel__k': list(range(1, len(X.columns.tolist())+1)),\n",
        "    'knn__n_neighbors': list(range(2, 51)),\n",
        "    'knn__weights': ['uniform', 'distance'],\n",
        "}\n",
        "\n",
        "search = GridSearchCV(pipeline3, params)\n",
        "search.fit(X, y)\n",
        "bp3 = search.best_params_\n",
        "print(search.best_score_)\n",
        "print(search.best_params_)\n",
        "\n",
        "pipeline4 = Pipeline(\n",
        "    steps=[\n",
        "        ('f_sel', SelectKBest()), \n",
        "        ('scaler', MinMaxScaler()), \n",
        "        ('knn', KNeighborsClassifier())\n",
        "])\n",
        "params = {\n",
        "    'f_sel__score_func': [f_classif],\n",
        "    'f_sel__k': list(range(1, len(X.columns.tolist())+1)),\n",
        "    'knn__n_neighbors': list(range(2, 51)),\n",
        "    'knn__weights': ['uniform', 'distance'],\n",
        "}\n",
        "\n",
        "search = GridSearchCV(pipeline4, params)\n",
        "search.fit(X, y)\n",
        "bp4 = search.best_params_\n",
        "print(search.best_score_)\n",
        "print(search.best_params_)"
      ],
      "metadata": {
        "id": "z_WGekNXHeUJ",
        "colab": {
          "base_uri": "https://localhost:8080/"
        },
        "outputId": "a69f00ca-f243-4db3-b04f-923f7938f6d6"
      },
      "execution_count": 57,
      "outputs": [
        {
          "output_type": "stream",
          "name": "stdout",
          "text": [
            "0.7884032634032634\n",
            "{'f_sel__k': 17, 'f_sel__score_func': <function f_classif at 0x7f10b8c533b0>, 'knn__n_neighbors': 29, 'knn__weights': 'distance'}\n",
            "0.7883741258741258\n",
            "{'f_sel__k': 16, 'f_sel__score_func': <function f_classif at 0x7f10b8c533b0>, 'knn__n_neighbors': 24, 'knn__weights': 'distance'}\n"
          ]
        }
      ]
    },
    {
      "cell_type": "code",
      "source": [
        "pipeline3 = lambda: Pipeline(\n",
        "    steps=[\n",
        "        ('f_sel', SelectKBest(score_func=bp3['f_sel__score_func'], k=bp3['f_sel__k'])), \n",
        "        ('scaler', StandardScaler()), \n",
        "        ('knn', KNeighborsClassifier(n_neighbors=bp3['knn__n_neighbors'], weights=bp3['knn__weights']))\n",
        "])\n",
        "\n",
        "pipeline4 = lambda: Pipeline(\n",
        "    steps=[\n",
        "        ('f_sel', SelectKBest(score_func=bp4['f_sel__score_func'], k=bp4['f_sel__k'])), \n",
        "        ('scaler', MinMaxScaler()), \n",
        "        ('knn', KNeighborsClassifier(n_neighbors=bp4['knn__n_neighbors'], weights=bp4['knn__weights']))\n",
        "])\n",
        "\n",
        "print(np.mean(get_metrics(pipeline3)[1]))\n",
        "print(np.mean(get_metrics(pipeline4)[1]))"
      ],
      "metadata": {
        "colab": {
          "base_uri": "https://localhost:8080/"
        },
        "id": "UELbzFLWdjpB",
        "outputId": "77f63f4b-e949-4e36-a816-6da0dba5f452"
      },
      "execution_count": 69,
      "outputs": [
        {
          "output_type": "stream",
          "name": "stdout",
          "text": [
            "0.7703472222222222\n",
            "0.7640277777777778\n"
          ]
        }
      ]
    },
    {
      "cell_type": "markdown",
      "source": [
        "# Deep learning model"
      ],
      "metadata": {
        "id": "nqx9N2LZbfUn"
      }
    },
    {
      "cell_type": "markdown",
      "source": [
        "Deep learning model with a $1000 \\times 1000$ architecture trained on a train validation test split (70%, 20%, 10%)"
      ],
      "metadata": {
        "id": "btrZc9YOhklA"
      }
    },
    {
      "cell_type": "code",
      "source": [
        "X_train, X_val, y_train, y_val = train_test_split(X, y, test_size=0.2, shuffle=True)\n",
        "X_train, X_test, y_train, y_test = train_test_split(X, y, test_size=0.125, shuffle=True)\n",
        "\n",
        "scaler = StandardScaler()\n",
        "\n",
        "X_train = scaler.fit_transform(X_train)\n",
        "X_val = scaler.transform(X_val)\n",
        "\n",
        "model = Sequential()\n",
        "\n",
        "model.add(Dense(\n",
        "    1000,\n",
        "    kernel_regularizer=l1(1e-3),\n",
        "    kernel_initializer=HeNormal(),\n",
        "    activation='relu',\n",
        "    input_shape=(len(X.columns.tolist()),)\n",
        "    )\n",
        ")\n",
        "\n",
        "model.add(Dense(\n",
        "    1000,\n",
        "    kernel_regularizer=l1(1e-3),\n",
        "    kernel_initializer=HeUniform(),\n",
        "    activation='relu')\n",
        ")\n",
        "\n",
        "# model.add(Dropout(0.25))\n",
        "# model.add(Flatten())\n",
        "\n",
        "model.add(Dense(\n",
        "    units=1,\n",
        "    kernel_regularizer=l1(1e-3),\n",
        "    activation='sigmoid')\n",
        ")\n",
        "\n",
        "model.compile(\n",
        "    optimizer=Adam(learning_rate=0.0009),\n",
        "    loss=tf.keras.losses.BinaryCrossentropy(),\n",
        "    metrics=['accuracy']\n",
        ")\n",
        "\n",
        "class_weight = compute_class_weight(y=y.values.reshape(-1), classes=np.unique(y.values.reshape(-1)), class_weight='balanced')\n",
        "\n",
        "num_epochs = 1000\n",
        "history = model.fit(\n",
        "    X_train, y_train,\n",
        "    batch_size=64,\n",
        "    epochs=num_epochs,\n",
        "    validation_data=(X_val, y_val),\n",
        "    class_weight={0: class_weight[0], 1: class_weight[1]},\n",
        "    callbacks=[EarlyStopping(monitor='val_accuracy', patience=70, restore_best_weights=True)]\n",
        ")"
      ],
      "metadata": {
        "colab": {
          "base_uri": "https://localhost:8080/"
        },
        "id": "6n2pkqdRCeXn",
        "outputId": "6338b8dc-b24a-43e2-c4bf-127c2acd1717"
      },
      "execution_count": 24,
      "outputs": [
        {
          "output_type": "stream",
          "name": "stdout",
          "text": [
            "Epoch 1/1000\n",
            "10/10 [==============================] - 1s 46ms/step - loss: 42.9604 - accuracy: 0.7006 - val_loss: 39.8876 - val_accuracy: 0.8333\n",
            "Epoch 2/1000\n",
            "10/10 [==============================] - 0s 27ms/step - loss: 38.0507 - accuracy: 0.7675 - val_loss: 35.4385 - val_accuracy: 0.7708\n",
            "Epoch 3/1000\n",
            "10/10 [==============================] - 0s 25ms/step - loss: 33.4867 - accuracy: 0.7707 - val_loss: 30.9674 - val_accuracy: 0.8194\n",
            "Epoch 4/1000\n",
            "10/10 [==============================] - 0s 25ms/step - loss: 29.1778 - accuracy: 0.8169 - val_loss: 26.8849 - val_accuracy: 0.8056\n",
            "Epoch 5/1000\n",
            "10/10 [==============================] - 0s 23ms/step - loss: 25.1510 - accuracy: 0.8153 - val_loss: 22.9934 - val_accuracy: 0.8403\n",
            "Epoch 6/1000\n",
            "10/10 [==============================] - 0s 25ms/step - loss: 21.5340 - accuracy: 0.8280 - val_loss: 19.6815 - val_accuracy: 0.8056\n",
            "Epoch 7/1000\n",
            "10/10 [==============================] - 0s 25ms/step - loss: 18.3421 - accuracy: 0.8185 - val_loss: 16.6584 - val_accuracy: 0.8611\n",
            "Epoch 8/1000\n",
            "10/10 [==============================] - 0s 24ms/step - loss: 15.6089 - accuracy: 0.8201 - val_loss: 14.2182 - val_accuracy: 0.8889\n",
            "Epoch 9/1000\n",
            "10/10 [==============================] - 0s 24ms/step - loss: 13.4200 - accuracy: 0.8344 - val_loss: 12.4058 - val_accuracy: 0.8264\n",
            "Epoch 10/1000\n",
            "10/10 [==============================] - 0s 23ms/step - loss: 11.6803 - accuracy: 0.8041 - val_loss: 10.7928 - val_accuracy: 0.8403\n",
            "Epoch 11/1000\n",
            "10/10 [==============================] - 0s 26ms/step - loss: 10.2461 - accuracy: 0.8232 - val_loss: 9.4903 - val_accuracy: 0.8681\n",
            "Epoch 12/1000\n",
            "10/10 [==============================] - 0s 24ms/step - loss: 9.0842 - accuracy: 0.8344 - val_loss: 8.4330 - val_accuracy: 0.8403\n",
            "Epoch 13/1000\n",
            "10/10 [==============================] - 0s 25ms/step - loss: 8.1432 - accuracy: 0.8280 - val_loss: 7.6557 - val_accuracy: 0.8264\n",
            "Epoch 14/1000\n",
            "10/10 [==============================] - 0s 26ms/step - loss: 7.3537 - accuracy: 0.8041 - val_loss: 6.9679 - val_accuracy: 0.8264\n",
            "Epoch 15/1000\n",
            "10/10 [==============================] - 0s 25ms/step - loss: 6.7243 - accuracy: 0.8185 - val_loss: 6.3374 - val_accuracy: 0.8611\n",
            "Epoch 16/1000\n",
            "10/10 [==============================] - 0s 25ms/step - loss: 6.1873 - accuracy: 0.8010 - val_loss: 5.8498 - val_accuracy: 0.8542\n",
            "Epoch 17/1000\n",
            "10/10 [==============================] - 0s 25ms/step - loss: 5.7504 - accuracy: 0.8121 - val_loss: 5.4571 - val_accuracy: 0.8403\n",
            "Epoch 18/1000\n",
            "10/10 [==============================] - 0s 24ms/step - loss: 5.3712 - accuracy: 0.8137 - val_loss: 5.0745 - val_accuracy: 0.8542\n",
            "Epoch 19/1000\n",
            "10/10 [==============================] - 0s 24ms/step - loss: 5.0116 - accuracy: 0.8137 - val_loss: 4.7633 - val_accuracy: 0.8472\n",
            "Epoch 20/1000\n",
            "10/10 [==============================] - 0s 24ms/step - loss: 4.7338 - accuracy: 0.8025 - val_loss: 4.5159 - val_accuracy: 0.8542\n",
            "Epoch 21/1000\n",
            "10/10 [==============================] - 0s 24ms/step - loss: 4.4858 - accuracy: 0.7946 - val_loss: 4.3236 - val_accuracy: 0.8194\n",
            "Epoch 22/1000\n",
            "10/10 [==============================] - 0s 30ms/step - loss: 4.2667 - accuracy: 0.8041 - val_loss: 4.1114 - val_accuracy: 0.8194\n",
            "Epoch 23/1000\n",
            "10/10 [==============================] - 0s 25ms/step - loss: 4.0678 - accuracy: 0.8105 - val_loss: 3.9340 - val_accuracy: 0.8333\n",
            "Epoch 24/1000\n",
            "10/10 [==============================] - 0s 25ms/step - loss: 3.9030 - accuracy: 0.7978 - val_loss: 3.7470 - val_accuracy: 0.8542\n",
            "Epoch 25/1000\n",
            "10/10 [==============================] - 0s 23ms/step - loss: 3.7499 - accuracy: 0.8025 - val_loss: 3.6618 - val_accuracy: 0.7986\n",
            "Epoch 26/1000\n",
            "10/10 [==============================] - 0s 24ms/step - loss: 3.6188 - accuracy: 0.8010 - val_loss: 3.4678 - val_accuracy: 0.8472\n",
            "Epoch 27/1000\n",
            "10/10 [==============================] - 0s 26ms/step - loss: 3.4877 - accuracy: 0.8025 - val_loss: 3.4103 - val_accuracy: 0.7986\n",
            "Epoch 28/1000\n",
            "10/10 [==============================] - 0s 26ms/step - loss: 3.4045 - accuracy: 0.7898 - val_loss: 3.3509 - val_accuracy: 0.8125\n",
            "Epoch 29/1000\n",
            "10/10 [==============================] - 0s 24ms/step - loss: 3.3261 - accuracy: 0.7755 - val_loss: 3.2000 - val_accuracy: 0.8333\n",
            "Epoch 30/1000\n",
            "10/10 [==============================] - 0s 25ms/step - loss: 3.1965 - accuracy: 0.7787 - val_loss: 3.0533 - val_accuracy: 0.8264\n",
            "Epoch 31/1000\n",
            "10/10 [==============================] - 0s 26ms/step - loss: 3.1068 - accuracy: 0.7803 - val_loss: 2.9653 - val_accuracy: 0.8264\n",
            "Epoch 32/1000\n",
            "10/10 [==============================] - 0s 24ms/step - loss: 3.0017 - accuracy: 0.7882 - val_loss: 2.8832 - val_accuracy: 0.8472\n",
            "Epoch 33/1000\n",
            "10/10 [==============================] - 0s 25ms/step - loss: 2.9088 - accuracy: 0.7930 - val_loss: 2.8010 - val_accuracy: 0.8264\n",
            "Epoch 34/1000\n",
            "10/10 [==============================] - 0s 24ms/step - loss: 2.8330 - accuracy: 0.7898 - val_loss: 2.7297 - val_accuracy: 0.8403\n",
            "Epoch 35/1000\n",
            "10/10 [==============================] - 0s 25ms/step - loss: 2.7751 - accuracy: 0.7739 - val_loss: 2.6586 - val_accuracy: 0.8333\n",
            "Epoch 36/1000\n",
            "10/10 [==============================] - 0s 25ms/step - loss: 2.6955 - accuracy: 0.7978 - val_loss: 2.5700 - val_accuracy: 0.8333\n",
            "Epoch 37/1000\n",
            "10/10 [==============================] - 0s 24ms/step - loss: 2.6079 - accuracy: 0.7882 - val_loss: 2.4966 - val_accuracy: 0.8472\n",
            "Epoch 38/1000\n",
            "10/10 [==============================] - 0s 25ms/step - loss: 2.5401 - accuracy: 0.8041 - val_loss: 2.4329 - val_accuracy: 0.8333\n",
            "Epoch 39/1000\n",
            "10/10 [==============================] - 0s 25ms/step - loss: 2.4654 - accuracy: 0.7962 - val_loss: 2.3732 - val_accuracy: 0.8333\n",
            "Epoch 40/1000\n",
            "10/10 [==============================] - 0s 24ms/step - loss: 2.4065 - accuracy: 0.7850 - val_loss: 2.2954 - val_accuracy: 0.8403\n",
            "Epoch 41/1000\n",
            "10/10 [==============================] - 0s 25ms/step - loss: 2.3445 - accuracy: 0.8041 - val_loss: 2.2461 - val_accuracy: 0.8264\n",
            "Epoch 42/1000\n",
            "10/10 [==============================] - 0s 24ms/step - loss: 2.2910 - accuracy: 0.8010 - val_loss: 2.1998 - val_accuracy: 0.8194\n",
            "Epoch 43/1000\n",
            "10/10 [==============================] - 0s 25ms/step - loss: 2.2329 - accuracy: 0.7834 - val_loss: 2.1231 - val_accuracy: 0.8403\n",
            "Epoch 44/1000\n",
            "10/10 [==============================] - 0s 25ms/step - loss: 2.1706 - accuracy: 0.7930 - val_loss: 2.0751 - val_accuracy: 0.8403\n",
            "Epoch 45/1000\n",
            "10/10 [==============================] - 0s 23ms/step - loss: 2.1208 - accuracy: 0.7930 - val_loss: 2.0256 - val_accuracy: 0.8403\n",
            "Epoch 46/1000\n",
            "10/10 [==============================] - 0s 24ms/step - loss: 2.0657 - accuracy: 0.8153 - val_loss: 1.9896 - val_accuracy: 0.8264\n",
            "Epoch 47/1000\n",
            "10/10 [==============================] - 0s 29ms/step - loss: 2.0100 - accuracy: 0.7978 - val_loss: 1.9217 - val_accuracy: 0.8333\n",
            "Epoch 48/1000\n",
            "10/10 [==============================] - 0s 25ms/step - loss: 1.9539 - accuracy: 0.7994 - val_loss: 1.8719 - val_accuracy: 0.8403\n",
            "Epoch 49/1000\n",
            "10/10 [==============================] - 0s 24ms/step - loss: 1.9038 - accuracy: 0.7978 - val_loss: 1.8219 - val_accuracy: 0.8333\n",
            "Epoch 50/1000\n",
            "10/10 [==============================] - 0s 24ms/step - loss: 1.8604 - accuracy: 0.7994 - val_loss: 1.7671 - val_accuracy: 0.8403\n",
            "Epoch 51/1000\n",
            "10/10 [==============================] - 0s 29ms/step - loss: 1.8247 - accuracy: 0.8025 - val_loss: 1.7318 - val_accuracy: 0.8264\n",
            "Epoch 52/1000\n",
            "10/10 [==============================] - 0s 25ms/step - loss: 1.7817 - accuracy: 0.7946 - val_loss: 1.7128 - val_accuracy: 0.8264\n",
            "Epoch 53/1000\n",
            "10/10 [==============================] - 0s 24ms/step - loss: 1.7338 - accuracy: 0.8041 - val_loss: 1.6688 - val_accuracy: 0.8194\n",
            "Epoch 54/1000\n",
            "10/10 [==============================] - 0s 24ms/step - loss: 1.6915 - accuracy: 0.7978 - val_loss: 1.5947 - val_accuracy: 0.8403\n",
            "Epoch 55/1000\n",
            "10/10 [==============================] - 0s 25ms/step - loss: 1.6372 - accuracy: 0.8025 - val_loss: 1.5673 - val_accuracy: 0.8194\n",
            "Epoch 56/1000\n",
            "10/10 [==============================] - 0s 23ms/step - loss: 1.5920 - accuracy: 0.8025 - val_loss: 1.5317 - val_accuracy: 0.8333\n",
            "Epoch 57/1000\n",
            "10/10 [==============================] - 0s 24ms/step - loss: 1.5472 - accuracy: 0.8073 - val_loss: 1.4728 - val_accuracy: 0.8194\n",
            "Epoch 58/1000\n",
            "10/10 [==============================] - 0s 23ms/step - loss: 1.5057 - accuracy: 0.8010 - val_loss: 1.4412 - val_accuracy: 0.8333\n",
            "Epoch 59/1000\n",
            "10/10 [==============================] - 0s 24ms/step - loss: 1.4711 - accuracy: 0.8010 - val_loss: 1.4006 - val_accuracy: 0.8333\n",
            "Epoch 60/1000\n",
            "10/10 [==============================] - 0s 25ms/step - loss: 1.4350 - accuracy: 0.8057 - val_loss: 1.3655 - val_accuracy: 0.8264\n",
            "Epoch 61/1000\n",
            "10/10 [==============================] - 0s 24ms/step - loss: 1.3988 - accuracy: 0.8089 - val_loss: 1.3379 - val_accuracy: 0.8333\n",
            "Epoch 62/1000\n",
            "10/10 [==============================] - 0s 23ms/step - loss: 1.3680 - accuracy: 0.8041 - val_loss: 1.2907 - val_accuracy: 0.8472\n",
            "Epoch 63/1000\n",
            "10/10 [==============================] - 0s 24ms/step - loss: 1.3361 - accuracy: 0.8073 - val_loss: 1.2579 - val_accuracy: 0.8403\n",
            "Epoch 64/1000\n",
            "10/10 [==============================] - 0s 25ms/step - loss: 1.3005 - accuracy: 0.8073 - val_loss: 1.2379 - val_accuracy: 0.8333\n",
            "Epoch 65/1000\n",
            "10/10 [==============================] - 0s 24ms/step - loss: 1.2663 - accuracy: 0.7978 - val_loss: 1.2028 - val_accuracy: 0.8333\n",
            "Epoch 66/1000\n",
            "10/10 [==============================] - 0s 23ms/step - loss: 1.2372 - accuracy: 0.8041 - val_loss: 1.1688 - val_accuracy: 0.8472\n",
            "Epoch 67/1000\n",
            "10/10 [==============================] - 0s 24ms/step - loss: 1.2062 - accuracy: 0.8057 - val_loss: 1.1421 - val_accuracy: 0.8403\n",
            "Epoch 68/1000\n",
            "10/10 [==============================] - 0s 25ms/step - loss: 1.1788 - accuracy: 0.8057 - val_loss: 1.1120 - val_accuracy: 0.8403\n",
            "Epoch 69/1000\n",
            "10/10 [==============================] - 0s 23ms/step - loss: 1.1556 - accuracy: 0.8041 - val_loss: 1.1102 - val_accuracy: 0.8403\n",
            "Epoch 70/1000\n",
            "10/10 [==============================] - 0s 23ms/step - loss: 1.1310 - accuracy: 0.8010 - val_loss: 1.0655 - val_accuracy: 0.8403\n",
            "Epoch 71/1000\n",
            "10/10 [==============================] - 0s 23ms/step - loss: 1.1003 - accuracy: 0.8105 - val_loss: 1.0429 - val_accuracy: 0.8333\n",
            "Epoch 72/1000\n",
            "10/10 [==============================] - 0s 24ms/step - loss: 1.0795 - accuracy: 0.7994 - val_loss: 1.0137 - val_accuracy: 0.8472\n",
            "Epoch 73/1000\n",
            "10/10 [==============================] - 0s 24ms/step - loss: 1.0556 - accuracy: 0.8089 - val_loss: 0.9937 - val_accuracy: 0.8403\n",
            "Epoch 74/1000\n",
            "10/10 [==============================] - 0s 24ms/step - loss: 1.0284 - accuracy: 0.8041 - val_loss: 0.9676 - val_accuracy: 0.8403\n",
            "Epoch 75/1000\n",
            "10/10 [==============================] - 0s 24ms/step - loss: 1.0036 - accuracy: 0.8057 - val_loss: 0.9443 - val_accuracy: 0.8403\n",
            "Epoch 76/1000\n",
            "10/10 [==============================] - 0s 24ms/step - loss: 0.9807 - accuracy: 0.8073 - val_loss: 0.9227 - val_accuracy: 0.8403\n",
            "Epoch 77/1000\n",
            "10/10 [==============================] - 0s 25ms/step - loss: 0.9608 - accuracy: 0.8089 - val_loss: 0.9055 - val_accuracy: 0.8403\n",
            "Epoch 78/1000\n",
            "10/10 [==============================] - 0s 24ms/step - loss: 0.9406 - accuracy: 0.8073 - val_loss: 0.8868 - val_accuracy: 0.8403\n"
          ]
        }
      ]
    },
    {
      "cell_type": "code",
      "source": [
        "y_pred = model.predict(scaler.transform(X_test)).reshape(-1) >= 0.5\n",
        "\n",
        "print(accuracy_score(y_pred, y_test.values.reshape(-1)))"
      ],
      "metadata": {
        "colab": {
          "base_uri": "https://localhost:8080/"
        },
        "id": "mAYJOeCRjDJS",
        "outputId": "493c3ae0-9761-47af-dc53-9db37e4bb2e2"
      },
      "execution_count": 29,
      "outputs": [
        {
          "output_type": "stream",
          "name": "stdout",
          "text": [
            "0.7666666666666667\n"
          ]
        }
      ]
    },
    {
      "cell_type": "code",
      "source": [
        "plt.figure(figsize=(8, 8))\n",
        "plt.plot(range(len(history.history['accuracy'])), history.history['accuracy'], label='Train accuracy')\n",
        "plt.plot(range(len(history.history['val_accuracy'])), history.history['val_accuracy'], label='Validation accuracy')\n",
        "plt.legend()\n",
        "plt.show()"
      ],
      "metadata": {
        "id": "LOdDJTspmy5x",
        "colab": {
          "base_uri": "https://localhost:8080/",
          "height": 483
        },
        "outputId": "311ff0c4-f452-4313-deda-7a84b5c7a93b"
      },
      "execution_count": 30,
      "outputs": [
        {
          "output_type": "display_data",
          "data": {
            "image/png": "[encoded data removed]",
            "text/plain": [
              "<Figure size 576x576 with 1 Axes>"
            ]
          },
          "metadata": {
            "needs_background": "light"
          }
        }
      ]
    },
    {
      "cell_type": "markdown",
      "source": [
        "# Logistic regression"
      ],
      "metadata": {
        "id": "fhJutnUOEOwC"
      }
    },
    {
      "cell_type": "markdown",
      "source": [
        "Pipeline that uses SelectKBest, PolynomialFeatures, StandardScaler and a logistic regression classifier"
      ],
      "metadata": {
        "id": "hBgGTg4UGHfi"
      }
    },
    {
      "cell_type": "code",
      "source": [
        "pipeline5 = Pipeline(steps=[('fs',SelectKBest()), ('pf',PolynomialFeatures()), ('scaler', StandardScaler()),('log_reg', LogisticRegression())])\n",
        "\n",
        "params = {\n",
        "    'log_reg__C': [i*(10**y) for y in range(-5, 5) for i in range(1, 3)],\n",
        "    'log_reg__penalty': ['l1', 'l2'],\n",
        "    'fs__score_func': [f_classif],\n",
        "    'fs__k': list(range((len(X.columns)-3),(len(X.columns)))),\n",
        "    'pf__degree': [4, 5]\n",
        "}\n",
        "\n",
        "search = GridSearchCV(pipeline5, params)\n",
        "search.fit(X, y)\n",
        "bp5 = search.best_params_\n",
        "print(search.best_score_)\n",
        "print(search.best_params_) "
      ],
      "metadata": {
        "colab": {
          "base_uri": "https://localhost:8080/"
        },
        "id": "dJXzHw_p_CYF",
        "outputId": "e5f4ccc3-5fe6-442b-d4b1-ff595c456c6b"
      },
      "execution_count": 32,
      "outputs": [
        {
          "output_type": "stream",
          "name": "stdout",
          "text": [
            "0.7771756021756022\n",
            "{'fs__k': 14, 'fs__score_func': <function f_classif at 0x7f8545bba170>, 'log_reg__C': 0.0002, 'log_reg__penalty': 'l2', 'pf__degree': 4}\n"
          ]
        }
      ]
    },
    {
      "cell_type": "code",
      "source": [
        "pipeline5 = lambda: Pipeline(steps=[\n",
        "            ('fs', SelectKBest(score_func=bp5['fs__score_func'], k=bp5['fs__k'])),\n",
        "            ('scaler', StandardScaler()),\n",
        "            ('pf',PolynomialFeatures(degree=bp5['pf__degree'])),\n",
        "            ('log_reg', LogisticRegression(C=bp5['log_reg__C'], penalty=bp5['log_reg__penalty']))\n",
        "])\n",
        "\n",
        "print(np.mean(get_metrics(pipeline5)[1]))"
      ],
      "metadata": {
        "colab": {
          "base_uri": "https://localhost:8080/"
        },
        "id": "UwOI39zgBj1w",
        "outputId": "dada5dbc-443d-4673-f697-55f6698a21eb"
      },
      "execution_count": 38,
      "outputs": [
        {
          "output_type": "stream",
          "name": "stdout",
          "text": [
            "0.7372222222222221\n"
          ]
        }
      ]
    },
    {
      "cell_type": "markdown",
      "source": [
        "Pipeline that uses SelectKBest, PolynomialFeatures, MinMaxScaler and a logistic regression classifier"
      ],
      "metadata": {
        "id": "WJvZkWycGalu"
      }
    },
    {
      "cell_type": "code",
      "source": [
        "pipeline6 = Pipeline(steps=[('fs',SelectKBest()), ('pf',PolynomialFeatures()), ('scaler', MinMaxScaler()),('log_reg', LogisticRegression())])\n",
        "\n",
        "params = {\n",
        "    'log_reg__C': [i*(10**y) for y in range(-5, 5) for i in range(1, 3)],\n",
        "    'log_reg__penalty': ['l1', 'l2'],\n",
        "    'fs__score_func': [f_classif],\n",
        "    'fs__k': list(range((len(X.columns)-3),(len(X.columns)))),\n",
        "    'pf__degree': [2, 3, 4]\n",
        "}\n",
        "\n",
        "search = GridSearchCV(pipeline6, params)\n",
        "search.fit(X, y)\n",
        "bp6 = search.best_params_\n",
        "print(search.best_score_)\n",
        "print(search.best_params_) "
      ],
      "metadata": {
        "colab": {
          "base_uri": "https://localhost:8080/"
        },
        "id": "_QMDSqd_EUCB",
        "outputId": "f73625c7-03aa-4494-e1cc-b46d7e83f3b3"
      },
      "execution_count": 40,
      "outputs": [
        {
          "output_type": "stream",
          "name": "stdout",
          "text": [
            "0.7771270396270396\n",
            "{'fs__k': 13, 'fs__score_func': <function f_classif at 0x7f8545bba170>, 'log_reg__C': 0.01, 'log_reg__penalty': 'l2', 'pf__degree': 3}\n"
          ]
        }
      ]
    },
    {
      "cell_type": "code",
      "source": [
        "pipeline6 = lambda: Pipeline(steps=[\n",
        "            ('fs', SelectKBest(score_func=bp6['fs__score_func'], k=bp6['fs__k'])),\n",
        "            ('scaler', StandardScaler()),\n",
        "            ('pf',PolynomialFeatures(degree=bp6['pf__degree'])),\n",
        "            ('log_reg', LogisticRegression(C=bp6['log_reg__C'], penalty=bp6['log_reg__penalty']))\n",
        "])\n",
        "\n",
        "print(np.mean(get_metrics(pipeline6)[1]))"
      ],
      "metadata": {
        "colab": {
          "base_uri": "https://localhost:8080/"
        },
        "id": "kdDvN2PQEhi0",
        "outputId": "205ab0cf-26da-4a46-821a-acd48e780cdf"
      },
      "execution_count": 41,
      "outputs": [
        {
          "output_type": "stream",
          "name": "stdout",
          "text": [
            "0.7498611111111111\n"
          ]
        }
      ]
    },
    {
      "cell_type": "markdown",
      "source": [
        "Pipeline that uses RFE, PolynomialFeatures, StandardScaler and a logistic regression classifier"
      ],
      "metadata": {
        "id": "gBQQWm2UGffZ"
      }
    },
    {
      "cell_type": "code",
      "source": [
        "pipeline7 = Pipeline(steps=[('fs', RFE(estimator=LogisticRegression())), ('pf',PolynomialFeatures()), ('scaler', StandardScaler()),('log_reg', LogisticRegression())])\n",
        "params = {\n",
        "    'log_reg__C': [i*(10**y) for y in range(-5, 5) for i in range(1, 3)],\n",
        "    'log_reg__penalty': ['l1', 'l2'],\n",
        "    'fs__n_features_to_select': [len(X.columns)-1],\n",
        "    'pf__degree': [2, 3, 4]\n",
        "}\n",
        "\n",
        "search = GridSearchCV(pipeline7, params)\n",
        "search.fit(X, y)\n",
        "bp7 = search.best_params_\n",
        "print(search.best_score_)\n",
        "print(search.best_params_)"
      ],
      "metadata": {
        "id": "WpuRn1GUEjs2",
        "colab": {
          "base_uri": "https://localhost:8080/"
        },
        "outputId": "ed9eaa2d-3dd2-4168-99d6-cd90ad72cec7"
      },
      "execution_count": 55,
      "outputs": [
        {
          "output_type": "stream",
          "name": "stdout",
          "text": [
            "0.7799630924630925\n",
            "{'fs__n_features_to_select': 14, 'log_reg__C': 0.0002, 'log_reg__penalty': 'l2', 'pf__degree': 4}\n"
          ]
        }
      ]
    },
    {
      "cell_type": "code",
      "source": [
        "pipeline7 = lambda: Pipeline(steps=[\n",
        "            ('fs', RFE(estimator=LogisticRegression(), n_features_to_select=bp7['fs__n_features_to_select'])),\n",
        "            ('scaler', StandardScaler()),\n",
        "            ('pf', PolynomialFeatures(degree=bp7['pf__degree'])),\n",
        "            ('log_reg', LogisticRegression(C=bp7['log_reg__C'], penalty=bp7['log_reg__penalty']))\n",
        "])\n",
        "\n",
        "print(np.mean(get_metrics(pipeline7)[1]))"
      ],
      "metadata": {
        "id": "Hx-RARz9EnY-",
        "colab": {
          "base_uri": "https://localhost:8080/"
        },
        "outputId": "025da4ac-f47a-4ab6-bc7f-9fb8a50a95ef"
      },
      "execution_count": 57,
      "outputs": [
        {
          "output_type": "stream",
          "name": "stdout",
          "text": [
            "0.7382638888888888\n"
          ]
        }
      ]
    },
    {
      "cell_type": "markdown",
      "source": [
        "Pipeline that uses RFE, PolynomialFeatures, MinMaxScaler and a logistic regression classifier"
      ],
      "metadata": {
        "id": "NGGhI5zFKbdB"
      }
    },
    {
      "cell_type": "code",
      "source": [
        "pipeline8 = Pipeline(steps=[('fs', RFE(estimator=RandomForestClassifier())), ('pf',PolynomialFeatures()), ('scaler', MinMaxScaler()), ('log_reg', LogisticRegression())])\n",
        "params = {\n",
        "    'log_reg__C': [i*(10**y) for y in range(-5, 5) for i in range(1, 3)],\n",
        "    'log_reg__penalty': ['l1', 'l2'],\n",
        "    'fs__n_features_to_select':[(len(X.columns)-1)],\n",
        "    'pf__degree': [2, 3, 4]\n",
        "}\n",
        "\n",
        "search = GridSearchCV(pipeline8, params)\n",
        "search.fit(X, y)\n",
        "bp8 = search.best_params_\n",
        "print(search.best_score_)\n",
        "print(search.best_params_)"
      ],
      "metadata": {
        "id": "wNbNZXtoKie_",
        "colab": {
          "base_uri": "https://localhost:8080/"
        },
        "outputId": "71d2afe3-c284-4f70-ac15-4fe783c2d147"
      },
      "execution_count": 61,
      "outputs": [
        {
          "output_type": "stream",
          "name": "stdout",
          "text": [
            "0.7771367521367522\n",
            "{'fs__n_features_to_select': 14, 'log_reg__C': 0.02, 'log_reg__penalty': 'l2', 'pf__degree': 3}\n"
          ]
        }
      ]
    },
    {
      "cell_type": "code",
      "source": [
        "pipeline8 = lambda: Pipeline(steps=[\n",
        "            ('fs', RFE(estimator=LogisticRegression(), n_features_to_select=bp8['fs__n_features_to_select'])),\n",
        "            ('scaler', MinMaxScaler()),\n",
        "            ('pf', PolynomialFeatures(degree=bp8['pf__degree'])),\n",
        "            ('log_reg', LogisticRegression(C=bp8['log_reg__C'], penalty=bp8['log_reg__penalty']))\n",
        "])\n",
        "\n",
        "print(np.mean(get_metrics(pipeline8)[1]))"
      ],
      "metadata": {
        "id": "GTBrkGb5KilH",
        "colab": {
          "base_uri": "https://localhost:8080/"
        },
        "outputId": "334b1a1d-827c-4a9f-e741-6344b84a16c5"
      },
      "execution_count": 64,
      "outputs": [
        {
          "output_type": "stream",
          "name": "stdout",
          "text": [
            "0.764236111111111\n"
          ]
        }
      ]
    },
    {
      "cell_type": "markdown",
      "source": [
        "# LGBM\n",
        "\n",
        "#**SMANJI GRID**"
      ],
      "metadata": {
        "id": "T0UtorahY-0r"
      }
    },
    {
      "cell_type": "markdown",
      "source": [
        "Pipeline that uses SelectKBest feature selection and a LGBM classifier"
      ],
      "metadata": {
        "id": "cuS-b3m_yoDk"
      }
    },
    {
      "cell_type": "code",
      "source": [
        "pipeline9 = Pipeline(steps=[('fs',SelectKBest()), ('lgbm', lgbm.LGBMClassifier())])\n",
        "params={\n",
        "    'lgbm__max_depth': list(range(3,10)),\n",
        "    'lgbm__learning_rate': [0.001, 0.005, 0.01, 0.05, 0.1, 0.5],\n",
        "    'lgbm__n_estimators': list(range(10, 40, 5)),\n",
        "    'lgbm__reg_alpha': [0.001, 0.005, 0.01, 0.05, 0.1, 0.5],\n",
        "    'lgbm__reg_lambda': [0.001, 0.005, 0.01, 0.05, 0.1, 0.5],\n",
        "    'fs__score_func': [f_classif],\n",
        "    'fs__k': list(range((len(X.columns)-3),(len(X.columns)))),\n",
        "}\n",
        "\n",
        "search = GridSearchCV(pipeline9, params)\n",
        "search.fit(X, y)\n",
        "bp9 = search.best_params_\n",
        "print(search.best_score_)\n",
        "print(search.best_params_)"
      ],
      "metadata": {
        "colab": {
          "base_uri": "https://localhost:8080/",
          "height": 396
        },
        "id": "UlI0mMkDf3gi",
        "outputId": "eaca34c5-3f06-4492-8b21-c7266f47be78"
      },
      "execution_count": null,
      "outputs": [
        {
          "output_type": "error",
          "ename": "KeyboardInterrupt",
          "evalue": "ignored",
          "traceback": [
            "\u001b[0;31m---------------------------------------------------------------------------\u001b[0m",
            "\u001b[0;31mKeyboardInterrupt\u001b[0m                         Traceback (most recent call last)",
            "\u001b[0;32m<ipython-input-71-bc17b8e02e9f>\u001b[0m in \u001b[0;36m<module>\u001b[0;34m()\u001b[0m\n\u001b[1;32m     11\u001b[0m \u001b[0;34m\u001b[0m\u001b[0m\n\u001b[1;32m     12\u001b[0m \u001b[0msearch\u001b[0m \u001b[0;34m=\u001b[0m \u001b[0mGridSearchCV\u001b[0m\u001b[0;34m(\u001b[0m\u001b[0mpipeline9\u001b[0m\u001b[0;34m,\u001b[0m \u001b[0mparams\u001b[0m\u001b[0;34m)\u001b[0m\u001b[0;34m\u001b[0m\u001b[0;34m\u001b[0m\u001b[0m\n\u001b[0;32m---> 13\u001b[0;31m \u001b[0msearch\u001b[0m\u001b[0;34m.\u001b[0m\u001b[0mfit\u001b[0m\u001b[0;34m(\u001b[0m\u001b[0mX\u001b[0m\u001b[0;34m,\u001b[0m \u001b[0my\u001b[0m\u001b[0;34m)\u001b[0m\u001b[0;34m\u001b[0m\u001b[0;34m\u001b[0m\u001b[0m\n\u001b[0m\u001b[1;32m     14\u001b[0m \u001b[0mbp9\u001b[0m \u001b[0;34m=\u001b[0m \u001b[0msearch\u001b[0m\u001b[0;34m.\u001b[0m\u001b[0mbest_params_\u001b[0m\u001b[0;34m\u001b[0m\u001b[0;34m\u001b[0m\u001b[0m\n\u001b[1;32m     15\u001b[0m \u001b[0mprint\u001b[0m\u001b[0;34m(\u001b[0m\u001b[0msearch\u001b[0m\u001b[0;34m.\u001b[0m\u001b[0mbest_score_\u001b[0m\u001b[0;34m)\u001b[0m\u001b[0;34m\u001b[0m\u001b[0;34m\u001b[0m\u001b[0m\n",
            "\u001b[0;32m/usr/local/lib/python3.7/dist-packages/sklearn/model_selection/_search.py\u001b[0m in \u001b[0;36mfit\u001b[0;34m(self, X, y, groups, **fit_params)\u001b[0m\n\u001b[1;32m    889\u001b[0m                 \u001b[0;32mreturn\u001b[0m \u001b[0mresults\u001b[0m\u001b[0;34m\u001b[0m\u001b[0;34m\u001b[0m\u001b[0m\n\u001b[1;32m    890\u001b[0m \u001b[0;34m\u001b[0m\u001b[0m\n\u001b[0;32m--> 891\u001b[0;31m             \u001b[0mself\u001b[0m\u001b[0;34m.\u001b[0m\u001b[0m_run_search\u001b[0m\u001b[0;34m(\u001b[0m\u001b[0mevaluate_candidates\u001b[0m\u001b[0;34m)\u001b[0m\u001b[0;34m\u001b[0m\u001b[0;34m\u001b[0m\u001b[0m\n\u001b[0m\u001b[1;32m    892\u001b[0m \u001b[0;34m\u001b[0m\u001b[0m\n\u001b[1;32m    893\u001b[0m             \u001b[0;31m# multimetric is determined here because in the case of a callable\u001b[0m\u001b[0;34m\u001b[0m\u001b[0;34m\u001b[0m\u001b[0;34m\u001b[0m\u001b[0m\n",
            "\u001b[0;32m/usr/local/lib/python3.7/dist-packages/sklearn/model_selection/_search.py\u001b[0m in \u001b[0;36m_run_search\u001b[0;34m(self, evaluate_candidates)\u001b[0m\n\u001b[1;32m   1390\u001b[0m     \u001b[0;32mdef\u001b[0m \u001b[0m_run_search\u001b[0m\u001b[0;34m(\u001b[0m\u001b[0mself\u001b[0m\u001b[0;34m,\u001b[0m \u001b[0mevaluate_candidates\u001b[0m\u001b[0;34m)\u001b[0m\u001b[0;34m:\u001b[0m\u001b[0;34m\u001b[0m\u001b[0;34m\u001b[0m\u001b[0m\n\u001b[1;32m   1391\u001b[0m         \u001b[0;34m\"\"\"Search all candidates in param_grid\"\"\"\u001b[0m\u001b[0;34m\u001b[0m\u001b[0;34m\u001b[0m\u001b[0m\n\u001b[0;32m-> 1392\u001b[0;31m         \u001b[0mevaluate_candidates\u001b[0m\u001b[0;34m(\u001b[0m\u001b[0mParameterGrid\u001b[0m\u001b[0;34m(\u001b[0m\u001b[0mself\u001b[0m\u001b[0;34m.\u001b[0m\u001b[0mparam_grid\u001b[0m\u001b[0;34m)\u001b[0m\u001b[0;34m)\u001b[0m\u001b[0;34m\u001b[0m\u001b[0;34m\u001b[0m\u001b[0m\n\u001b[0m\u001b[1;32m   1393\u001b[0m \u001b[0;34m\u001b[0m\u001b[0m\n\u001b[1;32m   1394\u001b[0m \u001b[0;34m\u001b[0m\u001b[0m\n",
            "\u001b[0;32m/usr/local/lib/python3.7/dist-packages/sklearn/model_selection/_search.py\u001b[0m in \u001b[0;36mevaluate_candidates\u001b[0;34m(candidate_params, cv, more_results)\u001b[0m\n\u001b[1;32m    849\u001b[0m                     )\n\u001b[1;32m    850\u001b[0m                     for (cand_idx, parameters), (split_idx, (train, test)) in product(\n\u001b[0;32m--> 851\u001b[0;31m                         \u001b[0menumerate\u001b[0m\u001b[0;34m(\u001b[0m\u001b[0mcandidate_params\u001b[0m\u001b[0;34m)\u001b[0m\u001b[0;34m,\u001b[0m \u001b[0menumerate\u001b[0m\u001b[0;34m(\u001b[0m\u001b[0mcv\u001b[0m\u001b[0;34m.\u001b[0m\u001b[0msplit\u001b[0m\u001b[0;34m(\u001b[0m\u001b[0mX\u001b[0m\u001b[0;34m,\u001b[0m \u001b[0my\u001b[0m\u001b[0;34m,\u001b[0m \u001b[0mgroups\u001b[0m\u001b[0;34m)\u001b[0m\u001b[0;34m)\u001b[0m\u001b[0;34m\u001b[0m\u001b[0;34m\u001b[0m\u001b[0m\n\u001b[0m\u001b[1;32m    852\u001b[0m                     )\n\u001b[1;32m    853\u001b[0m                 )\n",
            "\u001b[0;32m/usr/local/lib/python3.7/dist-packages/joblib/parallel.py\u001b[0m in \u001b[0;36m__call__\u001b[0;34m(self, iterable)\u001b[0m\n\u001b[1;32m   1044\u001b[0m                 \u001b[0mself\u001b[0m\u001b[0;34m.\u001b[0m\u001b[0m_iterating\u001b[0m \u001b[0;34m=\u001b[0m \u001b[0mself\u001b[0m\u001b[0;34m.\u001b[0m\u001b[0m_original_iterator\u001b[0m \u001b[0;32mis\u001b[0m \u001b[0;32mnot\u001b[0m \u001b[0;32mNone\u001b[0m\u001b[0;34m\u001b[0m\u001b[0;34m\u001b[0m\u001b[0m\n\u001b[1;32m   1045\u001b[0m \u001b[0;34m\u001b[0m\u001b[0m\n\u001b[0;32m-> 1046\u001b[0;31m             \u001b[0;32mwhile\u001b[0m \u001b[0mself\u001b[0m\u001b[0;34m.\u001b[0m\u001b[0mdispatch_one_batch\u001b[0m\u001b[0;34m(\u001b[0m\u001b[0miterator\u001b[0m\u001b[0;34m)\u001b[0m\u001b[0;34m:\u001b[0m\u001b[0;34m\u001b[0m\u001b[0;34m\u001b[0m\u001b[0m\n\u001b[0m\u001b[1;32m   1047\u001b[0m                 \u001b[0;32mpass\u001b[0m\u001b[0;34m\u001b[0m\u001b[0;34m\u001b[0m\u001b[0m\n\u001b[1;32m   1048\u001b[0m \u001b[0;34m\u001b[0m\u001b[0m\n",
            "\u001b[0;32m/usr/local/lib/python3.7/dist-packages/joblib/parallel.py\u001b[0m in \u001b[0;36mdispatch_one_batch\u001b[0;34m(self, iterator)\u001b[0m\n\u001b[1;32m    859\u001b[0m                 \u001b[0;32mreturn\u001b[0m \u001b[0;32mFalse\u001b[0m\u001b[0;34m\u001b[0m\u001b[0;34m\u001b[0m\u001b[0m\n\u001b[1;32m    860\u001b[0m             \u001b[0;32melse\u001b[0m\u001b[0;34m:\u001b[0m\u001b[0;34m\u001b[0m\u001b[0;34m\u001b[0m\u001b[0m\n\u001b[0;32m--> 861\u001b[0;31m                 \u001b[0mself\u001b[0m\u001b[0;34m.\u001b[0m\u001b[0m_dispatch\u001b[0m\u001b[0;34m(\u001b[0m\u001b[0mtasks\u001b[0m\u001b[0;34m)\u001b[0m\u001b[0;34m\u001b[0m\u001b[0;34m\u001b[0m\u001b[0m\n\u001b[0m\u001b[1;32m    862\u001b[0m                 \u001b[0;32mreturn\u001b[0m \u001b[0;32mTrue\u001b[0m\u001b[0;34m\u001b[0m\u001b[0;34m\u001b[0m\u001b[0m\n\u001b[1;32m    863\u001b[0m \u001b[0;34m\u001b[0m\u001b[0m\n",
            "\u001b[0;32m/usr/local/lib/python3.7/dist-packages/joblib/parallel.py\u001b[0m in \u001b[0;36m_dispatch\u001b[0;34m(self, batch)\u001b[0m\n\u001b[1;32m    777\u001b[0m         \u001b[0;32mwith\u001b[0m \u001b[0mself\u001b[0m\u001b[0;34m.\u001b[0m\u001b[0m_lock\u001b[0m\u001b[0;34m:\u001b[0m\u001b[0;34m\u001b[0m\u001b[0;34m\u001b[0m\u001b[0m\n\u001b[1;32m    778\u001b[0m             \u001b[0mjob_idx\u001b[0m \u001b[0;34m=\u001b[0m \u001b[0mlen\u001b[0m\u001b[0;34m(\u001b[0m\u001b[0mself\u001b[0m\u001b[0;34m.\u001b[0m\u001b[0m_jobs\u001b[0m\u001b[0;34m)\u001b[0m\u001b[0;34m\u001b[0m\u001b[0;34m\u001b[0m\u001b[0m\n\u001b[0;32m--> 779\u001b[0;31m             \u001b[0mjob\u001b[0m \u001b[0;34m=\u001b[0m \u001b[0mself\u001b[0m\u001b[0;34m.\u001b[0m\u001b[0m_backend\u001b[0m\u001b[0;34m.\u001b[0m\u001b[0mapply_async\u001b[0m\u001b[0;34m(\u001b[0m\u001b[0mbatch\u001b[0m\u001b[0;34m,\u001b[0m \u001b[0mcallback\u001b[0m\u001b[0;34m=\u001b[0m\u001b[0mcb\u001b[0m\u001b[0;34m)\u001b[0m\u001b[0;34m\u001b[0m\u001b[0;34m\u001b[0m\u001b[0m\n\u001b[0m\u001b[1;32m    780\u001b[0m             \u001b[0;31m# A job can complete so quickly than its callback is\u001b[0m\u001b[0;34m\u001b[0m\u001b[0;34m\u001b[0m\u001b[0;34m\u001b[0m\u001b[0m\n\u001b[1;32m    781\u001b[0m             \u001b[0;31m# called before we get here, causing self._jobs to\u001b[0m\u001b[0;34m\u001b[0m\u001b[0;34m\u001b[0m\u001b[0;34m\u001b[0m\u001b[0m\n",
            "\u001b[0;32m/usr/local/lib/python3.7/dist-packages/joblib/_parallel_backends.py\u001b[0m in \u001b[0;36mapply_async\u001b[0;34m(self, func, callback)\u001b[0m\n\u001b[1;32m    206\u001b[0m     \u001b[0;32mdef\u001b[0m \u001b[0mapply_async\u001b[0m\u001b[0;34m(\u001b[0m\u001b[0mself\u001b[0m\u001b[0;34m,\u001b[0m \u001b[0mfunc\u001b[0m\u001b[0;34m,\u001b[0m \u001b[0mcallback\u001b[0m\u001b[0;34m=\u001b[0m\u001b[0;32mNone\u001b[0m\u001b[0;34m)\u001b[0m\u001b[0;34m:\u001b[0m\u001b[0;34m\u001b[0m\u001b[0;34m\u001b[0m\u001b[0m\n\u001b[1;32m    207\u001b[0m         \u001b[0;34m\"\"\"Schedule a func to be run\"\"\"\u001b[0m\u001b[0;34m\u001b[0m\u001b[0;34m\u001b[0m\u001b[0m\n\u001b[0;32m--> 208\u001b[0;31m         \u001b[0mresult\u001b[0m \u001b[0;34m=\u001b[0m \u001b[0mImmediateResult\u001b[0m\u001b[0;34m(\u001b[0m\u001b[0mfunc\u001b[0m\u001b[0;34m)\u001b[0m\u001b[0;34m\u001b[0m\u001b[0;34m\u001b[0m\u001b[0m\n\u001b[0m\u001b[1;32m    209\u001b[0m         \u001b[0;32mif\u001b[0m \u001b[0mcallback\u001b[0m\u001b[0;34m:\u001b[0m\u001b[0;34m\u001b[0m\u001b[0;34m\u001b[0m\u001b[0m\n\u001b[1;32m    210\u001b[0m             \u001b[0mcallback\u001b[0m\u001b[0;34m(\u001b[0m\u001b[0mresult\u001b[0m\u001b[0;34m)\u001b[0m\u001b[0;34m\u001b[0m\u001b[0;34m\u001b[0m\u001b[0m\n",
            "\u001b[0;32m/usr/local/lib/python3.7/dist-packages/joblib/_parallel_backends.py\u001b[0m in \u001b[0;36m__init__\u001b[0;34m(self, batch)\u001b[0m\n\u001b[1;32m    570\u001b[0m         \u001b[0;31m# Don't delay the application, to avoid keeping the input\u001b[0m\u001b[0;34m\u001b[0m\u001b[0;34m\u001b[0m\u001b[0;34m\u001b[0m\u001b[0m\n\u001b[1;32m    571\u001b[0m         \u001b[0;31m# arguments in memory\u001b[0m\u001b[0;34m\u001b[0m\u001b[0;34m\u001b[0m\u001b[0;34m\u001b[0m\u001b[0m\n\u001b[0;32m--> 572\u001b[0;31m         \u001b[0mself\u001b[0m\u001b[0;34m.\u001b[0m\u001b[0mresults\u001b[0m \u001b[0;34m=\u001b[0m \u001b[0mbatch\u001b[0m\u001b[0;34m(\u001b[0m\u001b[0;34m)\u001b[0m\u001b[0;34m\u001b[0m\u001b[0;34m\u001b[0m\u001b[0m\n\u001b[0m\u001b[1;32m    573\u001b[0m \u001b[0;34m\u001b[0m\u001b[0m\n\u001b[1;32m    574\u001b[0m     \u001b[0;32mdef\u001b[0m \u001b[0mget\u001b[0m\u001b[0;34m(\u001b[0m\u001b[0mself\u001b[0m\u001b[0;34m)\u001b[0m\u001b[0;34m:\u001b[0m\u001b[0;34m\u001b[0m\u001b[0;34m\u001b[0m\u001b[0m\n",
            "\u001b[0;32m/usr/local/lib/python3.7/dist-packages/joblib/parallel.py\u001b[0m in \u001b[0;36m__call__\u001b[0;34m(self)\u001b[0m\n\u001b[1;32m    261\u001b[0m         \u001b[0;32mwith\u001b[0m \u001b[0mparallel_backend\u001b[0m\u001b[0;34m(\u001b[0m\u001b[0mself\u001b[0m\u001b[0;34m.\u001b[0m\u001b[0m_backend\u001b[0m\u001b[0;34m,\u001b[0m \u001b[0mn_jobs\u001b[0m\u001b[0;34m=\u001b[0m\u001b[0mself\u001b[0m\u001b[0;34m.\u001b[0m\u001b[0m_n_jobs\u001b[0m\u001b[0;34m)\u001b[0m\u001b[0;34m:\u001b[0m\u001b[0;34m\u001b[0m\u001b[0;34m\u001b[0m\u001b[0m\n\u001b[1;32m    262\u001b[0m             return [func(*args, **kwargs)\n\u001b[0;32m--> 263\u001b[0;31m                     for func, args, kwargs in self.items]\n\u001b[0m\u001b[1;32m    264\u001b[0m \u001b[0;34m\u001b[0m\u001b[0m\n\u001b[1;32m    265\u001b[0m     \u001b[0;32mdef\u001b[0m \u001b[0m__reduce__\u001b[0m\u001b[0;34m(\u001b[0m\u001b[0mself\u001b[0m\u001b[0;34m)\u001b[0m\u001b[0;34m:\u001b[0m\u001b[0;34m\u001b[0m\u001b[0;34m\u001b[0m\u001b[0m\n",
            "\u001b[0;32m/usr/local/lib/python3.7/dist-packages/joblib/parallel.py\u001b[0m in \u001b[0;36m<listcomp>\u001b[0;34m(.0)\u001b[0m\n\u001b[1;32m    261\u001b[0m         \u001b[0;32mwith\u001b[0m \u001b[0mparallel_backend\u001b[0m\u001b[0;34m(\u001b[0m\u001b[0mself\u001b[0m\u001b[0;34m.\u001b[0m\u001b[0m_backend\u001b[0m\u001b[0;34m,\u001b[0m \u001b[0mn_jobs\u001b[0m\u001b[0;34m=\u001b[0m\u001b[0mself\u001b[0m\u001b[0;34m.\u001b[0m\u001b[0m_n_jobs\u001b[0m\u001b[0;34m)\u001b[0m\u001b[0;34m:\u001b[0m\u001b[0;34m\u001b[0m\u001b[0;34m\u001b[0m\u001b[0m\n\u001b[1;32m    262\u001b[0m             return [func(*args, **kwargs)\n\u001b[0;32m--> 263\u001b[0;31m                     for func, args, kwargs in self.items]\n\u001b[0m\u001b[1;32m    264\u001b[0m \u001b[0;34m\u001b[0m\u001b[0m\n\u001b[1;32m    265\u001b[0m     \u001b[0;32mdef\u001b[0m \u001b[0m__reduce__\u001b[0m\u001b[0;34m(\u001b[0m\u001b[0mself\u001b[0m\u001b[0;34m)\u001b[0m\u001b[0;34m:\u001b[0m\u001b[0;34m\u001b[0m\u001b[0;34m\u001b[0m\u001b[0m\n",
            "\u001b[0;32m/usr/local/lib/python3.7/dist-packages/sklearn/utils/fixes.py\u001b[0m in \u001b[0;36m__call__\u001b[0;34m(self, *args, **kwargs)\u001b[0m\n\u001b[1;32m    214\u001b[0m     \u001b[0;32mdef\u001b[0m \u001b[0m__call__\u001b[0m\u001b[0;34m(\u001b[0m\u001b[0mself\u001b[0m\u001b[0;34m,\u001b[0m \u001b[0;34m*\u001b[0m\u001b[0margs\u001b[0m\u001b[0;34m,\u001b[0m \u001b[0;34m**\u001b[0m\u001b[0mkwargs\u001b[0m\u001b[0;34m)\u001b[0m\u001b[0;34m:\u001b[0m\u001b[0;34m\u001b[0m\u001b[0;34m\u001b[0m\u001b[0m\n\u001b[1;32m    215\u001b[0m         \u001b[0;32mwith\u001b[0m \u001b[0mconfig_context\u001b[0m\u001b[0;34m(\u001b[0m\u001b[0;34m**\u001b[0m\u001b[0mself\u001b[0m\u001b[0;34m.\u001b[0m\u001b[0mconfig\u001b[0m\u001b[0;34m)\u001b[0m\u001b[0;34m:\u001b[0m\u001b[0;34m\u001b[0m\u001b[0;34m\u001b[0m\u001b[0m\n\u001b[0;32m--> 216\u001b[0;31m             \u001b[0;32mreturn\u001b[0m \u001b[0mself\u001b[0m\u001b[0;34m.\u001b[0m\u001b[0mfunction\u001b[0m\u001b[0;34m(\u001b[0m\u001b[0;34m*\u001b[0m\u001b[0margs\u001b[0m\u001b[0;34m,\u001b[0m \u001b[0;34m**\u001b[0m\u001b[0mkwargs\u001b[0m\u001b[0;34m)\u001b[0m\u001b[0;34m\u001b[0m\u001b[0;34m\u001b[0m\u001b[0m\n\u001b[0m\u001b[1;32m    217\u001b[0m \u001b[0;34m\u001b[0m\u001b[0m\n\u001b[1;32m    218\u001b[0m \u001b[0;34m\u001b[0m\u001b[0m\n",
            "\u001b[0;32m/usr/local/lib/python3.7/dist-packages/sklearn/model_selection/_validation.py\u001b[0m in \u001b[0;36m_fit_and_score\u001b[0;34m(estimator, X, y, scorer, train, test, verbose, parameters, fit_params, return_train_score, return_parameters, return_n_test_samples, return_times, return_estimator, split_progress, candidate_progress, error_score)\u001b[0m\n\u001b[1;32m    678\u001b[0m             \u001b[0mestimator\u001b[0m\u001b[0;34m.\u001b[0m\u001b[0mfit\u001b[0m\u001b[0;34m(\u001b[0m\u001b[0mX_train\u001b[0m\u001b[0;34m,\u001b[0m \u001b[0;34m**\u001b[0m\u001b[0mfit_params\u001b[0m\u001b[0;34m)\u001b[0m\u001b[0;34m\u001b[0m\u001b[0;34m\u001b[0m\u001b[0m\n\u001b[1;32m    679\u001b[0m         \u001b[0;32melse\u001b[0m\u001b[0;34m:\u001b[0m\u001b[0;34m\u001b[0m\u001b[0;34m\u001b[0m\u001b[0m\n\u001b[0;32m--> 680\u001b[0;31m             \u001b[0mestimator\u001b[0m\u001b[0;34m.\u001b[0m\u001b[0mfit\u001b[0m\u001b[0;34m(\u001b[0m\u001b[0mX_train\u001b[0m\u001b[0;34m,\u001b[0m \u001b[0my_train\u001b[0m\u001b[0;34m,\u001b[0m \u001b[0;34m**\u001b[0m\u001b[0mfit_params\u001b[0m\u001b[0;34m)\u001b[0m\u001b[0;34m\u001b[0m\u001b[0;34m\u001b[0m\u001b[0m\n\u001b[0m\u001b[1;32m    681\u001b[0m \u001b[0;34m\u001b[0m\u001b[0m\n\u001b[1;32m    682\u001b[0m     \u001b[0;32mexcept\u001b[0m \u001b[0mException\u001b[0m\u001b[0;34m:\u001b[0m\u001b[0;34m\u001b[0m\u001b[0;34m\u001b[0m\u001b[0m\n",
            "\u001b[0;32m/usr/local/lib/python3.7/dist-packages/sklearn/pipeline.py\u001b[0m in \u001b[0;36mfit\u001b[0;34m(self, X, y, **fit_params)\u001b[0m\n\u001b[1;32m    388\u001b[0m         \"\"\"\n\u001b[1;32m    389\u001b[0m         \u001b[0mfit_params_steps\u001b[0m \u001b[0;34m=\u001b[0m \u001b[0mself\u001b[0m\u001b[0;34m.\u001b[0m\u001b[0m_check_fit_params\u001b[0m\u001b[0;34m(\u001b[0m\u001b[0;34m**\u001b[0m\u001b[0mfit_params\u001b[0m\u001b[0;34m)\u001b[0m\u001b[0;34m\u001b[0m\u001b[0;34m\u001b[0m\u001b[0m\n\u001b[0;32m--> 390\u001b[0;31m         \u001b[0mXt\u001b[0m \u001b[0;34m=\u001b[0m \u001b[0mself\u001b[0m\u001b[0;34m.\u001b[0m\u001b[0m_fit\u001b[0m\u001b[0;34m(\u001b[0m\u001b[0mX\u001b[0m\u001b[0;34m,\u001b[0m \u001b[0my\u001b[0m\u001b[0;34m,\u001b[0m \u001b[0;34m**\u001b[0m\u001b[0mfit_params_steps\u001b[0m\u001b[0;34m)\u001b[0m\u001b[0;34m\u001b[0m\u001b[0;34m\u001b[0m\u001b[0m\n\u001b[0m\u001b[1;32m    391\u001b[0m         \u001b[0;32mwith\u001b[0m \u001b[0m_print_elapsed_time\u001b[0m\u001b[0;34m(\u001b[0m\u001b[0;34m\"Pipeline\"\u001b[0m\u001b[0;34m,\u001b[0m \u001b[0mself\u001b[0m\u001b[0;34m.\u001b[0m\u001b[0m_log_message\u001b[0m\u001b[0;34m(\u001b[0m\u001b[0mlen\u001b[0m\u001b[0;34m(\u001b[0m\u001b[0mself\u001b[0m\u001b[0;34m.\u001b[0m\u001b[0msteps\u001b[0m\u001b[0;34m)\u001b[0m \u001b[0;34m-\u001b[0m \u001b[0;36m1\u001b[0m\u001b[0;34m)\u001b[0m\u001b[0;34m)\u001b[0m\u001b[0;34m:\u001b[0m\u001b[0;34m\u001b[0m\u001b[0;34m\u001b[0m\u001b[0m\n\u001b[1;32m    392\u001b[0m             \u001b[0;32mif\u001b[0m \u001b[0mself\u001b[0m\u001b[0;34m.\u001b[0m\u001b[0m_final_estimator\u001b[0m \u001b[0;34m!=\u001b[0m \u001b[0;34m\"passthrough\"\u001b[0m\u001b[0;34m:\u001b[0m\u001b[0;34m\u001b[0m\u001b[0;34m\u001b[0m\u001b[0m\n",
            "\u001b[0;32m/usr/local/lib/python3.7/dist-packages/sklearn/pipeline.py\u001b[0m in \u001b[0;36m_fit\u001b[0;34m(self, X, y, **fit_params_steps)\u001b[0m\n\u001b[1;32m    353\u001b[0m                 \u001b[0mmessage_clsname\u001b[0m\u001b[0;34m=\u001b[0m\u001b[0;34m\"Pipeline\"\u001b[0m\u001b[0;34m,\u001b[0m\u001b[0;34m\u001b[0m\u001b[0;34m\u001b[0m\u001b[0m\n\u001b[1;32m    354\u001b[0m                 \u001b[0mmessage\u001b[0m\u001b[0;34m=\u001b[0m\u001b[0mself\u001b[0m\u001b[0;34m.\u001b[0m\u001b[0m_log_message\u001b[0m\u001b[0;34m(\u001b[0m\u001b[0mstep_idx\u001b[0m\u001b[0;34m)\u001b[0m\u001b[0;34m,\u001b[0m\u001b[0;34m\u001b[0m\u001b[0;34m\u001b[0m\u001b[0m\n\u001b[0;32m--> 355\u001b[0;31m                 \u001b[0;34m**\u001b[0m\u001b[0mfit_params_steps\u001b[0m\u001b[0;34m[\u001b[0m\u001b[0mname\u001b[0m\u001b[0;34m]\u001b[0m\u001b[0;34m,\u001b[0m\u001b[0;34m\u001b[0m\u001b[0;34m\u001b[0m\u001b[0m\n\u001b[0m\u001b[1;32m    356\u001b[0m             )\n\u001b[1;32m    357\u001b[0m             \u001b[0;31m# Replace the transformer of the step with the fitted\u001b[0m\u001b[0;34m\u001b[0m\u001b[0;34m\u001b[0m\u001b[0;34m\u001b[0m\u001b[0m\n",
            "\u001b[0;32m/usr/local/lib/python3.7/dist-packages/joblib/memory.py\u001b[0m in \u001b[0;36m__call__\u001b[0;34m(self, *args, **kwargs)\u001b[0m\n\u001b[1;32m    347\u001b[0m \u001b[0;34m\u001b[0m\u001b[0m\n\u001b[1;32m    348\u001b[0m     \u001b[0;32mdef\u001b[0m \u001b[0m__call__\u001b[0m\u001b[0;34m(\u001b[0m\u001b[0mself\u001b[0m\u001b[0;34m,\u001b[0m \u001b[0;34m*\u001b[0m\u001b[0margs\u001b[0m\u001b[0;34m,\u001b[0m \u001b[0;34m**\u001b[0m\u001b[0mkwargs\u001b[0m\u001b[0;34m)\u001b[0m\u001b[0;34m:\u001b[0m\u001b[0;34m\u001b[0m\u001b[0;34m\u001b[0m\u001b[0m\n\u001b[0;32m--> 349\u001b[0;31m         \u001b[0;32mreturn\u001b[0m \u001b[0mself\u001b[0m\u001b[0;34m.\u001b[0m\u001b[0mfunc\u001b[0m\u001b[0;34m(\u001b[0m\u001b[0;34m*\u001b[0m\u001b[0margs\u001b[0m\u001b[0;34m,\u001b[0m \u001b[0;34m**\u001b[0m\u001b[0mkwargs\u001b[0m\u001b[0;34m)\u001b[0m\u001b[0;34m\u001b[0m\u001b[0;34m\u001b[0m\u001b[0m\n\u001b[0m\u001b[1;32m    350\u001b[0m \u001b[0;34m\u001b[0m\u001b[0m\n\u001b[1;32m    351\u001b[0m     \u001b[0;32mdef\u001b[0m \u001b[0mcall_and_shelve\u001b[0m\u001b[0;34m(\u001b[0m\u001b[0mself\u001b[0m\u001b[0;34m,\u001b[0m \u001b[0;34m*\u001b[0m\u001b[0margs\u001b[0m\u001b[0;34m,\u001b[0m \u001b[0;34m**\u001b[0m\u001b[0mkwargs\u001b[0m\u001b[0;34m)\u001b[0m\u001b[0;34m:\u001b[0m\u001b[0;34m\u001b[0m\u001b[0;34m\u001b[0m\u001b[0m\n",
            "\u001b[0;32m/usr/local/lib/python3.7/dist-packages/sklearn/pipeline.py\u001b[0m in \u001b[0;36m_fit_transform_one\u001b[0;34m(transformer, X, y, weight, message_clsname, message, **fit_params)\u001b[0m\n\u001b[1;32m    891\u001b[0m     \u001b[0;32mwith\u001b[0m \u001b[0m_print_elapsed_time\u001b[0m\u001b[0;34m(\u001b[0m\u001b[0mmessage_clsname\u001b[0m\u001b[0;34m,\u001b[0m \u001b[0mmessage\u001b[0m\u001b[0;34m)\u001b[0m\u001b[0;34m:\u001b[0m\u001b[0;34m\u001b[0m\u001b[0;34m\u001b[0m\u001b[0m\n\u001b[1;32m    892\u001b[0m         \u001b[0;32mif\u001b[0m \u001b[0mhasattr\u001b[0m\u001b[0;34m(\u001b[0m\u001b[0mtransformer\u001b[0m\u001b[0;34m,\u001b[0m \u001b[0;34m\"fit_transform\"\u001b[0m\u001b[0;34m)\u001b[0m\u001b[0;34m:\u001b[0m\u001b[0;34m\u001b[0m\u001b[0;34m\u001b[0m\u001b[0m\n\u001b[0;32m--> 893\u001b[0;31m             \u001b[0mres\u001b[0m \u001b[0;34m=\u001b[0m \u001b[0mtransformer\u001b[0m\u001b[0;34m.\u001b[0m\u001b[0mfit_transform\u001b[0m\u001b[0;34m(\u001b[0m\u001b[0mX\u001b[0m\u001b[0;34m,\u001b[0m \u001b[0my\u001b[0m\u001b[0;34m,\u001b[0m \u001b[0;34m**\u001b[0m\u001b[0mfit_params\u001b[0m\u001b[0;34m)\u001b[0m\u001b[0;34m\u001b[0m\u001b[0;34m\u001b[0m\u001b[0m\n\u001b[0m\u001b[1;32m    894\u001b[0m         \u001b[0;32melse\u001b[0m\u001b[0;34m:\u001b[0m\u001b[0;34m\u001b[0m\u001b[0;34m\u001b[0m\u001b[0m\n\u001b[1;32m    895\u001b[0m             \u001b[0mres\u001b[0m \u001b[0;34m=\u001b[0m \u001b[0mtransformer\u001b[0m\u001b[0;34m.\u001b[0m\u001b[0mfit\u001b[0m\u001b[0;34m(\u001b[0m\u001b[0mX\u001b[0m\u001b[0;34m,\u001b[0m \u001b[0my\u001b[0m\u001b[0;34m,\u001b[0m \u001b[0;34m**\u001b[0m\u001b[0mfit_params\u001b[0m\u001b[0;34m)\u001b[0m\u001b[0;34m.\u001b[0m\u001b[0mtransform\u001b[0m\u001b[0;34m(\u001b[0m\u001b[0mX\u001b[0m\u001b[0;34m)\u001b[0m\u001b[0;34m\u001b[0m\u001b[0;34m\u001b[0m\u001b[0m\n",
            "\u001b[0;32m/usr/local/lib/python3.7/dist-packages/sklearn/base.py\u001b[0m in \u001b[0;36mfit_transform\u001b[0;34m(self, X, y, **fit_params)\u001b[0m\n\u001b[1;32m    853\u001b[0m         \u001b[0;32melse\u001b[0m\u001b[0;34m:\u001b[0m\u001b[0;34m\u001b[0m\u001b[0;34m\u001b[0m\u001b[0m\n\u001b[1;32m    854\u001b[0m             \u001b[0;31m# fit method of arity 2 (supervised transformation)\u001b[0m\u001b[0;34m\u001b[0m\u001b[0;34m\u001b[0m\u001b[0;34m\u001b[0m\u001b[0m\n\u001b[0;32m--> 855\u001b[0;31m             \u001b[0;32mreturn\u001b[0m \u001b[0mself\u001b[0m\u001b[0;34m.\u001b[0m\u001b[0mfit\u001b[0m\u001b[0;34m(\u001b[0m\u001b[0mX\u001b[0m\u001b[0;34m,\u001b[0m \u001b[0my\u001b[0m\u001b[0;34m,\u001b[0m \u001b[0;34m**\u001b[0m\u001b[0mfit_params\u001b[0m\u001b[0;34m)\u001b[0m\u001b[0;34m.\u001b[0m\u001b[0mtransform\u001b[0m\u001b[0;34m(\u001b[0m\u001b[0mX\u001b[0m\u001b[0;34m)\u001b[0m\u001b[0;34m\u001b[0m\u001b[0;34m\u001b[0m\u001b[0m\n\u001b[0m\u001b[1;32m    856\u001b[0m \u001b[0;34m\u001b[0m\u001b[0m\n\u001b[1;32m    857\u001b[0m \u001b[0;34m\u001b[0m\u001b[0m\n",
            "\u001b[0;32m/usr/local/lib/python3.7/dist-packages/sklearn/feature_selection/_univariate_selection.py\u001b[0m in \u001b[0;36mfit\u001b[0;34m(self, X, y)\u001b[0m\n\u001b[1;32m    406\u001b[0m \u001b[0;34m\u001b[0m\u001b[0m\n\u001b[1;32m    407\u001b[0m         \u001b[0mself\u001b[0m\u001b[0;34m.\u001b[0m\u001b[0m_check_params\u001b[0m\u001b[0;34m(\u001b[0m\u001b[0mX\u001b[0m\u001b[0;34m,\u001b[0m \u001b[0my\u001b[0m\u001b[0;34m)\u001b[0m\u001b[0;34m\u001b[0m\u001b[0;34m\u001b[0m\u001b[0m\n\u001b[0;32m--> 408\u001b[0;31m         \u001b[0mscore_func_ret\u001b[0m \u001b[0;34m=\u001b[0m \u001b[0mself\u001b[0m\u001b[0;34m.\u001b[0m\u001b[0mscore_func\u001b[0m\u001b[0;34m(\u001b[0m\u001b[0mX\u001b[0m\u001b[0;34m,\u001b[0m \u001b[0my\u001b[0m\u001b[0;34m)\u001b[0m\u001b[0;34m\u001b[0m\u001b[0;34m\u001b[0m\u001b[0m\n\u001b[0m\u001b[1;32m    409\u001b[0m         \u001b[0;32mif\u001b[0m \u001b[0misinstance\u001b[0m\u001b[0;34m(\u001b[0m\u001b[0mscore_func_ret\u001b[0m\u001b[0;34m,\u001b[0m \u001b[0;34m(\u001b[0m\u001b[0mlist\u001b[0m\u001b[0;34m,\u001b[0m \u001b[0mtuple\u001b[0m\u001b[0;34m)\u001b[0m\u001b[0;34m)\u001b[0m\u001b[0;34m:\u001b[0m\u001b[0;34m\u001b[0m\u001b[0;34m\u001b[0m\u001b[0m\n\u001b[1;32m    410\u001b[0m             \u001b[0mself\u001b[0m\u001b[0;34m.\u001b[0m\u001b[0mscores_\u001b[0m\u001b[0;34m,\u001b[0m \u001b[0mself\u001b[0m\u001b[0;34m.\u001b[0m\u001b[0mpvalues_\u001b[0m \u001b[0;34m=\u001b[0m \u001b[0mscore_func_ret\u001b[0m\u001b[0;34m\u001b[0m\u001b[0;34m\u001b[0m\u001b[0m\n",
            "\u001b[0;32m/usr/local/lib/python3.7/dist-packages/sklearn/feature_selection/_univariate_selection.py\u001b[0m in \u001b[0;36mf_classif\u001b[0;34m(X, y)\u001b[0m\n\u001b[1;32m    146\u001b[0m     \u001b[0mX\u001b[0m\u001b[0;34m,\u001b[0m \u001b[0my\u001b[0m \u001b[0;34m=\u001b[0m \u001b[0mcheck_X_y\u001b[0m\u001b[0;34m(\u001b[0m\u001b[0mX\u001b[0m\u001b[0;34m,\u001b[0m \u001b[0my\u001b[0m\u001b[0;34m,\u001b[0m \u001b[0maccept_sparse\u001b[0m\u001b[0;34m=\u001b[0m\u001b[0;34m[\u001b[0m\u001b[0;34m\"csr\"\u001b[0m\u001b[0;34m,\u001b[0m \u001b[0;34m\"csc\"\u001b[0m\u001b[0;34m,\u001b[0m \u001b[0;34m\"coo\"\u001b[0m\u001b[0;34m]\u001b[0m\u001b[0;34m)\u001b[0m\u001b[0;34m\u001b[0m\u001b[0;34m\u001b[0m\u001b[0m\n\u001b[1;32m    147\u001b[0m     \u001b[0margs\u001b[0m \u001b[0;34m=\u001b[0m \u001b[0;34m[\u001b[0m\u001b[0mX\u001b[0m\u001b[0;34m[\u001b[0m\u001b[0msafe_mask\u001b[0m\u001b[0;34m(\u001b[0m\u001b[0mX\u001b[0m\u001b[0;34m,\u001b[0m \u001b[0my\u001b[0m \u001b[0;34m==\u001b[0m \u001b[0mk\u001b[0m\u001b[0;34m)\u001b[0m\u001b[0;34m]\u001b[0m \u001b[0;32mfor\u001b[0m \u001b[0mk\u001b[0m \u001b[0;32min\u001b[0m \u001b[0mnp\u001b[0m\u001b[0;34m.\u001b[0m\u001b[0munique\u001b[0m\u001b[0;34m(\u001b[0m\u001b[0my\u001b[0m\u001b[0;34m)\u001b[0m\u001b[0;34m]\u001b[0m\u001b[0;34m\u001b[0m\u001b[0;34m\u001b[0m\u001b[0m\n\u001b[0;32m--> 148\u001b[0;31m     \u001b[0;32mreturn\u001b[0m \u001b[0mf_oneway\u001b[0m\u001b[0;34m(\u001b[0m\u001b[0;34m*\u001b[0m\u001b[0margs\u001b[0m\u001b[0;34m)\u001b[0m\u001b[0;34m\u001b[0m\u001b[0;34m\u001b[0m\u001b[0m\n\u001b[0m\u001b[1;32m    149\u001b[0m \u001b[0;34m\u001b[0m\u001b[0m\n\u001b[1;32m    150\u001b[0m \u001b[0;34m\u001b[0m\u001b[0m\n",
            "\u001b[0;32m/usr/local/lib/python3.7/dist-packages/sklearn/feature_selection/_univariate_selection.py\u001b[0m in \u001b[0;36mf_oneway\u001b[0;34m(*args)\u001b[0m\n\u001b[1;32m     91\u001b[0m     \"\"\"\n\u001b[1;32m     92\u001b[0m     \u001b[0mn_classes\u001b[0m \u001b[0;34m=\u001b[0m \u001b[0mlen\u001b[0m\u001b[0;34m(\u001b[0m\u001b[0margs\u001b[0m\u001b[0;34m)\u001b[0m\u001b[0;34m\u001b[0m\u001b[0;34m\u001b[0m\u001b[0m\n\u001b[0;32m---> 93\u001b[0;31m     \u001b[0margs\u001b[0m \u001b[0;34m=\u001b[0m \u001b[0;34m[\u001b[0m\u001b[0mas_float_array\u001b[0m\u001b[0;34m(\u001b[0m\u001b[0ma\u001b[0m\u001b[0;34m)\u001b[0m \u001b[0;32mfor\u001b[0m \u001b[0ma\u001b[0m \u001b[0;32min\u001b[0m \u001b[0margs\u001b[0m\u001b[0;34m]\u001b[0m\u001b[0;34m\u001b[0m\u001b[0;34m\u001b[0m\u001b[0m\n\u001b[0m\u001b[1;32m     94\u001b[0m     \u001b[0mn_samples_per_class\u001b[0m \u001b[0;34m=\u001b[0m \u001b[0mnp\u001b[0m\u001b[0;34m.\u001b[0m\u001b[0marray\u001b[0m\u001b[0;34m(\u001b[0m\u001b[0;34m[\u001b[0m\u001b[0ma\u001b[0m\u001b[0;34m.\u001b[0m\u001b[0mshape\u001b[0m\u001b[0;34m[\u001b[0m\u001b[0;36m0\u001b[0m\u001b[0;34m]\u001b[0m \u001b[0;32mfor\u001b[0m \u001b[0ma\u001b[0m \u001b[0;32min\u001b[0m \u001b[0margs\u001b[0m\u001b[0;34m]\u001b[0m\u001b[0;34m)\u001b[0m\u001b[0;34m\u001b[0m\u001b[0;34m\u001b[0m\u001b[0m\n\u001b[1;32m     95\u001b[0m     \u001b[0mn_samples\u001b[0m \u001b[0;34m=\u001b[0m \u001b[0mnp\u001b[0m\u001b[0;34m.\u001b[0m\u001b[0msum\u001b[0m\u001b[0;34m(\u001b[0m\u001b[0mn_samples_per_class\u001b[0m\u001b[0;34m)\u001b[0m\u001b[0;34m\u001b[0m\u001b[0;34m\u001b[0m\u001b[0m\n",
            "\u001b[0;32m/usr/local/lib/python3.7/dist-packages/sklearn/feature_selection/_univariate_selection.py\u001b[0m in \u001b[0;36m<listcomp>\u001b[0;34m(.0)\u001b[0m\n\u001b[1;32m     91\u001b[0m     \"\"\"\n\u001b[1;32m     92\u001b[0m     \u001b[0mn_classes\u001b[0m \u001b[0;34m=\u001b[0m \u001b[0mlen\u001b[0m\u001b[0;34m(\u001b[0m\u001b[0margs\u001b[0m\u001b[0;34m)\u001b[0m\u001b[0;34m\u001b[0m\u001b[0;34m\u001b[0m\u001b[0m\n\u001b[0;32m---> 93\u001b[0;31m     \u001b[0margs\u001b[0m \u001b[0;34m=\u001b[0m \u001b[0;34m[\u001b[0m\u001b[0mas_float_array\u001b[0m\u001b[0;34m(\u001b[0m\u001b[0ma\u001b[0m\u001b[0;34m)\u001b[0m \u001b[0;32mfor\u001b[0m \u001b[0ma\u001b[0m \u001b[0;32min\u001b[0m \u001b[0margs\u001b[0m\u001b[0;34m]\u001b[0m\u001b[0;34m\u001b[0m\u001b[0;34m\u001b[0m\u001b[0m\n\u001b[0m\u001b[1;32m     94\u001b[0m     \u001b[0mn_samples_per_class\u001b[0m \u001b[0;34m=\u001b[0m \u001b[0mnp\u001b[0m\u001b[0;34m.\u001b[0m\u001b[0marray\u001b[0m\u001b[0;34m(\u001b[0m\u001b[0;34m[\u001b[0m\u001b[0ma\u001b[0m\u001b[0;34m.\u001b[0m\u001b[0mshape\u001b[0m\u001b[0;34m[\u001b[0m\u001b[0;36m0\u001b[0m\u001b[0;34m]\u001b[0m \u001b[0;32mfor\u001b[0m \u001b[0ma\u001b[0m \u001b[0;32min\u001b[0m \u001b[0margs\u001b[0m\u001b[0;34m]\u001b[0m\u001b[0;34m)\u001b[0m\u001b[0;34m\u001b[0m\u001b[0;34m\u001b[0m\u001b[0m\n\u001b[1;32m     95\u001b[0m     \u001b[0mn_samples\u001b[0m \u001b[0;34m=\u001b[0m \u001b[0mnp\u001b[0m\u001b[0;34m.\u001b[0m\u001b[0msum\u001b[0m\u001b[0;34m(\u001b[0m\u001b[0mn_samples_per_class\u001b[0m\u001b[0;34m)\u001b[0m\u001b[0;34m\u001b[0m\u001b[0;34m\u001b[0m\u001b[0m\n",
            "\u001b[0;32m/usr/local/lib/python3.7/dist-packages/sklearn/utils/validation.py\u001b[0m in \u001b[0;36mas_float_array\u001b[0;34m(X, copy, force_all_finite)\u001b[0m\n\u001b[1;32m    185\u001b[0m         \u001b[0;32mreturn\u001b[0m \u001b[0mX\u001b[0m\u001b[0;34m.\u001b[0m\u001b[0mcopy\u001b[0m\u001b[0;34m(\u001b[0m\u001b[0;34m)\u001b[0m \u001b[0;32mif\u001b[0m \u001b[0mcopy\u001b[0m \u001b[0;32melse\u001b[0m \u001b[0mX\u001b[0m\u001b[0;34m\u001b[0m\u001b[0;34m\u001b[0m\u001b[0m\n\u001b[1;32m    186\u001b[0m     \u001b[0;32melif\u001b[0m \u001b[0mX\u001b[0m\u001b[0;34m.\u001b[0m\u001b[0mdtype\u001b[0m \u001b[0;32min\u001b[0m \u001b[0;34m[\u001b[0m\u001b[0mnp\u001b[0m\u001b[0;34m.\u001b[0m\u001b[0mfloat32\u001b[0m\u001b[0;34m,\u001b[0m \u001b[0mnp\u001b[0m\u001b[0;34m.\u001b[0m\u001b[0mfloat64\u001b[0m\u001b[0;34m]\u001b[0m\u001b[0;34m:\u001b[0m  \u001b[0;31m# is numpy array\u001b[0m\u001b[0;34m\u001b[0m\u001b[0;34m\u001b[0m\u001b[0m\n\u001b[0;32m--> 187\u001b[0;31m         \u001b[0;32mreturn\u001b[0m \u001b[0mX\u001b[0m\u001b[0;34m.\u001b[0m\u001b[0mcopy\u001b[0m\u001b[0;34m(\u001b[0m\u001b[0;34m\"F\"\u001b[0m \u001b[0;32mif\u001b[0m \u001b[0mX\u001b[0m\u001b[0;34m.\u001b[0m\u001b[0mflags\u001b[0m\u001b[0;34m[\u001b[0m\u001b[0;34m\"F_CONTIGUOUS\"\u001b[0m\u001b[0;34m]\u001b[0m \u001b[0;32melse\u001b[0m \u001b[0;34m\"C\"\u001b[0m\u001b[0;34m)\u001b[0m \u001b[0;32mif\u001b[0m \u001b[0mcopy\u001b[0m \u001b[0;32melse\u001b[0m \u001b[0mX\u001b[0m\u001b[0;34m\u001b[0m\u001b[0;34m\u001b[0m\u001b[0m\n\u001b[0m\u001b[1;32m    188\u001b[0m     \u001b[0;32melse\u001b[0m\u001b[0;34m:\u001b[0m\u001b[0;34m\u001b[0m\u001b[0;34m\u001b[0m\u001b[0m\n\u001b[1;32m    189\u001b[0m         \u001b[0;32mif\u001b[0m \u001b[0mX\u001b[0m\u001b[0;34m.\u001b[0m\u001b[0mdtype\u001b[0m\u001b[0;34m.\u001b[0m\u001b[0mkind\u001b[0m \u001b[0;32min\u001b[0m \u001b[0;34m\"uib\"\u001b[0m \u001b[0;32mand\u001b[0m \u001b[0mX\u001b[0m\u001b[0;34m.\u001b[0m\u001b[0mdtype\u001b[0m\u001b[0;34m.\u001b[0m\u001b[0mitemsize\u001b[0m \u001b[0;34m<=\u001b[0m \u001b[0;36m4\u001b[0m\u001b[0;34m:\u001b[0m\u001b[0;34m\u001b[0m\u001b[0;34m\u001b[0m\u001b[0m\n",
            "\u001b[0;31mKeyboardInterrupt\u001b[0m: "
          ]
        }
      ]
    },
    {
      "cell_type": "code",
      "source": [
        "pipeline9 = lambda: Pipeline(steps=[\n",
        "        ('fs',SelectKBest()), \n",
        "        ('lgbm', lgbm.LGBMClassifier())])\n",
        "])\n",
        "\n",
        "print(np.mean(get_metrics(pipeline9)[1]))"
      ],
      "metadata": {
        "id": "HkLAyYZjpfOW",
        "colab": {
          "base_uri": "https://localhost:8080/"
        },
        "outputId": "54088a7a-4bf5-4cd4-e583-ca02a306f75e"
      },
      "execution_count": null,
      "outputs": [
        {
          "output_type": "stream",
          "name": "stdout",
          "text": [
            "{'reg_lambda': 4, 'reg_alpha': 1, 'n_estimators': 125, 'max_depth': 4, 'learning_rate': 0.1}\n",
            "0.7655172413793103\n",
            "Mean train accuracy: 0.9282241379310343\n",
            "Mean test accuracy: 0.7561379310344826\n"
          ]
        }
      ]
    },
    {
      "cell_type": "markdown",
      "source": [
        "# Ensembles"
      ],
      "metadata": {
        "id": "UkbBf8TrXkEQ"
      }
    },
    {
      "cell_type": "markdown",
      "source": [
        "Pipeline that uses a MinMaxScaler and a random forest classifier ensemble without feature selection"
      ],
      "metadata": {
        "id": "GbUnp0Y1yupb"
      }
    },
    {
      "cell_type": "code",
      "source": [
        "pipeline10 = Pipeline(steps=[('scaler', MinMaxScaler()), ('ensemble', RandomForestClassifier())])\n",
        "\n",
        "params = {\n",
        "    'ensemble__n_estimators': list(range(2, 30)),\n",
        "    'ensemble__criterion': ['gini', 'entropy'],\n",
        "    'ensemble__max_depth': list(range(2, 20)),\n",
        "    'ensemble__class_weight': ['balanced', 'balanced_subsample', None]\n",
        "}\n",
        "\n",
        "search = GridSearchCV(pipeline10, params)\n",
        "search.fit(X, y['Outcome'])\n",
        "\n",
        "bp10 = search.best_params_\n",
        "print(search.best_score_)\n",
        "print(search.best_params_)"
      ],
      "metadata": {
        "colab": {
          "base_uri": "https://localhost:8080/"
        },
        "id": "XYQRJyy6gcaQ",
        "outputId": "db5e8253-632f-42ae-8736-ee8aaec06119"
      },
      "execution_count": null,
      "outputs": [
        {
          "output_type": "stream",
          "name": "stdout",
          "text": [
            "0.7891858237547893\n",
            "{'ensemble__class_weight': None, 'ensemble__criterion': 'gini', 'ensemble__max_depth': 15, 'ensemble__n_estimators': 28}\n"
          ]
        }
      ]
    },
    {
      "cell_type": "code",
      "source": [
        "pipeline10 = lambda: Pipeline(steps=[\n",
        "        ('scaler', MinMaxScaler()), \n",
        "        ('ensemble', RandomForestClassifier(\n",
        "            n_estimators=bp10['ensemble__n_estimators'], \n",
        "            criterion=bp10['ensemble__criterion'], \n",
        "            max_depth=bp10['ensemble__max_depth'], \n",
        "            class_weight=bp10['ensemble__class_weight'])\n",
        "        )\n",
        "        \n",
        "])\n",
        "\n",
        "print(np.mean(get_metrics(pipeline10)[1]))"
      ],
      "metadata": {
        "colab": {
          "base_uri": "https://localhost:8080/"
        },
        "id": "8gRH-GzRgeOB",
        "outputId": "fa51976c-ed10-4b85-ab4b-f9ec4c4d3cda"
      },
      "execution_count": null,
      "outputs": [
        {
          "output_type": "stream",
          "name": "stdout",
          "text": [
            "Mean train accuracy: 0.8307586206896553\n",
            "Mean test accuracy: 0.763241379310345\n"
          ]
        }
      ]
    },
    {
      "cell_type": "markdown",
      "source": [
        "Pipeline that uses a StandardScaler and a random forest classifier ensemble without feature selection"
      ],
      "metadata": {
        "id": "WZq6xxo7zDkq"
      }
    },
    {
      "cell_type": "code",
      "source": [
        "pipeline11 = Pipeline(steps=[('scaler', StandardScaler()), ('ensemble', RandomForestClassifier())])\n",
        "\n",
        "params = {\n",
        "    'ensemble__n_estimators': list(range(5, 35)),\n",
        "    'ensemble__criterion': ['gini', 'entropy'],\n",
        "    'ensemble__max_depth': list(range(2, 20)),\n",
        "    'ensemble__class_weight': ['balanced', 'balanced_subsample', None]\n",
        "}\n",
        "\n",
        "search = GridSearchCV(pipeline11, params)\n",
        "search.fit(X, y['Outcome'])\n",
        "\n",
        "bp11 = search.best_params_\n",
        "print(search.best_score_)\n",
        "print(search.best_params_)"
      ],
      "metadata": {
        "colab": {
          "base_uri": "https://localhost:8080/"
        },
        "id": "Y2YwL-IyXwdG",
        "outputId": "551f3614-90d0-4f91-a52f-7c5037486db9"
      },
      "execution_count": null,
      "outputs": [
        {
          "output_type": "stream",
          "name": "stdout",
          "text": [
            "0.7823180076628352\n",
            "{'ensemble__class_weight': 'balanced_subsample', 'ensemble__criterion': 'entropy', 'ensemble__max_depth': 4, 'ensemble__n_estimators': 30}\n"
          ]
        }
      ]
    },
    {
      "cell_type": "code",
      "source": [
        "pipeline11 = lambda: Pipeline(steps=[\n",
        "        ('scaler', StandardScaler()), \n",
        "        ('ensemble', RandomForestClassifier(\n",
        "            n_estimators=bp11['ensemble__n_estimators'], \n",
        "            criterion=bp11['ensemble__criterion'], \n",
        "            max_depth=bp11['ensemble__max_depth'], \n",
        "            class_weight=bp11['ensemble__class_weight'])\n",
        "        )\n",
        "        \n",
        "])\n",
        "\n",
        "print(np.mean(get_metrics(pipeline11)[1]))"
      ],
      "metadata": {
        "colab": {
          "base_uri": "https://localhost:8080/"
        },
        "id": "5I2OiJLuvKF8",
        "outputId": "4668b261-9f36-4cab-8a90-24b838605974"
      },
      "execution_count": null,
      "outputs": [
        {
          "output_type": "stream",
          "name": "stdout",
          "text": [
            "Mean train accuracy: 0.8191145833333334\n",
            "Mean test accuracy: 0.7644137931034483\n"
          ]
        }
      ]
    },
    {
      "cell_type": "markdown",
      "source": [
        "Pipeline that uses SelectKBest feature selection, StandardScaler and a random forest classifier ensemble"
      ],
      "metadata": {
        "id": "lYXc_5oR0IAJ"
      }
    },
    {
      "cell_type": "code",
      "source": [
        "pipeline12 = Pipeline(steps=[('fs', SelectKBest()), ('scaler', StandardScaler()),('ensemble', RandomForestClassifier())])\n",
        "params = {\n",
        "    'ensemble__n_estimators': list(range(15, 30)),\n",
        "    'ensemble__criterion': ['gini', 'entropy'],\n",
        "    'ensemble__max_depth': list(range(4, 10)),\n",
        "    'ensemble__class_weight': ['balanced', 'balanced_subsample', None],\n",
        "    'fs__score_func':[f_classif],\n",
        "    'fs__k':list(range((len(X.columns)-3),(len(X.columns))))\n",
        "}\n",
        "search = GridSearchCV(pipeline12, params)\n",
        "search.fit(X, y['Outcome'])\n",
        "bp12 = search.best_params_\n",
        "print(search.best_score_)\n",
        "print(search.best_params_) \n"
      ],
      "metadata": {
        "colab": {
          "base_uri": "https://localhost:8080/"
        },
        "id": "SpQg1q1NExSR",
        "outputId": "ef6ad12f-66a4-4ce6-e117-2a67b4fed462"
      },
      "execution_count": null,
      "outputs": [
        {
          "output_type": "stream",
          "name": "stdout",
          "text": [
            "0.7862068965517242\n",
            "{'ensemble__class_weight': 'balanced_subsample', 'ensemble__criterion': 'entropy', 'ensemble__max_depth': 9, 'ensemble__n_estimators': 24, 'fs__k': 15, 'fs__score_func': <function f_classif at 0x7f791c9b5b00>}\n"
          ]
        }
      ]
    },
    {
      "cell_type": "code",
      "source": [
        "pipeline12 = lambda: Pipeline(steps=[\n",
        "        ('fs', SelectKBest(score_func=bp12['fs__score_func'], k=bp12['fs__k'])),\n",
        "        ('scaler', StandardScaler()), \n",
        "        ('ensemble', RandomForestClassifier(\n",
        "            n_estimators=bp12['ensemble__n_estimators'], \n",
        "            criterion=bp12['ensemble__criterion'], \n",
        "            max_depth=bp12['ensemble__max_depth'], \n",
        "            class_weight=bp12['ensemble__class_weight'])\n",
        "        )\n",
        "        \n",
        "])\n",
        "\n",
        "print(np.mean(get_metrics(pipeline12)[1]))"
      ],
      "metadata": {
        "id": "guB3CRX4oFpU",
        "colab": {
          "base_uri": "https://localhost:8080/"
        },
        "outputId": "879752f6-c674-4357-cc79-0b76ddf32e9f"
      },
      "execution_count": null,
      "outputs": [
        {
          "output_type": "stream",
          "name": "stdout",
          "text": [
            "Mean train accuracy: 0.8170344827586206\n",
            "Mean test accuracy: 0.7628965517241382\n"
          ]
        }
      ]
    },
    {
      "cell_type": "markdown",
      "source": [
        "Pipeline that uses SelectKBest feature selection, MinMaxScaler and a random forest classifier ensemble"
      ],
      "metadata": {
        "id": "uYgG96WH0OBo"
      }
    },
    {
      "cell_type": "code",
      "source": [
        "pipeline13 = Pipeline(steps=[('fs',SelectKBest()),('scaler', MinMaxScaler()),('ensemble', RandomForestClassifier())])\n",
        "params = {\n",
        "    'ensemble__n_estimators': list(range(15, 30)),\n",
        "    'ensemble__criterion': ['gini', 'entropy'],\n",
        "    'ensemble__max_depth': list(range(4, 10)),\n",
        "    'ensemble__class_weight': ['balanced', 'balanced_subsample', None],\n",
        "    'fs__score_func':[f_classif],\n",
        "    'fs__k':list(range((len(X.columns)-3),(len(X.columns))))\n",
        "}\n",
        "\n",
        "search = GridSearchCV(pipeline13, params)\n",
        "search.fit(X, y['Outcome'])\n",
        "bp13 = search.best_params_\n",
        "print(search.best_score_)\n",
        "print(search.best_params_) "
      ],
      "metadata": {
        "colab": {
          "base_uri": "https://localhost:8080/"
        },
        "id": "wv3bYF8fHzqh",
        "outputId": "fa067789-8cc7-4456-c083-58eca247a059"
      },
      "execution_count": null,
      "outputs": [
        {
          "output_type": "stream",
          "name": "stdout",
          "text": [
            "0.7779310344827586\n",
            "{'ensemble__class_weight': 'balanced', 'ensemble__criterion': 'entropy', 'ensemble__max_depth': 5, 'ensemble__n_estimators': 21, 'fs__k': 15, 'fs__score_func': <function f_classif at 0x7f791c9b5b00>}\n"
          ]
        }
      ]
    },
    {
      "cell_type": "code",
      "source": [
        "pipeline13 = lambda: Pipeline(steps=[\n",
        "        ('fs', SelectKBest(score_func=bp13['fs__score_func'], k=bp13['fs__k'])),\n",
        "        ('scaler', MinMaxScaler()), \n",
        "        ('ensemble', RandomForestClassifier(\n",
        "            n_estimators=bp13['ensemble__n_estimators'], \n",
        "            criterion=bp13['ensemble__criterion'], \n",
        "            max_depth=bp13['ensemble__max_depth'], \n",
        "            class_weight=bp13['ensemble__class_weight'])\n",
        "        )\n",
        "        \n",
        "])\n",
        "\n",
        "print(np.mean(get_metrics(pipeline13)[1]))"
      ],
      "metadata": {
        "colab": {
          "base_uri": "https://localhost:8080/"
        },
        "id": "BLL5KBMFH9Nw",
        "outputId": "a72d55cc-21e6-4f3c-cbbd-d97cab4ead0f"
      },
      "execution_count": null,
      "outputs": [
        {
          "output_type": "stream",
          "name": "stdout",
          "text": [
            "Mean train accuracy: 0.8452758620689655\n",
            "Mean test accuracy: 0.7632413793103447\n"
          ]
        }
      ]
    },
    {
      "cell_type": "markdown",
      "source": [
        "Pipeline that uses RFE feature selection, StandardScaler and a random forest classifier ensemble"
      ],
      "metadata": {
        "id": "8iDKgJch2D9D"
      }
    },
    {
      "cell_type": "code",
      "source": [
        "pipeline14 = Pipeline(steps=[('fs',RFE(estimator=RandomForestClassifier())),('scaler', StandardScaler()),('ensemble', RandomForestClassifier())])\n",
        "params = {\n",
        "    'ensemble__n_estimators': list(range(20, 30)),\n",
        "    'ensemble__criterion': ['gini', 'entropy'],\n",
        "    'ensemble__max_depth': list(range(4, 10)),\n",
        "    'ensemble__class_weight': ['balanced', 'balanced_subsample', None],\n",
        "    'fs__n_features_to_select':[(len(X.columns)-1)]\n",
        "}\n",
        "search = GridSearchCV(pipeline14, params)\n",
        "search.fit(X, y['Outcome'])\n",
        "bp14 = search.best_params_\n",
        "print(search.best_score_)\n",
        "print(search.best_params_) "
      ],
      "metadata": {
        "colab": {
          "base_uri": "https://localhost:8080/"
        },
        "id": "mlhqZTi3KSSf",
        "outputId": "d4ed74ad-876d-449b-f6dd-d9acff12a16d"
      },
      "execution_count": null,
      "outputs": [
        {
          "output_type": "stream",
          "name": "stdout",
          "text": [
            "0.7779310344827587\n",
            "{'ensemble__class_weight': 'balanced', 'ensemble__criterion': 'entropy', 'ensemble__max_depth': 6, 'ensemble__n_estimators': 28, 'fs__n_features_to_select': 15}\n"
          ]
        }
      ]
    },
    {
      "cell_type": "code",
      "source": [
        "pipeline14 = lambda: Pipeline(steps=[\n",
        "        ('fs', RFE(estimator=RandomForestClassifier(), n_feature_to_select=bp14['fs__n_features_to_select']),\n",
        "        ('scaler', StandardScaler()), \n",
        "        ('ensemble', RandomForestClassifier(\n",
        "            n_estimators=bp14['ensemble__n_estimators'], \n",
        "            criterion=bp14['ensemble__criterion'], \n",
        "            max_depth=bp14['ensemble__max_depth'], \n",
        "            class_weight=bp14['ensemble__class_weight'])\n",
        "        )\n",
        "        \n",
        "])\n",
        "\n",
        "print(np.mean(get_metrics(pipeline14)[1]))"
      ],
      "metadata": {
        "id": "J6eXLkI2Kk4V",
        "colab": {
          "base_uri": "https://localhost:8080/"
        },
        "outputId": "f89b449e-1a62-49a8-c212-7efc62cbc717"
      },
      "execution_count": null,
      "outputs": [
        {
          "output_type": "stream",
          "name": "stdout",
          "text": [
            "Mean train accuracy: 0.8190172413793104\n",
            "Mean test accuracy: 0.7642758620689655\n"
          ]
        }
      ]
    },
    {
      "cell_type": "markdown",
      "source": [
        "Pipeline that uses RFE feature selection, MinMaxScaler and a random forest classifier ensemble"
      ],
      "metadata": {
        "id": "EdUYrOw72W9b"
      }
    },
    {
      "cell_type": "code",
      "source": [
        "pipeline15 = Pipeline(steps=[('fs',RFE(estimator=RandomForestClassifier())), ('scaler', MinMaxScaler()),('ensemble', RandomForestClassifier())])\n",
        "params = {\n",
        "    'ensemble__n_estimators': list(range(20, 30)),\n",
        "    'ensemble__criterion': ['gini', 'entropy'],\n",
        "    'ensemble__max_depth': list(range(4, 10)),\n",
        "    'ensemble__class_weight': ['balanced', 'balanced_subsample', None],\n",
        "    'fs__n_features_to_select':[(len(X.columns)-1)]\n",
        "}\n",
        "search = GridSearchCV(pipeline15, params)\n",
        "search.fit(X, y['Outcome'])\n",
        "bp15 = search.best_params_\n",
        "print(search.best_score_)\n",
        "print(search.best_params_) "
      ],
      "metadata": {
        "id": "PeJ-4l-02aiB"
      },
      "execution_count": null,
      "outputs": []
    },
    {
      "cell_type": "code",
      "source": [
        "pipeline15 = lambda: Pipeline(steps=[\n",
        "        ('fs', RFE(estimator=RandomForestClassifier(), n_feature_to_select=bp15['fs__n_features_to_select']),\n",
        "        ('scaler', MinMaxScaler()), \n",
        "        ('ensemble', RandomForestClassifier(\n",
        "            n_estimators=bp15['ensemble__n_estimators'], \n",
        "            criterion=bp15['ensemble__criterion'], \n",
        "            max_depth=bp15['ensemble__max_depth'], \n",
        "            class_weight=bp15['ensemble__class_weight'])\n",
        "        )\n",
        "        \n",
        "])\n",
        "\n",
        "print(np.mean(get_metrics(pipeline15)[1]))"
      ],
      "metadata": {
        "id": "dMkIL-rx2c5m"
      },
      "execution_count": null,
      "outputs": []
    },
    {
      "cell_type": "markdown",
      "source": [
        "# Metric evaluation\n",
        "\n",
        "**TODO**: treba uzet sve ove pipelineove npr.mogu se kod svakog stvaranja ubacit u neki dict ime_klasifikatora: lambda_koja_ga_poziva, evaluirati ih pomocu funkcije get metrics, idealno strpat u dataframe i s display(df) funkcijom ispisat\n",
        "\n",
        "nek df ima ime npr.('selectkbest_polynomialfeatures_minmax_logreg'), i onda stupce za svaku od onih metrika koje funkcija vraca\n",
        "\n",
        "neuronska se mora rucno jer nece radit s funkcijom get_metrics"
      ],
      "metadata": {
        "id": "qW7DahxSYed0"
      }
    }
  ]
}