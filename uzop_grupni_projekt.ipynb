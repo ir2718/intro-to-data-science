{
  "nbformat": 4,
  "nbformat_minor": 0,
  "metadata": {
    "colab": {
      "name": "uzop_grupni_projekt.ipynb",
      "provenance": [],
      "collapsed_sections": [
        "pZMA-x0pcbG2",
        "i8NSUePKppEF",
        "WY8DzokOpjDk",
        "nqx9N2LZbfUn",
        "fhJutnUOEOwC",
        "zazsE9H0al_m",
        "UkbBf8TrXkEQ"
      ]
    },
    "kernelspec": {
      "name": "python3",
      "display_name": "Python 3"
    },
    "language_info": {
      "name": "python"
    }
  },
  "cells": [
    {
      "cell_type": "code",
      "execution_count": null,
      "metadata": {
        "colab": {
          "base_uri": "https://localhost:8080/"
        },
        "id": "VKRA4K-qxCOc",
        "outputId": "a6578053-a8b8-4bfb-9e1b-73bb84d6a9c2"
      },
      "outputs": [
        {
          "output_type": "stream",
          "name": "stdout",
          "text": [
            "Drive already mounted at /content/drive; to attempt to forcibly remount, call drive.mount(\"/content/drive\", force_remount=True).\n"
          ]
        }
      ],
      "source": [
        "#from google.colab import drive\n",
        "#drive.mount('/content/drive')"
      ]
    },
    {
      "cell_type": "code",
      "source": [
        "#%cd drive/MyDrive/zop\n",
        "#!ls"
      ],
      "metadata": {
        "colab": {
          "base_uri": "https://localhost:8080/"
        },
        "id": "dvGgDgxLxH0c",
        "outputId": "f972144c-17b1-4dd6-e684-86ee3e8911b7"
      },
      "execution_count": null,
      "outputs": [
        {
          "output_type": "stream",
          "name": "stdout",
          "text": [
            "[Errno 2] No such file or directory: 'drive/MyDrive/zop'\n",
            "/content/drive/MyDrive/zop\n",
            "dask-worker-space  diabetes.csv  projekt.ipynb\tuzop_grupni_projekt.ipynb\n"
          ]
        }
      ]
    },
    {
      "cell_type": "code",
      "source": [
        "import pandas as pd\n",
        "import numpy as np\n",
        "import matplotlib.pyplot as plt\n",
        "import seaborn as sb"
      ],
      "metadata": {
        "id": "2mhFKSxGxNzl"
      },
      "execution_count": 1,
      "outputs": []
    },
    {
      "cell_type": "code",
      "source": [
        "df = pd.read_csv('diabetes.csv')"
      ],
      "metadata": {
        "id": "VCIbn0GAxP1J"
      },
      "execution_count": 2,
      "outputs": []
    },
    {
      "cell_type": "markdown",
      "source": [
        "# Removing outliers"
      ],
      "metadata": {
        "id": "pZMA-x0pcbG2"
      }
    },
    {
      "cell_type": "code",
      "source": [
        "from sklearn.neighbors import LocalOutlierFactor\n",
        "\n",
        "y = df['Outcome']\n",
        "X = df.drop(columns=['Outcome'])\n",
        "\n",
        "d = {}\n",
        "for i in range(1, 20):\n",
        "    lof = LocalOutlierFactor(n_neighbors=i)\n",
        "    X_out = lof.fit_predict(X)\n",
        "    d[i] = np.sum(X_out == 1)/len(X_out)\n",
        "\n",
        "plt.plot(list(d.keys()), list(d.values()), '-o')\n",
        "plt.xlabel('n_neighbors')\n",
        "plt.ylabel('% of current dataset size')\n",
        "plt.title('N_neighbors hyperparameter compared to the dataset size')\n",
        "plt.show()"
      ],
      "metadata": {
        "colab": {
          "base_uri": "https://localhost:8080/",
          "height": 296
        },
        "id": "fHc-K0xbOiZP",
        "outputId": "bf69c3b8-6460-4183-e157-23d8cd773ef7"
      },
      "execution_count": 3,
      "outputs": [
        {
          "output_type": "display_data",
          "data": {
            "image/png": "[encoded data removed]",
            "text/plain": [
              "<Figure size 432x288 with 1 Axes>"
            ]
          },
          "metadata": {
            "needs_background": "light"
          }
        }
      ]
    },
    {
      "cell_type": "code",
      "source": [
        "lof = LocalOutlierFactor(n_neighbors=4)\n",
        "X_out = lof.fit_predict(X)\n",
        "\n",
        "mask = X_out != -1\n",
        "\n",
        "X = X.loc[mask, :]\n",
        "y = y.loc[mask]\n",
        "\n",
        "df = X[:]\n",
        "df['Outcome'] = y[:]\n",
        "\n",
        "print(len(X))\n",
        "print(len(y))\n",
        "print(len(df))"
      ],
      "metadata": {
        "colab": {
          "base_uri": "https://localhost:8080/"
        },
        "id": "wtjEsULFUwb-",
        "outputId": "34f38d54-8135-4740-8d7c-ad68bc16e2cd"
      },
      "execution_count": 4,
      "outputs": [
        {
          "output_type": "stream",
          "name": "stdout",
          "text": [
            "725\n",
            "725\n",
            "725\n"
          ]
        },
        {
          "output_type": "stream",
          "name": "stderr",
          "text": [
            "/usr/local/lib/python3.7/dist-packages/ipykernel_launcher.py:10: SettingWithCopyWarning: \n",
            "A value is trying to be set on a copy of a slice from a DataFrame.\n",
            "Try using .loc[row_indexer,col_indexer] = value instead\n",
            "\n",
            "See the caveats in the documentation: https://pandas.pydata.org/pandas-docs/stable/user_guide/indexing.html#returning-a-view-versus-a-copy\n",
            "  # Remove the CWD from sys.path while we load stuff.\n"
          ]
        }
      ]
    },
    {
      "cell_type": "code",
      "source": [
        "display(df[df['Pregnancies'] > 13])\n",
        "df = df[df['Pregnancies'] <= 13]"
      ],
      "metadata": {
        "colab": {
          "base_uri": "https://localhost:8080/",
          "height": 175
        },
        "id": "jyP7L1TH9Wve",
        "outputId": "ebc731d5-b615-4fb3-9a55-53b18b39a205"
      },
      "execution_count": 7,
      "outputs": [
        {
          "output_type": "display_data",
          "data": {
            "text/html": [
              "\n",
              "  <div id=\"df-8edb5e69-0c58-4f4e-9845-70b074594cbe\">\n",
              "    <div class=\"colab-df-container\">\n",
              "      <div>\n",
              "<style scoped>\n",
              "    .dataframe tbody tr th:only-of-type {\n",
              "        vertical-align: middle;\n",
              "    }\n",
              "\n",
              "    .dataframe tbody tr th {\n",
              "        vertical-align: top;\n",
              "    }\n",
              "\n",
              "    .dataframe thead th {\n",
              "        text-align: right;\n",
              "    }\n",
              "</style>\n",
              "<table border=\"1\" class=\"dataframe\">\n",
              "  <thead>\n",
              "    <tr style=\"text-align: right;\">\n",
              "      <th></th>\n",
              "      <th>Pregnancies</th>\n",
              "      <th>Glucose</th>\n",
              "      <th>BloodPressure</th>\n",
              "      <th>SkinThickness</th>\n",
              "      <th>Insulin</th>\n",
              "      <th>BMI</th>\n",
              "      <th>DiabetesPedigreeFunction</th>\n",
              "      <th>Age</th>\n",
              "      <th>Outcome</th>\n",
              "    </tr>\n",
              "  </thead>\n",
              "  <tbody>\n",
              "    <tr>\n",
              "      <th>88</th>\n",
              "      <td>15</td>\n",
              "      <td>136</td>\n",
              "      <td>70</td>\n",
              "      <td>32</td>\n",
              "      <td>110</td>\n",
              "      <td>37.1</td>\n",
              "      <td>0.153</td>\n",
              "      <td>43</td>\n",
              "      <td>1</td>\n",
              "    </tr>\n",
              "    <tr>\n",
              "      <th>159</th>\n",
              "      <td>17</td>\n",
              "      <td>163</td>\n",
              "      <td>72</td>\n",
              "      <td>41</td>\n",
              "      <td>114</td>\n",
              "      <td>40.9</td>\n",
              "      <td>0.817</td>\n",
              "      <td>47</td>\n",
              "      <td>1</td>\n",
              "    </tr>\n",
              "    <tr>\n",
              "      <th>298</th>\n",
              "      <td>14</td>\n",
              "      <td>100</td>\n",
              "      <td>78</td>\n",
              "      <td>25</td>\n",
              "      <td>184</td>\n",
              "      <td>36.6</td>\n",
              "      <td>0.412</td>\n",
              "      <td>46</td>\n",
              "      <td>1</td>\n",
              "    </tr>\n",
              "    <tr>\n",
              "      <th>455</th>\n",
              "      <td>14</td>\n",
              "      <td>175</td>\n",
              "      <td>62</td>\n",
              "      <td>30</td>\n",
              "      <td>0</td>\n",
              "      <td>33.6</td>\n",
              "      <td>0.212</td>\n",
              "      <td>38</td>\n",
              "      <td>1</td>\n",
              "    </tr>\n",
              "  </tbody>\n",
              "</table>\n",
              "</div>\n",
              "      <button class=\"colab-df-convert\" onclick=\"convertToInteractive('df-8edb5e69-0c58-4f4e-9845-70b074594cbe')\"\n",
              "              title=\"Convert this dataframe to an interactive table.\"\n",
              "              style=\"display:none;\">\n",
              "        \n",
              "  <svg xmlns=\"http://www.w3.org/2000/svg\" height=\"24px\"viewBox=\"0 0 24 24\"\n",
              "       width=\"24px\">\n",
              "    <path d=\"M0 0h24v24H0V0z\" fill=\"none\"/>\n",
              "    <path d=\"M18.56 5.44l.94 2.06.94-2.06 2.06-.94-2.06-.94-.94-2.06-.94 2.06-2.06.94zm-11 1L8.5 8.5l.94-2.06 2.06-.94-2.06-.94L8.5 2.5l-.94 2.06-2.06.94zm10 10l.94 2.06.94-2.06 2.06-.94-2.06-.94-.94-2.06-.94 2.06-2.06.94z\"/><path d=\"M17.41 7.96l-1.37-1.37c-.4-.4-.92-.59-1.43-.59-.52 0-1.04.2-1.43.59L10.3 9.45l-7.72 7.72c-.78.78-.78 2.05 0 2.83L4 21.41c.39.39.9.59 1.41.59.51 0 1.02-.2 1.41-.59l7.78-7.78 2.81-2.81c.8-.78.8-2.07 0-2.86zM5.41 20L4 18.59l7.72-7.72 1.47 1.35L5.41 20z\"/>\n",
              "  </svg>\n",
              "      </button>\n",
              "      \n",
              "  <style>\n",
              "    .colab-df-container {\n",
              "      display:flex;\n",
              "      flex-wrap:wrap;\n",
              "      gap: 12px;\n",
              "    }\n",
              "\n",
              "    .colab-df-convert {\n",
              "      background-color: #E8F0FE;\n",
              "      border: none;\n",
              "      border-radius: 50%;\n",
              "      cursor: pointer;\n",
              "      display: none;\n",
              "      fill: #1967D2;\n",
              "      height: 32px;\n",
              "      padding: 0 0 0 0;\n",
              "      width: 32px;\n",
              "    }\n",
              "\n",
              "    .colab-df-convert:hover {\n",
              "      background-color: #E2EBFA;\n",
              "      box-shadow: 0px 1px 2px rgba(60, 64, 67, 0.3), 0px 1px 3px 1px rgba(60, 64, 67, 0.15);\n",
              "      fill: #174EA6;\n",
              "    }\n",
              "\n",
              "    [theme=dark] .colab-df-convert {\n",
              "      background-color: #3B4455;\n",
              "      fill: #D2E3FC;\n",
              "    }\n",
              "\n",
              "    [theme=dark] .colab-df-convert:hover {\n",
              "      background-color: #434B5C;\n",
              "      box-shadow: 0px 1px 3px 1px rgba(0, 0, 0, 0.15);\n",
              "      filter: drop-shadow(0px 1px 2px rgba(0, 0, 0, 0.3));\n",
              "      fill: #FFFFFF;\n",
              "    }\n",
              "  </style>\n",
              "\n",
              "      <script>\n",
              "        const buttonEl =\n",
              "          document.querySelector('#df-8edb5e69-0c58-4f4e-9845-70b074594cbe button.colab-df-convert');\n",
              "        buttonEl.style.display =\n",
              "          google.colab.kernel.accessAllowed ? 'block' : 'none';\n",
              "\n",
              "        async function convertToInteractive(key) {\n",
              "          const element = document.querySelector('#df-8edb5e69-0c58-4f4e-9845-70b074594cbe');\n",
              "          const dataTable =\n",
              "            await google.colab.kernel.invokeFunction('convertToInteractive',\n",
              "                                                     [key], {});\n",
              "          if (!dataTable) return;\n",
              "\n",
              "          const docLinkHtml = 'Like what you see? Visit the ' +\n",
              "            '<a target=\"_blank\" href=https://colab.research.google.com/notebooks/data_table.ipynb>data table notebook</a>'\n",
              "            + ' to learn more about interactive tables.';\n",
              "          element.innerHTML = '';\n",
              "          dataTable['output_type'] = 'display_data';\n",
              "          await google.colab.output.renderOutput(dataTable, element);\n",
              "          const docLink = document.createElement('div');\n",
              "          docLink.innerHTML = docLinkHtml;\n",
              "          element.appendChild(docLink);\n",
              "        }\n",
              "      </script>\n",
              "    </div>\n",
              "  </div>\n",
              "  "
            ],
            "text/plain": [
              "     Pregnancies  Glucose  ...  Age  Outcome\n",
              "88            15      136  ...   43        1\n",
              "159           17      163  ...   47        1\n",
              "298           14      100  ...   46        1\n",
              "455           14      175  ...   38        1\n",
              "\n",
              "[4 rows x 9 columns]"
            ]
          },
          "metadata": {}
        }
      ]
    },
    {
      "cell_type": "code",
      "source": [
        "display(df[df['Glucose'] > 200])\n",
        "df = df[df['Glucose'] <= 200]"
      ],
      "metadata": {
        "colab": {
          "base_uri": "https://localhost:8080/",
          "height": 49
        },
        "id": "Fpe0-5dX_HGY",
        "outputId": "4875ab63-8b90-408d-9814-685095b105e3"
      },
      "execution_count": 8,
      "outputs": [
        {
          "output_type": "display_data",
          "data": {
            "text/html": [
              "\n",
              "  <div id=\"df-f2bc99cd-8f26-4beb-ac90-feb9e39b1735\">\n",
              "    <div class=\"colab-df-container\">\n",
              "      <div>\n",
              "<style scoped>\n",
              "    .dataframe tbody tr th:only-of-type {\n",
              "        vertical-align: middle;\n",
              "    }\n",
              "\n",
              "    .dataframe tbody tr th {\n",
              "        vertical-align: top;\n",
              "    }\n",
              "\n",
              "    .dataframe thead th {\n",
              "        text-align: right;\n",
              "    }\n",
              "</style>\n",
              "<table border=\"1\" class=\"dataframe\">\n",
              "  <thead>\n",
              "    <tr style=\"text-align: right;\">\n",
              "      <th></th>\n",
              "      <th>Pregnancies</th>\n",
              "      <th>Glucose</th>\n",
              "      <th>BloodPressure</th>\n",
              "      <th>SkinThickness</th>\n",
              "      <th>Insulin</th>\n",
              "      <th>BMI</th>\n",
              "      <th>DiabetesPedigreeFunction</th>\n",
              "      <th>Age</th>\n",
              "      <th>Outcome</th>\n",
              "    </tr>\n",
              "  </thead>\n",
              "  <tbody>\n",
              "  </tbody>\n",
              "</table>\n",
              "</div>\n",
              "      <button class=\"colab-df-convert\" onclick=\"convertToInteractive('df-f2bc99cd-8f26-4beb-ac90-feb9e39b1735')\"\n",
              "              title=\"Convert this dataframe to an interactive table.\"\n",
              "              style=\"display:none;\">\n",
              "        \n",
              "  <svg xmlns=\"http://www.w3.org/2000/svg\" height=\"24px\"viewBox=\"0 0 24 24\"\n",
              "       width=\"24px\">\n",
              "    <path d=\"M0 0h24v24H0V0z\" fill=\"none\"/>\n",
              "    <path d=\"M18.56 5.44l.94 2.06.94-2.06 2.06-.94-2.06-.94-.94-2.06-.94 2.06-2.06.94zm-11 1L8.5 8.5l.94-2.06 2.06-.94-2.06-.94L8.5 2.5l-.94 2.06-2.06.94zm10 10l.94 2.06.94-2.06 2.06-.94-2.06-.94-.94-2.06-.94 2.06-2.06.94z\"/><path d=\"M17.41 7.96l-1.37-1.37c-.4-.4-.92-.59-1.43-.59-.52 0-1.04.2-1.43.59L10.3 9.45l-7.72 7.72c-.78.78-.78 2.05 0 2.83L4 21.41c.39.39.9.59 1.41.59.51 0 1.02-.2 1.41-.59l7.78-7.78 2.81-2.81c.8-.78.8-2.07 0-2.86zM5.41 20L4 18.59l7.72-7.72 1.47 1.35L5.41 20z\"/>\n",
              "  </svg>\n",
              "      </button>\n",
              "      \n",
              "  <style>\n",
              "    .colab-df-container {\n",
              "      display:flex;\n",
              "      flex-wrap:wrap;\n",
              "      gap: 12px;\n",
              "    }\n",
              "\n",
              "    .colab-df-convert {\n",
              "      background-color: #E8F0FE;\n",
              "      border: none;\n",
              "      border-radius: 50%;\n",
              "      cursor: pointer;\n",
              "      display: none;\n",
              "      fill: #1967D2;\n",
              "      height: 32px;\n",
              "      padding: 0 0 0 0;\n",
              "      width: 32px;\n",
              "    }\n",
              "\n",
              "    .colab-df-convert:hover {\n",
              "      background-color: #E2EBFA;\n",
              "      box-shadow: 0px 1px 2px rgba(60, 64, 67, 0.3), 0px 1px 3px 1px rgba(60, 64, 67, 0.15);\n",
              "      fill: #174EA6;\n",
              "    }\n",
              "\n",
              "    [theme=dark] .colab-df-convert {\n",
              "      background-color: #3B4455;\n",
              "      fill: #D2E3FC;\n",
              "    }\n",
              "\n",
              "    [theme=dark] .colab-df-convert:hover {\n",
              "      background-color: #434B5C;\n",
              "      box-shadow: 0px 1px 3px 1px rgba(0, 0, 0, 0.15);\n",
              "      filter: drop-shadow(0px 1px 2px rgba(0, 0, 0, 0.3));\n",
              "      fill: #FFFFFF;\n",
              "    }\n",
              "  </style>\n",
              "\n",
              "      <script>\n",
              "        const buttonEl =\n",
              "          document.querySelector('#df-f2bc99cd-8f26-4beb-ac90-feb9e39b1735 button.colab-df-convert');\n",
              "        buttonEl.style.display =\n",
              "          google.colab.kernel.accessAllowed ? 'block' : 'none';\n",
              "\n",
              "        async function convertToInteractive(key) {\n",
              "          const element = document.querySelector('#df-f2bc99cd-8f26-4beb-ac90-feb9e39b1735');\n",
              "          const dataTable =\n",
              "            await google.colab.kernel.invokeFunction('convertToInteractive',\n",
              "                                                     [key], {});\n",
              "          if (!dataTable) return;\n",
              "\n",
              "          const docLinkHtml = 'Like what you see? Visit the ' +\n",
              "            '<a target=\"_blank\" href=https://colab.research.google.com/notebooks/data_table.ipynb>data table notebook</a>'\n",
              "            + ' to learn more about interactive tables.';\n",
              "          element.innerHTML = '';\n",
              "          dataTable['output_type'] = 'display_data';\n",
              "          await google.colab.output.renderOutput(dataTable, element);\n",
              "          const docLink = document.createElement('div');\n",
              "          docLink.innerHTML = docLinkHtml;\n",
              "          element.appendChild(docLink);\n",
              "        }\n",
              "      </script>\n",
              "    </div>\n",
              "  </div>\n",
              "  "
            ],
            "text/plain": [
              "Empty DataFrame\n",
              "Columns: [Pregnancies, Glucose, BloodPressure, SkinThickness, Insulin, BMI, DiabetesPedigreeFunction, Age, Outcome]\n",
              "Index: []"
            ]
          },
          "metadata": {}
        }
      ]
    },
    {
      "cell_type": "code",
      "source": [
        "display(df[df['BloodPressure'] > 115])\n",
        "df = df[df['BloodPressure'] <= 115]"
      ],
      "metadata": {
        "colab": {
          "base_uri": "https://localhost:8080/",
          "height": 49
        },
        "id": "xlD0EEIfAQM_",
        "outputId": "c9c7533d-916f-4183-b5ba-e8a0faccf240"
      },
      "execution_count": 9,
      "outputs": [
        {
          "output_type": "display_data",
          "data": {
            "text/html": [
              "\n",
              "  <div id=\"df-902f8241-001d-49e3-936a-ea11c9ff78c2\">\n",
              "    <div class=\"colab-df-container\">\n",
              "      <div>\n",
              "<style scoped>\n",
              "    .dataframe tbody tr th:only-of-type {\n",
              "        vertical-align: middle;\n",
              "    }\n",
              "\n",
              "    .dataframe tbody tr th {\n",
              "        vertical-align: top;\n",
              "    }\n",
              "\n",
              "    .dataframe thead th {\n",
              "        text-align: right;\n",
              "    }\n",
              "</style>\n",
              "<table border=\"1\" class=\"dataframe\">\n",
              "  <thead>\n",
              "    <tr style=\"text-align: right;\">\n",
              "      <th></th>\n",
              "      <th>Pregnancies</th>\n",
              "      <th>Glucose</th>\n",
              "      <th>BloodPressure</th>\n",
              "      <th>SkinThickness</th>\n",
              "      <th>Insulin</th>\n",
              "      <th>BMI</th>\n",
              "      <th>DiabetesPedigreeFunction</th>\n",
              "      <th>Age</th>\n",
              "      <th>Outcome</th>\n",
              "    </tr>\n",
              "  </thead>\n",
              "  <tbody>\n",
              "  </tbody>\n",
              "</table>\n",
              "</div>\n",
              "      <button class=\"colab-df-convert\" onclick=\"convertToInteractive('df-902f8241-001d-49e3-936a-ea11c9ff78c2')\"\n",
              "              title=\"Convert this dataframe to an interactive table.\"\n",
              "              style=\"display:none;\">\n",
              "        \n",
              "  <svg xmlns=\"http://www.w3.org/2000/svg\" height=\"24px\"viewBox=\"0 0 24 24\"\n",
              "       width=\"24px\">\n",
              "    <path d=\"M0 0h24v24H0V0z\" fill=\"none\"/>\n",
              "    <path d=\"M18.56 5.44l.94 2.06.94-2.06 2.06-.94-2.06-.94-.94-2.06-.94 2.06-2.06.94zm-11 1L8.5 8.5l.94-2.06 2.06-.94-2.06-.94L8.5 2.5l-.94 2.06-2.06.94zm10 10l.94 2.06.94-2.06 2.06-.94-2.06-.94-.94-2.06-.94 2.06-2.06.94z\"/><path d=\"M17.41 7.96l-1.37-1.37c-.4-.4-.92-.59-1.43-.59-.52 0-1.04.2-1.43.59L10.3 9.45l-7.72 7.72c-.78.78-.78 2.05 0 2.83L4 21.41c.39.39.9.59 1.41.59.51 0 1.02-.2 1.41-.59l7.78-7.78 2.81-2.81c.8-.78.8-2.07 0-2.86zM5.41 20L4 18.59l7.72-7.72 1.47 1.35L5.41 20z\"/>\n",
              "  </svg>\n",
              "      </button>\n",
              "      \n",
              "  <style>\n",
              "    .colab-df-container {\n",
              "      display:flex;\n",
              "      flex-wrap:wrap;\n",
              "      gap: 12px;\n",
              "    }\n",
              "\n",
              "    .colab-df-convert {\n",
              "      background-color: #E8F0FE;\n",
              "      border: none;\n",
              "      border-radius: 50%;\n",
              "      cursor: pointer;\n",
              "      display: none;\n",
              "      fill: #1967D2;\n",
              "      height: 32px;\n",
              "      padding: 0 0 0 0;\n",
              "      width: 32px;\n",
              "    }\n",
              "\n",
              "    .colab-df-convert:hover {\n",
              "      background-color: #E2EBFA;\n",
              "      box-shadow: 0px 1px 2px rgba(60, 64, 67, 0.3), 0px 1px 3px 1px rgba(60, 64, 67, 0.15);\n",
              "      fill: #174EA6;\n",
              "    }\n",
              "\n",
              "    [theme=dark] .colab-df-convert {\n",
              "      background-color: #3B4455;\n",
              "      fill: #D2E3FC;\n",
              "    }\n",
              "\n",
              "    [theme=dark] .colab-df-convert:hover {\n",
              "      background-color: #434B5C;\n",
              "      box-shadow: 0px 1px 3px 1px rgba(0, 0, 0, 0.15);\n",
              "      filter: drop-shadow(0px 1px 2px rgba(0, 0, 0, 0.3));\n",
              "      fill: #FFFFFF;\n",
              "    }\n",
              "  </style>\n",
              "\n",
              "      <script>\n",
              "        const buttonEl =\n",
              "          document.querySelector('#df-902f8241-001d-49e3-936a-ea11c9ff78c2 button.colab-df-convert');\n",
              "        buttonEl.style.display =\n",
              "          google.colab.kernel.accessAllowed ? 'block' : 'none';\n",
              "\n",
              "        async function convertToInteractive(key) {\n",
              "          const element = document.querySelector('#df-902f8241-001d-49e3-936a-ea11c9ff78c2');\n",
              "          const dataTable =\n",
              "            await google.colab.kernel.invokeFunction('convertToInteractive',\n",
              "                                                     [key], {});\n",
              "          if (!dataTable) return;\n",
              "\n",
              "          const docLinkHtml = 'Like what you see? Visit the ' +\n",
              "            '<a target=\"_blank\" href=https://colab.research.google.com/notebooks/data_table.ipynb>data table notebook</a>'\n",
              "            + ' to learn more about interactive tables.';\n",
              "          element.innerHTML = '';\n",
              "          dataTable['output_type'] = 'display_data';\n",
              "          await google.colab.output.renderOutput(dataTable, element);\n",
              "          const docLink = document.createElement('div');\n",
              "          docLink.innerHTML = docLinkHtml;\n",
              "          element.appendChild(docLink);\n",
              "        }\n",
              "      </script>\n",
              "    </div>\n",
              "  </div>\n",
              "  "
            ],
            "text/plain": [
              "Empty DataFrame\n",
              "Columns: [Pregnancies, Glucose, BloodPressure, SkinThickness, Insulin, BMI, DiabetesPedigreeFunction, Age, Outcome]\n",
              "Index: []"
            ]
          },
          "metadata": {}
        }
      ]
    },
    {
      "cell_type": "code",
      "source": [
        "display(df[(df['BloodPressure'] < 40) & (df['BloodPressure'] != 0)])\n",
        "df = df[(df['BloodPressure'] >= 40) | (df['BloodPressure'] == 0)]"
      ],
      "metadata": {
        "colab": {
          "base_uri": "https://localhost:8080/",
          "height": 81
        },
        "id": "zlZzJg9YcFT-",
        "outputId": "f0062a83-d6ab-4e73-d475-b98ac111cf8b"
      },
      "execution_count": 10,
      "outputs": [
        {
          "output_type": "display_data",
          "data": {
            "text/html": [
              "\n",
              "  <div id=\"df-f77a05e2-4368-4017-9bf1-2f112b3e5725\">\n",
              "    <div class=\"colab-df-container\">\n",
              "      <div>\n",
              "<style scoped>\n",
              "    .dataframe tbody tr th:only-of-type {\n",
              "        vertical-align: middle;\n",
              "    }\n",
              "\n",
              "    .dataframe tbody tr th {\n",
              "        vertical-align: top;\n",
              "    }\n",
              "\n",
              "    .dataframe thead th {\n",
              "        text-align: right;\n",
              "    }\n",
              "</style>\n",
              "<table border=\"1\" class=\"dataframe\">\n",
              "  <thead>\n",
              "    <tr style=\"text-align: right;\">\n",
              "      <th></th>\n",
              "      <th>Pregnancies</th>\n",
              "      <th>Glucose</th>\n",
              "      <th>BloodPressure</th>\n",
              "      <th>SkinThickness</th>\n",
              "      <th>Insulin</th>\n",
              "      <th>BMI</th>\n",
              "      <th>DiabetesPedigreeFunction</th>\n",
              "      <th>Age</th>\n",
              "      <th>Outcome</th>\n",
              "    </tr>\n",
              "  </thead>\n",
              "  <tbody>\n",
              "    <tr>\n",
              "      <th>599</th>\n",
              "      <td>1</td>\n",
              "      <td>109</td>\n",
              "      <td>38</td>\n",
              "      <td>18</td>\n",
              "      <td>120</td>\n",
              "      <td>23.1</td>\n",
              "      <td>0.407</td>\n",
              "      <td>26</td>\n",
              "      <td>0</td>\n",
              "    </tr>\n",
              "  </tbody>\n",
              "</table>\n",
              "</div>\n",
              "      <button class=\"colab-df-convert\" onclick=\"convertToInteractive('df-f77a05e2-4368-4017-9bf1-2f112b3e5725')\"\n",
              "              title=\"Convert this dataframe to an interactive table.\"\n",
              "              style=\"display:none;\">\n",
              "        \n",
              "  <svg xmlns=\"http://www.w3.org/2000/svg\" height=\"24px\"viewBox=\"0 0 24 24\"\n",
              "       width=\"24px\">\n",
              "    <path d=\"M0 0h24v24H0V0z\" fill=\"none\"/>\n",
              "    <path d=\"M18.56 5.44l.94 2.06.94-2.06 2.06-.94-2.06-.94-.94-2.06-.94 2.06-2.06.94zm-11 1L8.5 8.5l.94-2.06 2.06-.94-2.06-.94L8.5 2.5l-.94 2.06-2.06.94zm10 10l.94 2.06.94-2.06 2.06-.94-2.06-.94-.94-2.06-.94 2.06-2.06.94z\"/><path d=\"M17.41 7.96l-1.37-1.37c-.4-.4-.92-.59-1.43-.59-.52 0-1.04.2-1.43.59L10.3 9.45l-7.72 7.72c-.78.78-.78 2.05 0 2.83L4 21.41c.39.39.9.59 1.41.59.51 0 1.02-.2 1.41-.59l7.78-7.78 2.81-2.81c.8-.78.8-2.07 0-2.86zM5.41 20L4 18.59l7.72-7.72 1.47 1.35L5.41 20z\"/>\n",
              "  </svg>\n",
              "      </button>\n",
              "      \n",
              "  <style>\n",
              "    .colab-df-container {\n",
              "      display:flex;\n",
              "      flex-wrap:wrap;\n",
              "      gap: 12px;\n",
              "    }\n",
              "\n",
              "    .colab-df-convert {\n",
              "      background-color: #E8F0FE;\n",
              "      border: none;\n",
              "      border-radius: 50%;\n",
              "      cursor: pointer;\n",
              "      display: none;\n",
              "      fill: #1967D2;\n",
              "      height: 32px;\n",
              "      padding: 0 0 0 0;\n",
              "      width: 32px;\n",
              "    }\n",
              "\n",
              "    .colab-df-convert:hover {\n",
              "      background-color: #E2EBFA;\n",
              "      box-shadow: 0px 1px 2px rgba(60, 64, 67, 0.3), 0px 1px 3px 1px rgba(60, 64, 67, 0.15);\n",
              "      fill: #174EA6;\n",
              "    }\n",
              "\n",
              "    [theme=dark] .colab-df-convert {\n",
              "      background-color: #3B4455;\n",
              "      fill: #D2E3FC;\n",
              "    }\n",
              "\n",
              "    [theme=dark] .colab-df-convert:hover {\n",
              "      background-color: #434B5C;\n",
              "      box-shadow: 0px 1px 3px 1px rgba(0, 0, 0, 0.15);\n",
              "      filter: drop-shadow(0px 1px 2px rgba(0, 0, 0, 0.3));\n",
              "      fill: #FFFFFF;\n",
              "    }\n",
              "  </style>\n",
              "\n",
              "      <script>\n",
              "        const buttonEl =\n",
              "          document.querySelector('#df-f77a05e2-4368-4017-9bf1-2f112b3e5725 button.colab-df-convert');\n",
              "        buttonEl.style.display =\n",
              "          google.colab.kernel.accessAllowed ? 'block' : 'none';\n",
              "\n",
              "        async function convertToInteractive(key) {\n",
              "          const element = document.querySelector('#df-f77a05e2-4368-4017-9bf1-2f112b3e5725');\n",
              "          const dataTable =\n",
              "            await google.colab.kernel.invokeFunction('convertToInteractive',\n",
              "                                                     [key], {});\n",
              "          if (!dataTable) return;\n",
              "\n",
              "          const docLinkHtml = 'Like what you see? Visit the ' +\n",
              "            '<a target=\"_blank\" href=https://colab.research.google.com/notebooks/data_table.ipynb>data table notebook</a>'\n",
              "            + ' to learn more about interactive tables.';\n",
              "          element.innerHTML = '';\n",
              "          dataTable['output_type'] = 'display_data';\n",
              "          await google.colab.output.renderOutput(dataTable, element);\n",
              "          const docLink = document.createElement('div');\n",
              "          docLink.innerHTML = docLinkHtml;\n",
              "          element.appendChild(docLink);\n",
              "        }\n",
              "      </script>\n",
              "    </div>\n",
              "  </div>\n",
              "  "
            ],
            "text/plain": [
              "     Pregnancies  Glucose  ...  Age  Outcome\n",
              "599            1      109  ...   26        0\n",
              "\n",
              "[1 rows x 9 columns]"
            ]
          },
          "metadata": {}
        }
      ]
    },
    {
      "cell_type": "code",
      "source": [
        "display(df[df['SkinThickness'] > 65])\n",
        "df = df[df['SkinThickness'] <= 65]"
      ],
      "metadata": {
        "colab": {
          "base_uri": "https://localhost:8080/",
          "height": 49
        },
        "id": "r5pI6wEF_Yfb",
        "outputId": "bd88049d-b60f-47bc-d654-b96af6881ce7"
      },
      "execution_count": 11,
      "outputs": [
        {
          "output_type": "display_data",
          "data": {
            "text/html": [
              "\n",
              "  <div id=\"df-64ba79bc-d471-4d1a-ab00-6710ff88511d\">\n",
              "    <div class=\"colab-df-container\">\n",
              "      <div>\n",
              "<style scoped>\n",
              "    .dataframe tbody tr th:only-of-type {\n",
              "        vertical-align: middle;\n",
              "    }\n",
              "\n",
              "    .dataframe tbody tr th {\n",
              "        vertical-align: top;\n",
              "    }\n",
              "\n",
              "    .dataframe thead th {\n",
              "        text-align: right;\n",
              "    }\n",
              "</style>\n",
              "<table border=\"1\" class=\"dataframe\">\n",
              "  <thead>\n",
              "    <tr style=\"text-align: right;\">\n",
              "      <th></th>\n",
              "      <th>Pregnancies</th>\n",
              "      <th>Glucose</th>\n",
              "      <th>BloodPressure</th>\n",
              "      <th>SkinThickness</th>\n",
              "      <th>Insulin</th>\n",
              "      <th>BMI</th>\n",
              "      <th>DiabetesPedigreeFunction</th>\n",
              "      <th>Age</th>\n",
              "      <th>Outcome</th>\n",
              "    </tr>\n",
              "  </thead>\n",
              "  <tbody>\n",
              "  </tbody>\n",
              "</table>\n",
              "</div>\n",
              "      <button class=\"colab-df-convert\" onclick=\"convertToInteractive('df-64ba79bc-d471-4d1a-ab00-6710ff88511d')\"\n",
              "              title=\"Convert this dataframe to an interactive table.\"\n",
              "              style=\"display:none;\">\n",
              "        \n",
              "  <svg xmlns=\"http://www.w3.org/2000/svg\" height=\"24px\"viewBox=\"0 0 24 24\"\n",
              "       width=\"24px\">\n",
              "    <path d=\"M0 0h24v24H0V0z\" fill=\"none\"/>\n",
              "    <path d=\"M18.56 5.44l.94 2.06.94-2.06 2.06-.94-2.06-.94-.94-2.06-.94 2.06-2.06.94zm-11 1L8.5 8.5l.94-2.06 2.06-.94-2.06-.94L8.5 2.5l-.94 2.06-2.06.94zm10 10l.94 2.06.94-2.06 2.06-.94-2.06-.94-.94-2.06-.94 2.06-2.06.94z\"/><path d=\"M17.41 7.96l-1.37-1.37c-.4-.4-.92-.59-1.43-.59-.52 0-1.04.2-1.43.59L10.3 9.45l-7.72 7.72c-.78.78-.78 2.05 0 2.83L4 21.41c.39.39.9.59 1.41.59.51 0 1.02-.2 1.41-.59l7.78-7.78 2.81-2.81c.8-.78.8-2.07 0-2.86zM5.41 20L4 18.59l7.72-7.72 1.47 1.35L5.41 20z\"/>\n",
              "  </svg>\n",
              "      </button>\n",
              "      \n",
              "  <style>\n",
              "    .colab-df-container {\n",
              "      display:flex;\n",
              "      flex-wrap:wrap;\n",
              "      gap: 12px;\n",
              "    }\n",
              "\n",
              "    .colab-df-convert {\n",
              "      background-color: #E8F0FE;\n",
              "      border: none;\n",
              "      border-radius: 50%;\n",
              "      cursor: pointer;\n",
              "      display: none;\n",
              "      fill: #1967D2;\n",
              "      height: 32px;\n",
              "      padding: 0 0 0 0;\n",
              "      width: 32px;\n",
              "    }\n",
              "\n",
              "    .colab-df-convert:hover {\n",
              "      background-color: #E2EBFA;\n",
              "      box-shadow: 0px 1px 2px rgba(60, 64, 67, 0.3), 0px 1px 3px 1px rgba(60, 64, 67, 0.15);\n",
              "      fill: #174EA6;\n",
              "    }\n",
              "\n",
              "    [theme=dark] .colab-df-convert {\n",
              "      background-color: #3B4455;\n",
              "      fill: #D2E3FC;\n",
              "    }\n",
              "\n",
              "    [theme=dark] .colab-df-convert:hover {\n",
              "      background-color: #434B5C;\n",
              "      box-shadow: 0px 1px 3px 1px rgba(0, 0, 0, 0.15);\n",
              "      filter: drop-shadow(0px 1px 2px rgba(0, 0, 0, 0.3));\n",
              "      fill: #FFFFFF;\n",
              "    }\n",
              "  </style>\n",
              "\n",
              "      <script>\n",
              "        const buttonEl =\n",
              "          document.querySelector('#df-64ba79bc-d471-4d1a-ab00-6710ff88511d button.colab-df-convert');\n",
              "        buttonEl.style.display =\n",
              "          google.colab.kernel.accessAllowed ? 'block' : 'none';\n",
              "\n",
              "        async function convertToInteractive(key) {\n",
              "          const element = document.querySelector('#df-64ba79bc-d471-4d1a-ab00-6710ff88511d');\n",
              "          const dataTable =\n",
              "            await google.colab.kernel.invokeFunction('convertToInteractive',\n",
              "                                                     [key], {});\n",
              "          if (!dataTable) return;\n",
              "\n",
              "          const docLinkHtml = 'Like what you see? Visit the ' +\n",
              "            '<a target=\"_blank\" href=https://colab.research.google.com/notebooks/data_table.ipynb>data table notebook</a>'\n",
              "            + ' to learn more about interactive tables.';\n",
              "          element.innerHTML = '';\n",
              "          dataTable['output_type'] = 'display_data';\n",
              "          await google.colab.output.renderOutput(dataTable, element);\n",
              "          const docLink = document.createElement('div');\n",
              "          docLink.innerHTML = docLinkHtml;\n",
              "          element.appendChild(docLink);\n",
              "        }\n",
              "      </script>\n",
              "    </div>\n",
              "  </div>\n",
              "  "
            ],
            "text/plain": [
              "Empty DataFrame\n",
              "Columns: [Pregnancies, Glucose, BloodPressure, SkinThickness, Insulin, BMI, DiabetesPedigreeFunction, Age, Outcome]\n",
              "Index: []"
            ]
          },
          "metadata": {}
        }
      ]
    },
    {
      "cell_type": "code",
      "source": [
        "display(df[(df['Insulin'] > 500) & (df['Outcome'] == 0)])\n",
        "df = df[(df['Insulin'] <= 500) | (df['Outcome'] == 1)]"
      ],
      "metadata": {
        "colab": {
          "base_uri": "https://localhost:8080/",
          "height": 81
        },
        "id": "yUaLijMphAGF",
        "outputId": "32bb586b-85c5-456f-b218-626d8944d603"
      },
      "execution_count": 12,
      "outputs": [
        {
          "output_type": "display_data",
          "data": {
            "text/html": [
              "\n",
              "  <div id=\"df-854c6f05-6233-4a8b-adb0-605a2ace4904\">\n",
              "    <div class=\"colab-df-container\">\n",
              "      <div>\n",
              "<style scoped>\n",
              "    .dataframe tbody tr th:only-of-type {\n",
              "        vertical-align: middle;\n",
              "    }\n",
              "\n",
              "    .dataframe tbody tr th {\n",
              "        vertical-align: top;\n",
              "    }\n",
              "\n",
              "    .dataframe thead th {\n",
              "        text-align: right;\n",
              "    }\n",
              "</style>\n",
              "<table border=\"1\" class=\"dataframe\">\n",
              "  <thead>\n",
              "    <tr style=\"text-align: right;\">\n",
              "      <th></th>\n",
              "      <th>Pregnancies</th>\n",
              "      <th>Glucose</th>\n",
              "      <th>BloodPressure</th>\n",
              "      <th>SkinThickness</th>\n",
              "      <th>Insulin</th>\n",
              "      <th>BMI</th>\n",
              "      <th>DiabetesPedigreeFunction</th>\n",
              "      <th>Age</th>\n",
              "      <th>Outcome</th>\n",
              "    </tr>\n",
              "  </thead>\n",
              "  <tbody>\n",
              "    <tr>\n",
              "      <th>286</th>\n",
              "      <td>5</td>\n",
              "      <td>155</td>\n",
              "      <td>84</td>\n",
              "      <td>44</td>\n",
              "      <td>545</td>\n",
              "      <td>38.7</td>\n",
              "      <td>0.619</td>\n",
              "      <td>34</td>\n",
              "      <td>0</td>\n",
              "    </tr>\n",
              "  </tbody>\n",
              "</table>\n",
              "</div>\n",
              "      <button class=\"colab-df-convert\" onclick=\"convertToInteractive('df-854c6f05-6233-4a8b-adb0-605a2ace4904')\"\n",
              "              title=\"Convert this dataframe to an interactive table.\"\n",
              "              style=\"display:none;\">\n",
              "        \n",
              "  <svg xmlns=\"http://www.w3.org/2000/svg\" height=\"24px\"viewBox=\"0 0 24 24\"\n",
              "       width=\"24px\">\n",
              "    <path d=\"M0 0h24v24H0V0z\" fill=\"none\"/>\n",
              "    <path d=\"M18.56 5.44l.94 2.06.94-2.06 2.06-.94-2.06-.94-.94-2.06-.94 2.06-2.06.94zm-11 1L8.5 8.5l.94-2.06 2.06-.94-2.06-.94L8.5 2.5l-.94 2.06-2.06.94zm10 10l.94 2.06.94-2.06 2.06-.94-2.06-.94-.94-2.06-.94 2.06-2.06.94z\"/><path d=\"M17.41 7.96l-1.37-1.37c-.4-.4-.92-.59-1.43-.59-.52 0-1.04.2-1.43.59L10.3 9.45l-7.72 7.72c-.78.78-.78 2.05 0 2.83L4 21.41c.39.39.9.59 1.41.59.51 0 1.02-.2 1.41-.59l7.78-7.78 2.81-2.81c.8-.78.8-2.07 0-2.86zM5.41 20L4 18.59l7.72-7.72 1.47 1.35L5.41 20z\"/>\n",
              "  </svg>\n",
              "      </button>\n",
              "      \n",
              "  <style>\n",
              "    .colab-df-container {\n",
              "      display:flex;\n",
              "      flex-wrap:wrap;\n",
              "      gap: 12px;\n",
              "    }\n",
              "\n",
              "    .colab-df-convert {\n",
              "      background-color: #E8F0FE;\n",
              "      border: none;\n",
              "      border-radius: 50%;\n",
              "      cursor: pointer;\n",
              "      display: none;\n",
              "      fill: #1967D2;\n",
              "      height: 32px;\n",
              "      padding: 0 0 0 0;\n",
              "      width: 32px;\n",
              "    }\n",
              "\n",
              "    .colab-df-convert:hover {\n",
              "      background-color: #E2EBFA;\n",
              "      box-shadow: 0px 1px 2px rgba(60, 64, 67, 0.3), 0px 1px 3px 1px rgba(60, 64, 67, 0.15);\n",
              "      fill: #174EA6;\n",
              "    }\n",
              "\n",
              "    [theme=dark] .colab-df-convert {\n",
              "      background-color: #3B4455;\n",
              "      fill: #D2E3FC;\n",
              "    }\n",
              "\n",
              "    [theme=dark] .colab-df-convert:hover {\n",
              "      background-color: #434B5C;\n",
              "      box-shadow: 0px 1px 3px 1px rgba(0, 0, 0, 0.15);\n",
              "      filter: drop-shadow(0px 1px 2px rgba(0, 0, 0, 0.3));\n",
              "      fill: #FFFFFF;\n",
              "    }\n",
              "  </style>\n",
              "\n",
              "      <script>\n",
              "        const buttonEl =\n",
              "          document.querySelector('#df-854c6f05-6233-4a8b-adb0-605a2ace4904 button.colab-df-convert');\n",
              "        buttonEl.style.display =\n",
              "          google.colab.kernel.accessAllowed ? 'block' : 'none';\n",
              "\n",
              "        async function convertToInteractive(key) {\n",
              "          const element = document.querySelector('#df-854c6f05-6233-4a8b-adb0-605a2ace4904');\n",
              "          const dataTable =\n",
              "            await google.colab.kernel.invokeFunction('convertToInteractive',\n",
              "                                                     [key], {});\n",
              "          if (!dataTable) return;\n",
              "\n",
              "          const docLinkHtml = 'Like what you see? Visit the ' +\n",
              "            '<a target=\"_blank\" href=https://colab.research.google.com/notebooks/data_table.ipynb>data table notebook</a>'\n",
              "            + ' to learn more about interactive tables.';\n",
              "          element.innerHTML = '';\n",
              "          dataTable['output_type'] = 'display_data';\n",
              "          await google.colab.output.renderOutput(dataTable, element);\n",
              "          const docLink = document.createElement('div');\n",
              "          docLink.innerHTML = docLinkHtml;\n",
              "          element.appendChild(docLink);\n",
              "        }\n",
              "      </script>\n",
              "    </div>\n",
              "  </div>\n",
              "  "
            ],
            "text/plain": [
              "     Pregnancies  Glucose  ...  Age  Outcome\n",
              "286            5      155  ...   34        0\n",
              "\n",
              "[1 rows x 9 columns]"
            ]
          },
          "metadata": {}
        }
      ]
    },
    {
      "cell_type": "code",
      "source": [
        "display(df[(df['BMI'] > 50) & (df['Outcome'] == 0)])\n",
        "df = df[(df['BMI'] <= 50) | (df['Outcome'] == 1)]"
      ],
      "metadata": {
        "colab": {
          "base_uri": "https://localhost:8080/",
          "height": 81
        },
        "id": "dvwjcPX6jGOE",
        "outputId": "baae7186-6ff8-470f-e477-ec649a16d6b7"
      },
      "execution_count": 13,
      "outputs": [
        {
          "output_type": "display_data",
          "data": {
            "text/html": [
              "\n",
              "  <div id=\"df-81bd97b8-d728-443c-9aa7-dc50b4c87543\">\n",
              "    <div class=\"colab-df-container\">\n",
              "      <div>\n",
              "<style scoped>\n",
              "    .dataframe tbody tr th:only-of-type {\n",
              "        vertical-align: middle;\n",
              "    }\n",
              "\n",
              "    .dataframe tbody tr th {\n",
              "        vertical-align: top;\n",
              "    }\n",
              "\n",
              "    .dataframe thead th {\n",
              "        text-align: right;\n",
              "    }\n",
              "</style>\n",
              "<table border=\"1\" class=\"dataframe\">\n",
              "  <thead>\n",
              "    <tr style=\"text-align: right;\">\n",
              "      <th></th>\n",
              "      <th>Pregnancies</th>\n",
              "      <th>Glucose</th>\n",
              "      <th>BloodPressure</th>\n",
              "      <th>SkinThickness</th>\n",
              "      <th>Insulin</th>\n",
              "      <th>BMI</th>\n",
              "      <th>DiabetesPedigreeFunction</th>\n",
              "      <th>Age</th>\n",
              "      <th>Outcome</th>\n",
              "    </tr>\n",
              "  </thead>\n",
              "  <tbody>\n",
              "    <tr>\n",
              "      <th>673</th>\n",
              "      <td>3</td>\n",
              "      <td>123</td>\n",
              "      <td>100</td>\n",
              "      <td>35</td>\n",
              "      <td>240</td>\n",
              "      <td>57.3</td>\n",
              "      <td>0.88</td>\n",
              "      <td>22</td>\n",
              "      <td>0</td>\n",
              "    </tr>\n",
              "  </tbody>\n",
              "</table>\n",
              "</div>\n",
              "      <button class=\"colab-df-convert\" onclick=\"convertToInteractive('df-81bd97b8-d728-443c-9aa7-dc50b4c87543')\"\n",
              "              title=\"Convert this dataframe to an interactive table.\"\n",
              "              style=\"display:none;\">\n",
              "        \n",
              "  <svg xmlns=\"http://www.w3.org/2000/svg\" height=\"24px\"viewBox=\"0 0 24 24\"\n",
              "       width=\"24px\">\n",
              "    <path d=\"M0 0h24v24H0V0z\" fill=\"none\"/>\n",
              "    <path d=\"M18.56 5.44l.94 2.06.94-2.06 2.06-.94-2.06-.94-.94-2.06-.94 2.06-2.06.94zm-11 1L8.5 8.5l.94-2.06 2.06-.94-2.06-.94L8.5 2.5l-.94 2.06-2.06.94zm10 10l.94 2.06.94-2.06 2.06-.94-2.06-.94-.94-2.06-.94 2.06-2.06.94z\"/><path d=\"M17.41 7.96l-1.37-1.37c-.4-.4-.92-.59-1.43-.59-.52 0-1.04.2-1.43.59L10.3 9.45l-7.72 7.72c-.78.78-.78 2.05 0 2.83L4 21.41c.39.39.9.59 1.41.59.51 0 1.02-.2 1.41-.59l7.78-7.78 2.81-2.81c.8-.78.8-2.07 0-2.86zM5.41 20L4 18.59l7.72-7.72 1.47 1.35L5.41 20z\"/>\n",
              "  </svg>\n",
              "      </button>\n",
              "      \n",
              "  <style>\n",
              "    .colab-df-container {\n",
              "      display:flex;\n",
              "      flex-wrap:wrap;\n",
              "      gap: 12px;\n",
              "    }\n",
              "\n",
              "    .colab-df-convert {\n",
              "      background-color: #E8F0FE;\n",
              "      border: none;\n",
              "      border-radius: 50%;\n",
              "      cursor: pointer;\n",
              "      display: none;\n",
              "      fill: #1967D2;\n",
              "      height: 32px;\n",
              "      padding: 0 0 0 0;\n",
              "      width: 32px;\n",
              "    }\n",
              "\n",
              "    .colab-df-convert:hover {\n",
              "      background-color: #E2EBFA;\n",
              "      box-shadow: 0px 1px 2px rgba(60, 64, 67, 0.3), 0px 1px 3px 1px rgba(60, 64, 67, 0.15);\n",
              "      fill: #174EA6;\n",
              "    }\n",
              "\n",
              "    [theme=dark] .colab-df-convert {\n",
              "      background-color: #3B4455;\n",
              "      fill: #D2E3FC;\n",
              "    }\n",
              "\n",
              "    [theme=dark] .colab-df-convert:hover {\n",
              "      background-color: #434B5C;\n",
              "      box-shadow: 0px 1px 3px 1px rgba(0, 0, 0, 0.15);\n",
              "      filter: drop-shadow(0px 1px 2px rgba(0, 0, 0, 0.3));\n",
              "      fill: #FFFFFF;\n",
              "    }\n",
              "  </style>\n",
              "\n",
              "      <script>\n",
              "        const buttonEl =\n",
              "          document.querySelector('#df-81bd97b8-d728-443c-9aa7-dc50b4c87543 button.colab-df-convert');\n",
              "        buttonEl.style.display =\n",
              "          google.colab.kernel.accessAllowed ? 'block' : 'none';\n",
              "\n",
              "        async function convertToInteractive(key) {\n",
              "          const element = document.querySelector('#df-81bd97b8-d728-443c-9aa7-dc50b4c87543');\n",
              "          const dataTable =\n",
              "            await google.colab.kernel.invokeFunction('convertToInteractive',\n",
              "                                                     [key], {});\n",
              "          if (!dataTable) return;\n",
              "\n",
              "          const docLinkHtml = 'Like what you see? Visit the ' +\n",
              "            '<a target=\"_blank\" href=https://colab.research.google.com/notebooks/data_table.ipynb>data table notebook</a>'\n",
              "            + ' to learn more about interactive tables.';\n",
              "          element.innerHTML = '';\n",
              "          dataTable['output_type'] = 'display_data';\n",
              "          await google.colab.output.renderOutput(dataTable, element);\n",
              "          const docLink = document.createElement('div');\n",
              "          docLink.innerHTML = docLinkHtml;\n",
              "          element.appendChild(docLink);\n",
              "        }\n",
              "      </script>\n",
              "    </div>\n",
              "  </div>\n",
              "  "
            ],
            "text/plain": [
              "     Pregnancies  Glucose  ...  Age  Outcome\n",
              "673            3      123  ...   22        0\n",
              "\n",
              "[1 rows x 9 columns]"
            ]
          },
          "metadata": {}
        }
      ]
    },
    {
      "cell_type": "code",
      "source": [
        "df.describe()"
      ],
      "metadata": {
        "colab": {
          "base_uri": "https://localhost:8080/",
          "height": 300
        },
        "id": "rvDYBnZHmQYb",
        "outputId": "0f226774-2029-42bc-c802-8ab9f3201710"
      },
      "execution_count": 14,
      "outputs": [
        {
          "output_type": "execute_result",
          "data": {
            "text/html": [
              "\n",
              "  <div id=\"df-944135bd-e786-4890-afec-8ce1545152c9\">\n",
              "    <div class=\"colab-df-container\">\n",
              "      <div>\n",
              "<style scoped>\n",
              "    .dataframe tbody tr th:only-of-type {\n",
              "        vertical-align: middle;\n",
              "    }\n",
              "\n",
              "    .dataframe tbody tr th {\n",
              "        vertical-align: top;\n",
              "    }\n",
              "\n",
              "    .dataframe thead th {\n",
              "        text-align: right;\n",
              "    }\n",
              "</style>\n",
              "<table border=\"1\" class=\"dataframe\">\n",
              "  <thead>\n",
              "    <tr style=\"text-align: right;\">\n",
              "      <th></th>\n",
              "      <th>Pregnancies</th>\n",
              "      <th>Glucose</th>\n",
              "      <th>BloodPressure</th>\n",
              "      <th>SkinThickness</th>\n",
              "      <th>Insulin</th>\n",
              "      <th>BMI</th>\n",
              "      <th>DiabetesPedigreeFunction</th>\n",
              "      <th>Age</th>\n",
              "      <th>Outcome</th>\n",
              "    </tr>\n",
              "  </thead>\n",
              "  <tbody>\n",
              "    <tr>\n",
              "      <th>count</th>\n",
              "      <td>718.000000</td>\n",
              "      <td>718.000000</td>\n",
              "      <td>718.000000</td>\n",
              "      <td>718.000000</td>\n",
              "      <td>718.000000</td>\n",
              "      <td>718.000000</td>\n",
              "      <td>718.000000</td>\n",
              "      <td>718.000000</td>\n",
              "      <td>718.000000</td>\n",
              "    </tr>\n",
              "    <tr>\n",
              "      <th>mean</th>\n",
              "      <td>3.811978</td>\n",
              "      <td>120.683844</td>\n",
              "      <td>69.470752</td>\n",
              "      <td>20.278552</td>\n",
              "      <td>78.803621</td>\n",
              "      <td>31.955571</td>\n",
              "      <td>0.464336</td>\n",
              "      <td>32.997214</td>\n",
              "      <td>0.346797</td>\n",
              "    </tr>\n",
              "    <tr>\n",
              "      <th>std</th>\n",
              "      <td>3.246201</td>\n",
              "      <td>31.410967</td>\n",
              "      <td>18.110419</td>\n",
              "      <td>15.613010</td>\n",
              "      <td>108.080458</td>\n",
              "      <td>7.202455</td>\n",
              "      <td>0.319024</td>\n",
              "      <td>11.409824</td>\n",
              "      <td>0.476282</td>\n",
              "    </tr>\n",
              "    <tr>\n",
              "      <th>min</th>\n",
              "      <td>0.000000</td>\n",
              "      <td>0.000000</td>\n",
              "      <td>0.000000</td>\n",
              "      <td>0.000000</td>\n",
              "      <td>0.000000</td>\n",
              "      <td>0.000000</td>\n",
              "      <td>0.078000</td>\n",
              "      <td>21.000000</td>\n",
              "      <td>0.000000</td>\n",
              "    </tr>\n",
              "    <tr>\n",
              "      <th>25%</th>\n",
              "      <td>1.000000</td>\n",
              "      <td>99.000000</td>\n",
              "      <td>64.000000</td>\n",
              "      <td>0.000000</td>\n",
              "      <td>0.000000</td>\n",
              "      <td>27.400000</td>\n",
              "      <td>0.238250</td>\n",
              "      <td>24.000000</td>\n",
              "      <td>0.000000</td>\n",
              "    </tr>\n",
              "    <tr>\n",
              "      <th>50%</th>\n",
              "      <td>3.000000</td>\n",
              "      <td>116.500000</td>\n",
              "      <td>72.000000</td>\n",
              "      <td>23.000000</td>\n",
              "      <td>36.500000</td>\n",
              "      <td>32.000000</td>\n",
              "      <td>0.365000</td>\n",
              "      <td>29.000000</td>\n",
              "      <td>0.000000</td>\n",
              "    </tr>\n",
              "    <tr>\n",
              "      <th>75%</th>\n",
              "      <td>6.000000</td>\n",
              "      <td>140.000000</td>\n",
              "      <td>80.000000</td>\n",
              "      <td>32.000000</td>\n",
              "      <td>130.000000</td>\n",
              "      <td>36.375000</td>\n",
              "      <td>0.613750</td>\n",
              "      <td>40.000000</td>\n",
              "      <td>1.000000</td>\n",
              "    </tr>\n",
              "    <tr>\n",
              "      <th>max</th>\n",
              "      <td>13.000000</td>\n",
              "      <td>199.000000</td>\n",
              "      <td>110.000000</td>\n",
              "      <td>60.000000</td>\n",
              "      <td>600.000000</td>\n",
              "      <td>52.300000</td>\n",
              "      <td>2.288000</td>\n",
              "      <td>70.000000</td>\n",
              "      <td>1.000000</td>\n",
              "    </tr>\n",
              "  </tbody>\n",
              "</table>\n",
              "</div>\n",
              "      <button class=\"colab-df-convert\" onclick=\"convertToInteractive('df-944135bd-e786-4890-afec-8ce1545152c9')\"\n",
              "              title=\"Convert this dataframe to an interactive table.\"\n",
              "              style=\"display:none;\">\n",
              "        \n",
              "  <svg xmlns=\"http://www.w3.org/2000/svg\" height=\"24px\"viewBox=\"0 0 24 24\"\n",
              "       width=\"24px\">\n",
              "    <path d=\"M0 0h24v24H0V0z\" fill=\"none\"/>\n",
              "    <path d=\"M18.56 5.44l.94 2.06.94-2.06 2.06-.94-2.06-.94-.94-2.06-.94 2.06-2.06.94zm-11 1L8.5 8.5l.94-2.06 2.06-.94-2.06-.94L8.5 2.5l-.94 2.06-2.06.94zm10 10l.94 2.06.94-2.06 2.06-.94-2.06-.94-.94-2.06-.94 2.06-2.06.94z\"/><path d=\"M17.41 7.96l-1.37-1.37c-.4-.4-.92-.59-1.43-.59-.52 0-1.04.2-1.43.59L10.3 9.45l-7.72 7.72c-.78.78-.78 2.05 0 2.83L4 21.41c.39.39.9.59 1.41.59.51 0 1.02-.2 1.41-.59l7.78-7.78 2.81-2.81c.8-.78.8-2.07 0-2.86zM5.41 20L4 18.59l7.72-7.72 1.47 1.35L5.41 20z\"/>\n",
              "  </svg>\n",
              "      </button>\n",
              "      \n",
              "  <style>\n",
              "    .colab-df-container {\n",
              "      display:flex;\n",
              "      flex-wrap:wrap;\n",
              "      gap: 12px;\n",
              "    }\n",
              "\n",
              "    .colab-df-convert {\n",
              "      background-color: #E8F0FE;\n",
              "      border: none;\n",
              "      border-radius: 50%;\n",
              "      cursor: pointer;\n",
              "      display: none;\n",
              "      fill: #1967D2;\n",
              "      height: 32px;\n",
              "      padding: 0 0 0 0;\n",
              "      width: 32px;\n",
              "    }\n",
              "\n",
              "    .colab-df-convert:hover {\n",
              "      background-color: #E2EBFA;\n",
              "      box-shadow: 0px 1px 2px rgba(60, 64, 67, 0.3), 0px 1px 3px 1px rgba(60, 64, 67, 0.15);\n",
              "      fill: #174EA6;\n",
              "    }\n",
              "\n",
              "    [theme=dark] .colab-df-convert {\n",
              "      background-color: #3B4455;\n",
              "      fill: #D2E3FC;\n",
              "    }\n",
              "\n",
              "    [theme=dark] .colab-df-convert:hover {\n",
              "      background-color: #434B5C;\n",
              "      box-shadow: 0px 1px 3px 1px rgba(0, 0, 0, 0.15);\n",
              "      filter: drop-shadow(0px 1px 2px rgba(0, 0, 0, 0.3));\n",
              "      fill: #FFFFFF;\n",
              "    }\n",
              "  </style>\n",
              "\n",
              "      <script>\n",
              "        const buttonEl =\n",
              "          document.querySelector('#df-944135bd-e786-4890-afec-8ce1545152c9 button.colab-df-convert');\n",
              "        buttonEl.style.display =\n",
              "          google.colab.kernel.accessAllowed ? 'block' : 'none';\n",
              "\n",
              "        async function convertToInteractive(key) {\n",
              "          const element = document.querySelector('#df-944135bd-e786-4890-afec-8ce1545152c9');\n",
              "          const dataTable =\n",
              "            await google.colab.kernel.invokeFunction('convertToInteractive',\n",
              "                                                     [key], {});\n",
              "          if (!dataTable) return;\n",
              "\n",
              "          const docLinkHtml = 'Like what you see? Visit the ' +\n",
              "            '<a target=\"_blank\" href=https://colab.research.google.com/notebooks/data_table.ipynb>data table notebook</a>'\n",
              "            + ' to learn more about interactive tables.';\n",
              "          element.innerHTML = '';\n",
              "          dataTable['output_type'] = 'display_data';\n",
              "          await google.colab.output.renderOutput(dataTable, element);\n",
              "          const docLink = document.createElement('div');\n",
              "          docLink.innerHTML = docLinkHtml;\n",
              "          element.appendChild(docLink);\n",
              "        }\n",
              "      </script>\n",
              "    </div>\n",
              "  </div>\n",
              "  "
            ],
            "text/plain": [
              "       Pregnancies     Glucose  ...         Age     Outcome\n",
              "count   718.000000  718.000000  ...  718.000000  718.000000\n",
              "mean      3.811978  120.683844  ...   32.997214    0.346797\n",
              "std       3.246201   31.410967  ...   11.409824    0.476282\n",
              "min       0.000000    0.000000  ...   21.000000    0.000000\n",
              "25%       1.000000   99.000000  ...   24.000000    0.000000\n",
              "50%       3.000000  116.500000  ...   29.000000    0.000000\n",
              "75%       6.000000  140.000000  ...   40.000000    1.000000\n",
              "max      13.000000  199.000000  ...   70.000000    1.000000\n",
              "\n",
              "[8 rows x 9 columns]"
            ]
          },
          "metadata": {},
          "execution_count": 14
        }
      ]
    },
    {
      "cell_type": "markdown",
      "source": [
        "# Removing missing values"
      ],
      "metadata": {
        "id": "i8NSUePKppEF"
      }
    },
    {
      "cell_type": "code",
      "source": [
        "print('      Glucose missing values: ',len(df[df['Glucose'] == 0.0]))\n",
        "print('BloodPressure missing values: ',len(df[df['BloodPressure'] == 0.0]))\n",
        "print('SkinThickness missing values: ',len(df[df['SkinThickness'] == 0.0]))\n",
        "print('          BMI missing values: ',len(df[df['BMI'] == 0.0]))"
      ],
      "metadata": {
        "colab": {
          "base_uri": "https://localhost:8080/"
        },
        "id": "yLpjTpdTzvmN",
        "outputId": "d069e259-2d28-4a34-d896-606488c9d47f"
      },
      "execution_count": 15,
      "outputs": [
        {
          "output_type": "stream",
          "name": "stdout",
          "text": [
            "      Glucose missing values:  5\n",
            "BloodPressure missing values:  29\n",
            "SkinThickness missing values:  214\n",
            "          BMI missing values:  7\n"
          ]
        }
      ]
    },
    {
      "cell_type": "code",
      "source": [
        "df.loc[df['Glucose'] == 0.0, 'Glucose'] = np.nan\n",
        "df.loc[df['BMI'] == 0.0, 'BMI'] = np.nan\n",
        "df.loc[df['SkinThickness'] == 0.0, 'SkinThickness'] = np.nan\n",
        "df.loc[df['BloodPressure'] == 0.0, 'BloodPressure'] = np.nan\n",
        "df = df.interpolate()"
      ],
      "metadata": {
        "id": "ONvifZ80GZIJ"
      },
      "execution_count": 16,
      "outputs": []
    },
    {
      "cell_type": "markdown",
      "source": [
        "# Feature engineering"
      ],
      "metadata": {
        "id": "WY8DzokOpjDk"
      }
    },
    {
      "cell_type": "code",
      "source": [
        "X = df.drop(columns=['Outcome'])\n",
        "y = df[['Outcome']]\n",
        "\n",
        "print(X.head())\n",
        "print(y.head())"
      ],
      "metadata": {
        "colab": {
          "base_uri": "https://localhost:8080/"
        },
        "id": "J2Sp8LRL7d4H",
        "outputId": "366b9f00-b618-4e44-84e4-a3adc9691467"
      },
      "execution_count": 17,
      "outputs": [
        {
          "output_type": "stream",
          "name": "stdout",
          "text": [
            "   Pregnancies  Glucose  BloodPressure  ...   BMI  DiabetesPedigreeFunction  Age\n",
            "0            6    148.0           72.0  ...  33.6                     0.627   50\n",
            "1            1     85.0           66.0  ...  26.6                     0.351   31\n",
            "2            8    183.0           64.0  ...  23.3                     0.672   32\n",
            "3            1     89.0           66.0  ...  28.1                     0.167   21\n",
            "4            0    137.0           40.0  ...  43.1                     2.288   33\n",
            "\n",
            "[5 rows x 8 columns]\n",
            "   Outcome\n",
            "0        1\n",
            "1        0\n",
            "2        1\n",
            "3        0\n",
            "4        1\n"
          ]
        }
      ]
    },
    {
      "cell_type": "code",
      "source": [
        "# plt.figure(figsize=(15, 15))\n",
        "# sb.pairplot(df, hue='Outcome')"
      ],
      "metadata": {
        "id": "mg0e80aR6xnY"
      },
      "execution_count": 16,
      "outputs": []
    },
    {
      "cell_type": "code",
      "source": [
        "# plt.figure(figsize=(10, 10))\n",
        "# sb.heatmap(df.corr(),  annot=True)"
      ],
      "metadata": {
        "id": "lKt-tmV-6yYh",
        "colab": {
          "base_uri": "https://localhost:8080/",
          "height": 734
        },
        "outputId": "d8e868a0-c8ec-4c70-ccbf-7f6a2ac727bb"
      },
      "execution_count": null,
      "outputs": [
        {
          "output_type": "execute_result",
          "data": {
            "text/plain": [
              "<matplotlib.axes._subplots.AxesSubplot at 0x7fecc64c8d50>"
            ]
          },
          "metadata": {},
          "execution_count": 21
        },
        {
          "output_type": "display_data",
          "data": {
            "image/png": "[encoded data removed]",
            "text/plain": [
              "<Figure size 720x720 with 2 Axes>"
            ]
          },
          "metadata": {
            "needs_background": "light"
          }
        }
      ]
    },
    {
      "cell_type": "code",
      "source": [
        "!pip install autofeat"
      ],
      "metadata": {
        "colab": {
          "base_uri": "https://localhost:8080/"
        },
        "id": "waP1x1PP2j3Q",
        "outputId": "2f20139a-af99-4b2d-c240-542168e8a1f6"
      },
      "execution_count": 18,
      "outputs": [
        {
          "output_type": "stream",
          "name": "stdout",
          "text": [
            "Requirement already satisfied: autofeat in /usr/local/lib/python3.7/dist-packages (2.0.10)\n",
            "Requirement already satisfied: numpy in /usr/local/lib/python3.7/dist-packages (from autofeat) (1.19.5)\n",
            "Requirement already satisfied: scikit-learn in /usr/local/lib/python3.7/dist-packages (from autofeat) (1.0.1)\n",
            "Requirement already satisfied: pandas>=0.24.0 in /usr/local/lib/python3.7/dist-packages (from autofeat) (1.3.5)\n",
            "Requirement already satisfied: future in /usr/local/lib/python3.7/dist-packages (from autofeat) (0.16.0)\n",
            "Requirement already satisfied: numba in /usr/local/lib/python3.7/dist-packages (from autofeat) (0.51.2)\n",
            "Requirement already satisfied: sympy>=1.7.1 in /usr/local/lib/python3.7/dist-packages (from autofeat) (1.7.1)\n",
            "Requirement already satisfied: joblib in /usr/local/lib/python3.7/dist-packages (from autofeat) (1.1.0)\n",
            "Requirement already satisfied: pint in /usr/local/lib/python3.7/dist-packages (from autofeat) (0.18)\n",
            "Requirement already satisfied: pytz>=2017.3 in /usr/local/lib/python3.7/dist-packages (from pandas>=0.24.0->autofeat) (2018.9)\n",
            "Requirement already satisfied: python-dateutil>=2.7.3 in /usr/local/lib/python3.7/dist-packages (from pandas>=0.24.0->autofeat) (2.8.2)\n",
            "Requirement already satisfied: six>=1.5 in /usr/local/lib/python3.7/dist-packages (from python-dateutil>=2.7.3->pandas>=0.24.0->autofeat) (1.15.0)\n",
            "Requirement already satisfied: mpmath>=0.19 in /usr/local/lib/python3.7/dist-packages (from sympy>=1.7.1->autofeat) (1.2.1)\n",
            "Requirement already satisfied: setuptools in /usr/local/lib/python3.7/dist-packages (from numba->autofeat) (57.4.0)\n",
            "Requirement already satisfied: llvmlite<0.35,>=0.34.0.dev0 in /usr/local/lib/python3.7/dist-packages (from numba->autofeat) (0.34.0)\n",
            "Requirement already satisfied: packaging in /usr/local/lib/python3.7/dist-packages (from pint->autofeat) (21.3)\n",
            "Requirement already satisfied: importlib-metadata in /usr/local/lib/python3.7/dist-packages (from pint->autofeat) (4.8.2)\n",
            "Requirement already satisfied: typing-extensions>=3.6.4 in /usr/local/lib/python3.7/dist-packages (from importlib-metadata->pint->autofeat) (3.10.0.2)\n",
            "Requirement already satisfied: zipp>=0.5 in /usr/local/lib/python3.7/dist-packages (from importlib-metadata->pint->autofeat) (3.6.0)\n",
            "Requirement already satisfied: pyparsing!=3.0.5,>=2.0.2 in /usr/local/lib/python3.7/dist-packages (from packaging->pint->autofeat) (3.0.6)\n",
            "Requirement already satisfied: scipy>=1.1.0 in /usr/local/lib/python3.7/dist-packages (from scikit-learn->autofeat) (1.4.1)\n",
            "Requirement already satisfied: threadpoolctl>=2.0.0 in /usr/local/lib/python3.7/dist-packages (from scikit-learn->autofeat) (3.0.0)\n"
          ]
        }
      ]
    },
    {
      "cell_type": "code",
      "source": [
        "from autofeat import AutoFeatRegressor, AutoFeatClassifier\n",
        "model = AutoFeatRegressor(verbose=1, feateng_steps=3)\n",
        "X = model.fit_transform(X, y.values.reshape(-1))"
      ],
      "metadata": {
        "colab": {
          "base_uri": "https://localhost:8080/"
        },
        "id": "pEgmqvOb7L2Z",
        "outputId": "3e618a1f-a6a1-4471-c9f2-839f7ae55886"
      },
      "execution_count": 19,
      "outputs": [
        {
          "output_type": "stream",
          "name": "stdout",
          "text": [
            "[AutoFeat] The 3 step feature engineering process could generate up to 38556 features.\n",
            "[AutoFeat] With 718 data points this new feature matrix would use about 0.11 gb of space.\n",
            "[feateng] Step 1: transformation of original features\n",
            "[feateng] Generated 37 transformed features from 8 original features - done.\n",
            "[feateng] Step 2: first combination of features\n",
            "[feateng] Generated 3875 feature combinations from 990 original feature tuples - done.\n",
            "[feateng] Step 3: transformation of new features\n",
            "[feateng] Generated 14500 transformed features from 3875 original features - done.\n",
            "[feateng] Generated altogether 20138 new features in 3 steps\n",
            "[feateng] Removing correlated features, as well as additions at the highest level\n",
            "[feateng] Generated a total of 8148 additional features\n",
            "[featsel] Scaling data...done.\n",
            "[featsel] Feature selection run 1/5\n",
            "[featsel] Feature selection run 2/5\n",
            "[featsel] Feature selection run 3/5\n",
            "[featsel] Feature selection run 4/5\n",
            "[featsel] Feature selection run 5/5\n",
            "[featsel] 26 features after 5 feature selection runs\n",
            "[featsel] 17 features after correlation filtering\n",
            "[featsel] 6 features after noise filtering\n",
            "[AutoFeat] Computing 6 new features.\n",
            "[AutoFeat]     6/    6 new features ...done.\n",
            "[AutoFeat] Final dataframe with 14 feature columns (6 new).\n",
            "[AutoFeat] Training final regression model.\n",
            "[AutoFeat] Trained model: largest coefficients:\n",
            "-0.7595416475962108\n",
            "-105.766673 * 1/(Age**2 + Pregnancies**3)\n",
            "0.078610 * log(sqrt(DiabetesPedigreeFunction)*Glucose**2)\n",
            "0.009513 * (sqrt(Pregnancies) + log(DiabetesPedigreeFunction))**3\n",
            "-0.006708 * 1/(-sqrt(Pregnancies) + log(SkinThickness))\n",
            "0.000116 * BMI*Glucose\n",
            "0.000011 * (-BloodPressure + Glucose)**2\n",
            "[AutoFeat] Final score: 0.3468\n"
          ]
        }
      ]
    },
    {
      "cell_type": "code",
      "source": [
        "print(np.array(X.columns.tolist()))"
      ],
      "metadata": {
        "id": "MZpptnfiUo9z",
        "colab": {
          "base_uri": "https://localhost:8080/"
        },
        "outputId": "88259189-e830-449e-8837-630aec496d2f"
      },
      "execution_count": 20,
      "outputs": [
        {
          "output_type": "stream",
          "name": "stdout",
          "text": [
            "['Pregnancies' 'Glucose' 'BloodPressure' 'SkinThickness' 'Insulin' 'BMI'\n",
            " 'DiabetesPedigreeFunction' 'Age' 'BMI*Glucose'\n",
            " 'log(sqrt(DiabetesPedigreeFunction)*Glucose**2)'\n",
            " '1/(Age**2 + Pregnancies**3)'\n",
            " '1/(-sqrt(Pregnancies) + log(SkinThickness))'\n",
            " '(-BloodPressure + Glucose)**2'\n",
            " '(sqrt(Pregnancies) + log(DiabetesPedigreeFunction))**3']\n"
          ]
        }
      ]
    },
    {
      "cell_type": "code",
      "source": [
        "!pip install featurewiz"
      ],
      "metadata": {
        "id": "9_aOB9yzYIcH",
        "colab": {
          "base_uri": "https://localhost:8080/"
        },
        "outputId": "e072eae2-d048-47ae-a307-c0548e609ee6"
      },
      "execution_count": 21,
      "outputs": [
        {
          "output_type": "stream",
          "name": "stdout",
          "text": [
            "Requirement already satisfied: featurewiz in /usr/local/lib/python3.7/dist-packages (0.0.73)\n",
            "Requirement already satisfied: dask>=2021.11.0 in /usr/local/lib/python3.7/dist-packages (from featurewiz) (2021.12.0)\n",
            "Requirement already satisfied: distributed>=2021.11.0 in /usr/local/lib/python3.7/dist-packages (from featurewiz) (2021.12.0)\n",
            "Requirement already satisfied: matplotlib in /usr/local/lib/python3.7/dist-packages (from featurewiz) (3.2.2)\n",
            "Requirement already satisfied: scikit-learn>=0.23.2 in /usr/local/lib/python3.7/dist-packages (from featurewiz) (1.0.1)\n",
            "Requirement already satisfied: jupyter in /usr/local/lib/python3.7/dist-packages (from featurewiz) (1.0.0)\n",
            "Requirement already satisfied: seaborn in /usr/local/lib/python3.7/dist-packages (from featurewiz) (0.11.2)\n",
            "Requirement already satisfied: networkx in /usr/local/lib/python3.7/dist-packages (from featurewiz) (2.6.3)\n",
            "Requirement already satisfied: lightgbm>=3.0.0 in /usr/local/lib/python3.7/dist-packages (from featurewiz) (3.3.2)\n",
            "Requirement already satisfied: xgboost>=1.5.1 in /usr/local/lib/python3.7/dist-packages (from featurewiz) (1.5.1)\n",
            "Requirement already satisfied: tqdm in /usr/local/lib/python3.7/dist-packages (from featurewiz) (4.62.3)\n",
            "Requirement already satisfied: xlrd in /usr/local/lib/python3.7/dist-packages (from featurewiz) (1.1.0)\n",
            "Requirement already satisfied: category-encoders in /usr/local/lib/python3.7/dist-packages (from featurewiz) (2.3.0)\n",
            "Requirement already satisfied: pandas>=1.3.4 in /usr/local/lib/python3.7/dist-packages (from featurewiz) (1.3.5)\n",
            "Requirement already satisfied: imbalanced-learn>=0.7 in /usr/local/lib/python3.7/dist-packages (from featurewiz) (0.8.1)\n",
            "Requirement already satisfied: ipython in /usr/local/lib/python3.7/dist-packages (from featurewiz) (5.5.0)\n",
            "Requirement already satisfied: packaging>=20.0 in /usr/local/lib/python3.7/dist-packages (from dask>=2021.11.0->featurewiz) (21.3)\n",
            "Requirement already satisfied: toolz>=0.8.2 in /usr/local/lib/python3.7/dist-packages (from dask>=2021.11.0->featurewiz) (0.11.2)\n",
            "Requirement already satisfied: partd>=0.3.10 in /usr/local/lib/python3.7/dist-packages (from dask>=2021.11.0->featurewiz) (1.2.0)\n",
            "Requirement already satisfied: cloudpickle>=1.1.1 in /usr/local/lib/python3.7/dist-packages (from dask>=2021.11.0->featurewiz) (2.0.0)\n",
            "Requirement already satisfied: pyyaml in /usr/local/lib/python3.7/dist-packages (from dask>=2021.11.0->featurewiz) (3.13)\n",
            "Requirement already satisfied: fsspec>=0.6.0 in /usr/local/lib/python3.7/dist-packages (from dask>=2021.11.0->featurewiz) (2021.11.1)\n",
            "Requirement already satisfied: psutil>=5.0 in /usr/local/lib/python3.7/dist-packages (from distributed>=2021.11.0->featurewiz) (5.4.8)\n",
            "Requirement already satisfied: jinja2 in /usr/local/lib/python3.7/dist-packages (from distributed>=2021.11.0->featurewiz) (2.11.3)\n",
            "Requirement already satisfied: msgpack>=0.6.0 in /usr/local/lib/python3.7/dist-packages (from distributed>=2021.11.0->featurewiz) (1.0.3)\n",
            "Requirement already satisfied: tornado>=5 in /usr/local/lib/python3.7/dist-packages (from distributed>=2021.11.0->featurewiz) (5.1.1)\n",
            "Requirement already satisfied: sortedcontainers!=2.0.0,!=2.0.1 in /usr/local/lib/python3.7/dist-packages (from distributed>=2021.11.0->featurewiz) (2.4.0)\n",
            "Requirement already satisfied: setuptools in /usr/local/lib/python3.7/dist-packages (from distributed>=2021.11.0->featurewiz) (57.4.0)\n",
            "Requirement already satisfied: click>=6.6 in /usr/local/lib/python3.7/dist-packages (from distributed>=2021.11.0->featurewiz) (7.1.2)\n",
            "Requirement already satisfied: tblib>=1.6.0 in /usr/local/lib/python3.7/dist-packages (from distributed>=2021.11.0->featurewiz) (1.7.0)\n",
            "Requirement already satisfied: zict>=0.1.3 in /usr/local/lib/python3.7/dist-packages (from distributed>=2021.11.0->featurewiz) (2.0.0)\n",
            "Requirement already satisfied: joblib>=0.11 in /usr/local/lib/python3.7/dist-packages (from imbalanced-learn>=0.7->featurewiz) (1.1.0)\n",
            "Requirement already satisfied: scipy>=0.19.1 in /usr/local/lib/python3.7/dist-packages (from imbalanced-learn>=0.7->featurewiz) (1.4.1)\n",
            "Requirement already satisfied: numpy>=1.13.3 in /usr/local/lib/python3.7/dist-packages (from imbalanced-learn>=0.7->featurewiz) (1.19.5)\n",
            "Requirement already satisfied: wheel in /usr/local/lib/python3.7/dist-packages (from lightgbm>=3.0.0->featurewiz) (0.37.0)\n",
            "Requirement already satisfied: pyparsing!=3.0.5,>=2.0.2 in /usr/local/lib/python3.7/dist-packages (from packaging>=20.0->dask>=2021.11.0->featurewiz) (3.0.6)\n",
            "Requirement already satisfied: pytz>=2017.3 in /usr/local/lib/python3.7/dist-packages (from pandas>=1.3.4->featurewiz) (2018.9)\n",
            "Requirement already satisfied: python-dateutil>=2.7.3 in /usr/local/lib/python3.7/dist-packages (from pandas>=1.3.4->featurewiz) (2.8.2)\n",
            "Requirement already satisfied: locket in /usr/local/lib/python3.7/dist-packages (from partd>=0.3.10->dask>=2021.11.0->featurewiz) (0.2.1)\n",
            "Requirement already satisfied: six>=1.5 in /usr/local/lib/python3.7/dist-packages (from python-dateutil>=2.7.3->pandas>=1.3.4->featurewiz) (1.15.0)\n",
            "Requirement already satisfied: threadpoolctl>=2.0.0 in /usr/local/lib/python3.7/dist-packages (from scikit-learn>=0.23.2->featurewiz) (3.0.0)\n",
            "Requirement already satisfied: heapdict in /usr/local/lib/python3.7/dist-packages (from zict>=0.1.3->distributed>=2021.11.0->featurewiz) (1.0.1)\n",
            "Requirement already satisfied: statsmodels>=0.9.0 in /usr/local/lib/python3.7/dist-packages (from category-encoders->featurewiz) (0.10.2)\n",
            "Requirement already satisfied: patsy>=0.5.1 in /usr/local/lib/python3.7/dist-packages (from category-encoders->featurewiz) (0.5.2)\n",
            "Requirement already satisfied: pygments in /usr/local/lib/python3.7/dist-packages (from ipython->featurewiz) (2.6.1)\n",
            "Requirement already satisfied: pexpect in /usr/local/lib/python3.7/dist-packages (from ipython->featurewiz) (4.8.0)\n",
            "Requirement already satisfied: pickleshare in /usr/local/lib/python3.7/dist-packages (from ipython->featurewiz) (0.7.5)\n",
            "Requirement already satisfied: decorator in /usr/local/lib/python3.7/dist-packages (from ipython->featurewiz) (4.4.2)\n",
            "Requirement already satisfied: prompt-toolkit<2.0.0,>=1.0.4 in /usr/local/lib/python3.7/dist-packages (from ipython->featurewiz) (1.0.18)\n",
            "Requirement already satisfied: simplegeneric>0.8 in /usr/local/lib/python3.7/dist-packages (from ipython->featurewiz) (0.8.1)\n",
            "Requirement already satisfied: traitlets>=4.2 in /usr/local/lib/python3.7/dist-packages (from ipython->featurewiz) (5.1.1)\n",
            "Requirement already satisfied: wcwidth in /usr/local/lib/python3.7/dist-packages (from prompt-toolkit<2.0.0,>=1.0.4->ipython->featurewiz) (0.2.5)\n",
            "Requirement already satisfied: MarkupSafe>=0.23 in /usr/local/lib/python3.7/dist-packages (from jinja2->distributed>=2021.11.0->featurewiz) (2.0.1)\n",
            "Requirement already satisfied: qtconsole in /usr/local/lib/python3.7/dist-packages (from jupyter->featurewiz) (5.2.2)\n",
            "Requirement already satisfied: nbconvert in /usr/local/lib/python3.7/dist-packages (from jupyter->featurewiz) (5.6.1)\n",
            "Requirement already satisfied: ipywidgets in /usr/local/lib/python3.7/dist-packages (from jupyter->featurewiz) (7.6.5)\n",
            "Requirement already satisfied: ipykernel in /usr/local/lib/python3.7/dist-packages (from jupyter->featurewiz) (4.10.1)\n",
            "Requirement already satisfied: jupyter-console in /usr/local/lib/python3.7/dist-packages (from jupyter->featurewiz) (5.2.0)\n",
            "Requirement already satisfied: notebook in /usr/local/lib/python3.7/dist-packages (from jupyter->featurewiz) (5.3.1)\n",
            "Requirement already satisfied: jupyter-client in /usr/local/lib/python3.7/dist-packages (from ipykernel->jupyter->featurewiz) (5.3.5)\n",
            "Requirement already satisfied: nbformat>=4.2.0 in /usr/local/lib/python3.7/dist-packages (from ipywidgets->jupyter->featurewiz) (5.1.3)\n",
            "Requirement already satisfied: jupyterlab-widgets>=1.0.0 in /usr/local/lib/python3.7/dist-packages (from ipywidgets->jupyter->featurewiz) (1.0.2)\n",
            "Requirement already satisfied: ipython-genutils~=0.2.0 in /usr/local/lib/python3.7/dist-packages (from ipywidgets->jupyter->featurewiz) (0.2.0)\n",
            "Requirement already satisfied: widgetsnbextension~=3.5.0 in /usr/local/lib/python3.7/dist-packages (from ipywidgets->jupyter->featurewiz) (3.5.2)\n",
            "Requirement already satisfied: jsonschema!=2.5.0,>=2.4 in /usr/local/lib/python3.7/dist-packages (from nbformat>=4.2.0->ipywidgets->jupyter->featurewiz) (2.6.0)\n",
            "Requirement already satisfied: jupyter-core in /usr/local/lib/python3.7/dist-packages (from nbformat>=4.2.0->ipywidgets->jupyter->featurewiz) (4.9.1)\n",
            "Requirement already satisfied: terminado>=0.8.1 in /usr/local/lib/python3.7/dist-packages (from notebook->jupyter->featurewiz) (0.12.1)\n",
            "Requirement already satisfied: Send2Trash in /usr/local/lib/python3.7/dist-packages (from notebook->jupyter->featurewiz) (1.8.0)\n",
            "Requirement already satisfied: pyzmq>=13 in /usr/local/lib/python3.7/dist-packages (from jupyter-client->ipykernel->jupyter->featurewiz) (22.3.0)\n",
            "Requirement already satisfied: ptyprocess in /usr/local/lib/python3.7/dist-packages (from terminado>=0.8.1->notebook->jupyter->featurewiz) (0.7.0)\n",
            "Requirement already satisfied: cycler>=0.10 in /usr/local/lib/python3.7/dist-packages (from matplotlib->featurewiz) (0.11.0)\n",
            "Requirement already satisfied: kiwisolver>=1.0.1 in /usr/local/lib/python3.7/dist-packages (from matplotlib->featurewiz) (1.3.2)\n",
            "Requirement already satisfied: mistune<2,>=0.8.1 in /usr/local/lib/python3.7/dist-packages (from nbconvert->jupyter->featurewiz) (0.8.4)\n",
            "Requirement already satisfied: bleach in /usr/local/lib/python3.7/dist-packages (from nbconvert->jupyter->featurewiz) (4.1.0)\n",
            "Requirement already satisfied: pandocfilters>=1.4.1 in /usr/local/lib/python3.7/dist-packages (from nbconvert->jupyter->featurewiz) (1.5.0)\n",
            "Requirement already satisfied: testpath in /usr/local/lib/python3.7/dist-packages (from nbconvert->jupyter->featurewiz) (0.5.0)\n",
            "Requirement already satisfied: entrypoints>=0.2.2 in /usr/local/lib/python3.7/dist-packages (from nbconvert->jupyter->featurewiz) (0.3)\n",
            "Requirement already satisfied: defusedxml in /usr/local/lib/python3.7/dist-packages (from nbconvert->jupyter->featurewiz) (0.7.1)\n",
            "Requirement already satisfied: webencodings in /usr/local/lib/python3.7/dist-packages (from bleach->nbconvert->jupyter->featurewiz) (0.5.1)\n",
            "Requirement already satisfied: qtpy in /usr/local/lib/python3.7/dist-packages (from qtconsole->jupyter->featurewiz) (2.0.0)\n"
          ]
        }
      ]
    },
    {
      "cell_type": "code",
      "source": [
        "import pandas as pd\n",
        "from featurewiz import featurewiz\n",
        "\n",
        "tmp = pd.concat([X.reset_index(), y.reset_index()], axis=1)\n",
        "df_train = tmp.sample(frac=0.8)\n",
        "features1 = featurewiz(\n",
        "    df_train,\n",
        "    target='Outcome', \n",
        "    corr_limit=0.70, \n",
        "    verbose=2, \n",
        "    nrows=None, \n",
        "    dask_xgboost_flag=False\n",
        ")\n",
        "\n",
        "df_train = df_train[features1[1].columns.tolist()]\n",
        "df_test = tmp[df_train.columns.tolist()].drop(df_train.index)"
      ],
      "metadata": {
        "id": "ucLf4SCxRapD",
        "colab": {
          "base_uri": "https://localhost:8080/",
          "height": 714
        },
        "outputId": "aacd3a1b-88e6-47ab-c6a3-b7c85917fe80"
      },
      "execution_count": 6,
      "outputs": [
        {
          "output_type": "stream",
          "name": "stderr",
          "text": [
            "/usr/local/lib/python3.7/dist-packages/statsmodels/tools/_testing.py:19: FutureWarning: pandas.util.testing is deprecated. Use the functions in the public API at pandas.testing instead.\n",
            "  import pandas.util.testing as tm\n"
          ]
        },
        {
          "output_type": "stream",
          "name": "stdout",
          "text": [
            "Imported DASK version = 0.0.73. nrows=None uses all rows. Set nrows=1000 to randomly sample fewer rows.\n",
            "output = featurewiz(dataname, target, corr_limit=0.70, verbose=2, sep=',', \n",
            "\t\theader=0, test_data='',feature_engg='', category_encoders='',\n",
            "\t\tdask_xgboost_flag=True, nrows=None)\n",
            "Create new features via 'feature_engg' flag : ['interactions','groupby','target']\n",
            "                                \n",
            "############################################################################################\n",
            "############       F A S T   F E A T U R E  E N G G    A N D    S E L E C T I O N ! ########\n",
            "# Be judicious with featurewiz. Don't use it to create too many un-interpretable features! #\n",
            "############################################################################################\n",
            "Skipping feature engineering since no feature_engg input...\n",
            "Skipping category encoding since no category encoders specified in input...\n",
            "Loading train data...\n",
            "    Shape of your Data Set loaded: (580, 11)\n",
            "You have duplicate column names in your data set. Removing duplicate columns now...\n",
            "    Caution: We will try to reduce the memory usage of dataframe from 0.05 MB\n"
          ]
        },
        {
          "output_type": "error",
          "ename": "AttributeError",
          "evalue": "ignored",
          "traceback": [
            "\u001b[0;31m---------------------------------------------------------------------------\u001b[0m",
            "\u001b[0;31mAttributeError\u001b[0m                            Traceback (most recent call last)",
            "\u001b[0;32m<ipython-input-6-c0d45e2a7136>\u001b[0m in \u001b[0;36m<module>\u001b[0;34m()\u001b[0m\n\u001b[1;32m     10\u001b[0m     \u001b[0mverbose\u001b[0m\u001b[0;34m=\u001b[0m\u001b[0;36m2\u001b[0m\u001b[0;34m,\u001b[0m\u001b[0;34m\u001b[0m\u001b[0;34m\u001b[0m\u001b[0m\n\u001b[1;32m     11\u001b[0m     \u001b[0mnrows\u001b[0m\u001b[0;34m=\u001b[0m\u001b[0;32mNone\u001b[0m\u001b[0;34m,\u001b[0m\u001b[0;34m\u001b[0m\u001b[0;34m\u001b[0m\u001b[0m\n\u001b[0;32m---> 12\u001b[0;31m     \u001b[0mdask_xgboost_flag\u001b[0m\u001b[0;34m=\u001b[0m\u001b[0;32mFalse\u001b[0m\u001b[0;34m\u001b[0m\u001b[0;34m\u001b[0m\u001b[0m\n\u001b[0m\u001b[1;32m     13\u001b[0m )\n\u001b[1;32m     14\u001b[0m \u001b[0;34m\u001b[0m\u001b[0m\n",
            "\u001b[0;32m/usr/local/lib/python3.7/dist-packages/featurewiz/featurewiz.py\u001b[0m in \u001b[0;36mfeaturewiz\u001b[0;34m(dataname, target, corr_limit, verbose, sep, header, test_data, feature_engg, category_encoders, dask_xgboost_flag, nrows, **kwargs)\u001b[0m\n\u001b[1;32m   1058\u001b[0m         \u001b[0;32melse\u001b[0m\u001b[0;34m:\u001b[0m\u001b[0;34m\u001b[0m\u001b[0;34m\u001b[0m\u001b[0m\n\u001b[1;32m   1059\u001b[0m             \u001b[0mtrain\u001b[0m \u001b[0;34m=\u001b[0m \u001b[0mload_file_dataframe\u001b[0m\u001b[0;34m(\u001b[0m\u001b[0mdataname\u001b[0m\u001b[0;34m,\u001b[0m \u001b[0msep\u001b[0m\u001b[0;34m=\u001b[0m\u001b[0msep\u001b[0m\u001b[0;34m,\u001b[0m \u001b[0mheader\u001b[0m\u001b[0;34m=\u001b[0m\u001b[0mheader\u001b[0m\u001b[0;34m,\u001b[0m \u001b[0mverbose\u001b[0m\u001b[0;34m=\u001b[0m\u001b[0mverbose\u001b[0m\u001b[0;34m,\u001b[0m \u001b[0mnrows\u001b[0m\u001b[0;34m=\u001b[0m\u001b[0mnrows\u001b[0m\u001b[0;34m)\u001b[0m\u001b[0;34m\u001b[0m\u001b[0;34m\u001b[0m\u001b[0m\n\u001b[0;32m-> 1060\u001b[0;31m             \u001b[0mdataname\u001b[0m \u001b[0;34m=\u001b[0m \u001b[0mreduce_mem_usage\u001b[0m\u001b[0;34m(\u001b[0m\u001b[0mtrain\u001b[0m\u001b[0;34m)\u001b[0m\u001b[0;34m\u001b[0m\u001b[0;34m\u001b[0m\u001b[0m\n\u001b[0m\u001b[1;32m   1061\u001b[0m     \u001b[0mprint\u001b[0m\u001b[0;34m(\u001b[0m\u001b[0;34m'     Loaded. Shape = %s'\u001b[0m \u001b[0;34m%\u001b[0m\u001b[0;34m(\u001b[0m\u001b[0mdataname\u001b[0m\u001b[0;34m.\u001b[0m\u001b[0mshape\u001b[0m\u001b[0;34m,\u001b[0m\u001b[0;34m)\u001b[0m\u001b[0;34m)\u001b[0m\u001b[0;34m\u001b[0m\u001b[0;34m\u001b[0m\u001b[0m\n\u001b[1;32m   1062\u001b[0m     \u001b[0;31m##################    L O A D    T E S T   D A T A      ######################\u001b[0m\u001b[0;34m\u001b[0m\u001b[0;34m\u001b[0m\u001b[0;34m\u001b[0m\u001b[0m\n",
            "\u001b[0;32m/usr/local/lib/python3.7/dist-packages/featurewiz/featurewiz.py\u001b[0m in \u001b[0;36mreduce_mem_usage\u001b[0;34m(df)\u001b[0m\n\u001b[1;32m   1759\u001b[0m         \u001b[0mcols\u001b[0m \u001b[0;34m=\u001b[0m \u001b[0mcols\u001b[0m\u001b[0;34m.\u001b[0m\u001b[0mtolist\u001b[0m\u001b[0;34m(\u001b[0m\u001b[0;34m)\u001b[0m\u001b[0;34m\u001b[0m\u001b[0;34m\u001b[0m\u001b[0m\n\u001b[1;32m   1760\u001b[0m     \u001b[0;32mfor\u001b[0m \u001b[0mcol\u001b[0m \u001b[0;32min\u001b[0m \u001b[0mcols\u001b[0m\u001b[0;34m:\u001b[0m\u001b[0;34m\u001b[0m\u001b[0;34m\u001b[0m\u001b[0m\n\u001b[0;32m-> 1761\u001b[0;31m         \u001b[0mcol_type\u001b[0m \u001b[0;34m=\u001b[0m \u001b[0mdf\u001b[0m\u001b[0;34m[\u001b[0m\u001b[0mcol\u001b[0m\u001b[0;34m]\u001b[0m\u001b[0;34m.\u001b[0m\u001b[0mdtype\u001b[0m\u001b[0;34m\u001b[0m\u001b[0;34m\u001b[0m\u001b[0m\n\u001b[0m\u001b[1;32m   1762\u001b[0m \u001b[0;34m\u001b[0m\u001b[0m\n\u001b[1;32m   1763\u001b[0m         \u001b[0;32mif\u001b[0m \u001b[0mcol_type\u001b[0m \u001b[0;34m!=\u001b[0m \u001b[0mobject\u001b[0m\u001b[0;34m:\u001b[0m\u001b[0;34m\u001b[0m\u001b[0;34m\u001b[0m\u001b[0m\n",
            "\u001b[0;32m/usr/local/lib/python3.7/dist-packages/pandas/core/generic.py\u001b[0m in \u001b[0;36m__getattr__\u001b[0;34m(self, name)\u001b[0m\n\u001b[1;32m   5485\u001b[0m         ):\n\u001b[1;32m   5486\u001b[0m             \u001b[0;32mreturn\u001b[0m \u001b[0mself\u001b[0m\u001b[0;34m[\u001b[0m\u001b[0mname\u001b[0m\u001b[0;34m]\u001b[0m\u001b[0;34m\u001b[0m\u001b[0;34m\u001b[0m\u001b[0m\n\u001b[0;32m-> 5487\u001b[0;31m         \u001b[0;32mreturn\u001b[0m \u001b[0mobject\u001b[0m\u001b[0;34m.\u001b[0m\u001b[0m__getattribute__\u001b[0m\u001b[0;34m(\u001b[0m\u001b[0mself\u001b[0m\u001b[0;34m,\u001b[0m \u001b[0mname\u001b[0m\u001b[0;34m)\u001b[0m\u001b[0;34m\u001b[0m\u001b[0;34m\u001b[0m\u001b[0m\n\u001b[0m\u001b[1;32m   5488\u001b[0m \u001b[0;34m\u001b[0m\u001b[0m\n\u001b[1;32m   5489\u001b[0m     \u001b[0;32mdef\u001b[0m \u001b[0m__setattr__\u001b[0m\u001b[0;34m(\u001b[0m\u001b[0mself\u001b[0m\u001b[0;34m,\u001b[0m \u001b[0mname\u001b[0m\u001b[0;34m:\u001b[0m \u001b[0mstr\u001b[0m\u001b[0;34m,\u001b[0m \u001b[0mvalue\u001b[0m\u001b[0;34m)\u001b[0m \u001b[0;34m->\u001b[0m \u001b[0;32mNone\u001b[0m\u001b[0;34m:\u001b[0m\u001b[0;34m\u001b[0m\u001b[0;34m\u001b[0m\u001b[0m\n",
            "\u001b[0;31mAttributeError\u001b[0m: 'DataFrame' object has no attribute 'dtype'"
          ]
        }
      ]
    },
    {
      "cell_type": "code",
      "source": [
        "from sklearn.pipeline import Pipeline\n",
        "from sklearn.model_selection import GridSearchCV\n",
        "\n",
        "pipeline = Pipeline(steps=[\n",
        "    ('scaler', StandardScaler()), \n",
        "    ('knn', KNeighborsClassifier())\n",
        "])\n",
        "\n",
        "params = {\n",
        "    'knn__n_neighbors': list(range(2, 51)),\n",
        "}\n",
        "\n",
        "search = GridSearchCV(pipeline, params)\n",
        "search.fit(df_train.drop(columns=['Outcome']), df_train['Outcome'])\n",
        "print(search.best_score_)\n",
        "print(search.best_params_)\n",
        "print(search.cv_results_['mean_test_score'],'\\n')\n",
        "\n",
        "pipeline = Pipeline(steps=[\n",
        "    ('scaler', MinMaxScaler()), \n",
        "    ('knn', KNeighborsClassifier())\n",
        "])\n",
        "params = {\n",
        "    'knn__n_neighbors': list(range(2, 51)),\n",
        "}\n",
        "\n",
        "search = GridSearchCV(pipeline, params)\n",
        "search.fit(df_train.drop(columns=['Outcome']), df_train['Outcome'])\n",
        "print(search.best_score_)\n",
        "print(search.best_params_)\n",
        "print(search.cv_results_['mean_test_score'], '\\n')"
      ],
      "metadata": {
        "colab": {
          "base_uri": "https://localhost:8080/"
        },
        "id": "BH62Ty6JXAcu",
        "outputId": "be859135-75e7-4496-c366-778621f4ebed"
      },
      "execution_count": null,
      "outputs": [
        {
          "output_type": "stream",
          "name": "stdout",
          "text": [
            "0.7683142639206713\n",
            "{'knn__n_neighbors': 27}\n",
            "[0.70035088 0.71768116 0.70381388 0.71946606 0.74910755 0.73690313\n",
            " 0.74567506 0.74741419 0.73694889 0.72652937 0.73520976 0.75087719\n",
            " 0.74567506 0.7561251  0.74913806 0.74739893 0.74913806 0.74913806\n",
            " 0.75263158 0.75781846 0.76132723 0.76134249 0.74738368 0.76134249\n",
            " 0.75263158 0.76831426 0.76655988 0.76829901 0.76308162 0.76135774\n",
            " 0.75610984 0.7456598  0.76132723 0.75438596 0.75089245 0.7421968\n",
            " 0.74045767 0.74569031 0.74567506 0.74393593 0.74045767 0.74739893\n",
            " 0.73697941 0.7421968  0.74393593 0.74567506 0.73522502 0.74392067\n",
            " 0.74044241] \n",
            "\n",
            "0.7578489702517163\n",
            "{'knn__n_neighbors': 19}\n",
            "[0.71426392 0.71078566 0.72646834 0.74913806 0.73345538 0.72651411\n",
            " 0.72300534 0.72823799 0.73519451 0.7404119  0.73513349 0.74735317\n",
            " 0.75778795 0.74038139 0.75778795 0.74910755 0.75435545 0.75784897\n",
            " 0.75783371 0.75783371 0.75435545 0.75260107 0.75086194 0.75781846\n",
            " 0.74213577 0.75089245 0.75087719 0.75609458 0.74564455 0.74392067\n",
            " 0.73696415 0.74913806 0.74218154 0.74392067 0.73176201 0.73870328\n",
            " 0.73697941 0.7421968  0.73871854 0.74567506 0.73870328 0.74392067\n",
            " 0.73694889 0.74392067 0.74739893 0.74739893 0.74567506 0.74392067\n",
            " 0.73870328] \n",
            "\n"
          ]
        }
      ]
    },
    {
      "cell_type": "code",
      "source": [
        "from sklearn.metrics import accuracy_score\n",
        "from sklearn.model_selection import train_test_split\n",
        "from sklearn.preprocessing import StandardScaler, MinMaxScaler\n",
        "from sklearn.neighbors import KNeighborsClassifier\n",
        "\n",
        "pipeline1 = Pipeline(steps=[\n",
        "    ('scaler', StandardScaler()), \n",
        "    ('knn', KNeighborsClassifier(27))\n",
        "])\n",
        "pipeline2 = Pipeline(steps=[\n",
        "    ('scaler', MinMaxScaler()), \n",
        "    ('knn', KNeighborsClassifier(19))\n",
        "])\n",
        "\n",
        "X_train, y_train = df_train.drop(columns=['Outcome']), df_train['Outcome']\n",
        "X_test, y_test = df_test.drop(columns=['Outcome']), df_test['Outcome']\n",
        "\n",
        "pipeline1.fit(X_train, y_train)\n",
        "pipeline2.fit(X_train, y_train)\n",
        "\n",
        "print(f'1st model acc: {accuracy_score(pipeline1.predict(X_test), y_test)}')\n",
        "print(f'2nd model acc: {accuracy_score(pipeline2.predict(X_test), y_test)}')"
      ],
      "metadata": {
        "colab": {
          "base_uri": "https://localhost:8080/"
        },
        "id": "aRMGAl0njqXQ",
        "outputId": "072786e0-e183-4477-e39c-1429d74b67d4"
      },
      "execution_count": null,
      "outputs": [
        {
          "output_type": "stream",
          "name": "stdout",
          "text": [
            "1st model acc: 0.6944444444444444\n",
            "2nd model acc: 0.6805555555555556\n"
          ]
        }
      ]
    },
    {
      "cell_type": "code",
      "source": [
        "from sklearn.neighbors import KNeighborsClassifier\n",
        "from sklearn.pipeline import Pipeline\n",
        "from sklearn.preprocessing import StandardScaler, MinMaxScaler\n",
        "from sklearn.feature_selection import SelectKBest, SequentialFeatureSelector, f_classif\n",
        "from sklearn.model_selection import GridSearchCV\n",
        "\n",
        "pipeline = Pipeline(steps=[('f_sel', SelectKBest()), ('scaler', StandardScaler()), ('knn', KNeighborsClassifier())])\n",
        "params = {\n",
        "    'f_sel__score_func': [f_classif],\n",
        "    'f_sel__k': list(range(1, len(X.columns.tolist())+1)),\n",
        "    'knn__n_neighbors': list(range(2, 51)),\n",
        "}\n",
        "\n",
        "search = GridSearchCV(pipeline, params)\n",
        "search.fit(X, y['Outcome'].values.reshape(-1))\n",
        "print(search.best_score_)\n",
        "print(search.best_params_)\n",
        "\n",
        "pipeline = Pipeline(steps=[('f_sel', SelectKBest()), ('scaler', MinMaxScaler()), ('knn', KNeighborsClassifier())])\n",
        "params = {\n",
        "    'f_sel__score_func': [f_classif],\n",
        "    'f_sel__k': list(range(1, len(X.columns.tolist())+1)),\n",
        "    'knn__n_neighbors': list(range(2, 51)),\n",
        "}\n",
        "\n",
        "search = GridSearchCV(pipeline, params)\n",
        "search.fit(X, y)\n",
        "print(search.best_score_)\n",
        "print(search.best_params_)"
      ],
      "metadata": {
        "id": "z_WGekNXHeUJ",
        "colab": {
          "base_uri": "https://localhost:8080/"
        },
        "outputId": "998bcb5b-8058-4b87-c891-79cd83ceaa06"
      },
      "execution_count": null,
      "outputs": [
        {
          "output_type": "stream",
          "name": "stdout",
          "text": [
            "0.7911519036519036\n",
            "{'f_sel__k': 12, 'f_sel__score_func': <function f_classif at 0x7f5da886d5f0>, 'knn__n_neighbors': 22}\n",
            "0.781419968919969\n",
            "{'f_sel__k': 12, 'f_sel__score_func': <function f_classif at 0x7f5da886d5f0>, 'knn__n_neighbors': 24}\n"
          ]
        }
      ]
    },
    {
      "cell_type": "code",
      "source": [
        "acc1, acc2 = [], []\n",
        "for i in range(100):\n",
        "    pipeline1 = Pipeline(steps=[('f_sel', SelectKBest(k=12, score_func=f_classif)), ('scaler', StandardScaler()), ('knn', KNeighborsClassifier(22))])\n",
        "    pipeline2 = Pipeline(steps=[('f_sel', SelectKBest(k=12, score_func=f_classif)), ('scaler', MinMaxScaler()), ('knn', KNeighborsClassifier(24))])\n",
        "\n",
        "    X_train, X_test, y_train, y_test = train_test_split(X, y['Outcome'], test_size=0.2)\n",
        "\n",
        "    pipeline1.fit(X_train, y_train)\n",
        "    pipeline2.fit(X_train, y_train)\n",
        "\n",
        "    acc1.append(accuracy_score(pipeline1.predict(X_test), y_test))\n",
        "    acc2.append(accuracy_score(pipeline2.predict(X_test), y_test))\n",
        "\n",
        "print(f'1st model acc: {np.mean(acc1)}')\n",
        "print(f'2nd model acc: {np.mean(acc2)}')"
      ],
      "metadata": {
        "colab": {
          "base_uri": "https://localhost:8080/"
        },
        "id": "UELbzFLWdjpB",
        "outputId": "a27924e0-7748-4d7a-dc29-977a14e02faf"
      },
      "execution_count": null,
      "outputs": [
        {
          "output_type": "stream",
          "name": "stdout",
          "text": [
            "1st model acc: 0.766111111111111\n",
            "2nd model acc: 0.7602777777777777\n"
          ]
        }
      ]
    },
    {
      "cell_type": "markdown",
      "source": [
        "# Deep learning model"
      ],
      "metadata": {
        "id": "nqx9N2LZbfUn"
      }
    },
    {
      "cell_type": "code",
      "source": [
        "import tensorflow as tf\n",
        "from tensorflow import keras\n",
        "from keras.models import Sequential\n",
        "from keras.layers import Dense\n",
        "from keras.wrappers.scikit_learn import KerasClassifier\n",
        "from keras.layers import Dense, Dropout, Flatten\n",
        "from keras.losses import BinaryCrossentropy\n",
        "from tensorflow.keras.optimizers import Adam, SGD, RMSprop, Nadam, Adagrad, Adadelta, Adamax\n",
        "from sklearn.utils.class_weight import compute_class_weight\n",
        "from sklearn.model_selection import train_test_split\n",
        "from sklearn.preprocessing import StandardScaler, MinMaxScaler\n",
        "from sklearn.model_selection import GridSearchCV\n",
        "from keras.regularizers import l1, l2\n",
        "from keras.initializers import HeNormal, HeUniform, GlorotUniform, GlorotNormal\n",
        "from keras.callbacks import EarlyStopping, LearningRateScheduler"
      ],
      "metadata": {
        "id": "D_rrKwMRj3J8"
      },
      "execution_count": null,
      "outputs": []
    },
    {
      "cell_type": "code",
      "source": [
        "y2 = df_train['Outcome'].values.reshape(-1)\n",
        "X_train, X_val, y_train, y_val = train_test_split(df_train.drop(columns=['Outcome']).to_numpy(), y2, test_size=0.2, shuffle=True)\n",
        "\n",
        "scaler = StandardScaler()\n",
        "\n",
        "X_train = scaler.fit_transform(X_train)\n",
        "X_val = scaler.transform(X_val)\n",
        "\n",
        "model = Sequential()\n",
        "\n",
        "model.add(Dense(\n",
        "    1000,\n",
        "    kernel_regularizer=l1(1e-3),\n",
        "    kernel_initializer=HeNormal(),\n",
        "    activation='relu',\n",
        "    input_shape=(len(df_train.columns.tolist())-1,))\n",
        ")\n",
        "\n",
        "model.add(Dense(\n",
        "    1000,\n",
        "    kernel_regularizer=l1(1e-3),\n",
        "    kernel_initializer=HeUniform(),\n",
        "    activation='relu')\n",
        ")\n",
        "\n",
        "# model.add(Dropout(0.25))\n",
        "# model.add(Flatten())\n",
        "\n",
        "model.add(Dense(\n",
        "    units=1,\n",
        "    kernel_regularizer=l1(1e-3),\n",
        "    activation='sigmoid')\n",
        ")\n",
        "\n",
        "model.compile(\n",
        "    optimizer=Adam(learning_rate=0.0009),\n",
        "    loss=tf.keras.losses.BinaryCrossentropy(),\n",
        "    metrics=['accuracy']\n",
        ")\n",
        "\n",
        "class_weight = compute_class_weight(y=y2, classes=np.unique(y2), class_weight='balanced')\n",
        "\n",
        "num_epochs = 1000\n",
        "history = model.fit(\n",
        "    X_train, y_train,\n",
        "    batch_size=64,\n",
        "    epochs=num_epochs,\n",
        "    validation_data=(X_val, y_val),\n",
        "    class_weight={0: class_weight[0], 1: class_weight[1]},\n",
        "    callbacks=[EarlyStopping(monitor='val_accuracy', patience=70, restore_best_weights=True)]\n",
        ")"
      ],
      "metadata": {
        "colab": {
          "base_uri": "https://localhost:8080/"
        },
        "id": "6n2pkqdRCeXn",
        "outputId": "926cf140-b5b9-40da-b960-9a2eb1430a10"
      },
      "execution_count": null,
      "outputs": [
        {
          "output_type": "stream",
          "name": "stdout",
          "text": [
            "Epoch 1/1000\n",
            "8/8 [==============================] - 4s 151ms/step - loss: 41.7884 - accuracy: 0.6776 - val_loss: 39.1716 - val_accuracy: 0.7478\n",
            "Epoch 2/1000\n",
            "8/8 [==============================] - 0s 47ms/step - loss: 37.6564 - accuracy: 0.7669 - val_loss: 35.4474 - val_accuracy: 0.7391\n",
            "Epoch 3/1000\n",
            "8/8 [==============================] - 0s 59ms/step - loss: 33.7938 - accuracy: 0.8083 - val_loss: 31.8563 - val_accuracy: 0.7391\n",
            "Epoch 4/1000\n",
            "8/8 [==============================] - 0s 44ms/step - loss: 30.1339 - accuracy: 0.8148 - val_loss: 28.4430 - val_accuracy: 0.7391\n",
            "Epoch 5/1000\n",
            "8/8 [==============================] - 0s 43ms/step - loss: 26.7198 - accuracy: 0.7996 - val_loss: 24.9550 - val_accuracy: 0.7652\n",
            "Epoch 6/1000\n",
            "8/8 [==============================] - 0s 52ms/step - loss: 23.5449 - accuracy: 0.8562 - val_loss: 22.0073 - val_accuracy: 0.7391\n",
            "Epoch 7/1000\n",
            "8/8 [==============================] - 0s 47ms/step - loss: 20.6317 - accuracy: 0.8431 - val_loss: 19.3775 - val_accuracy: 0.7739\n",
            "Epoch 8/1000\n",
            "8/8 [==============================] - 0s 53ms/step - loss: 18.0568 - accuracy: 0.8214 - val_loss: 16.8790 - val_accuracy: 0.7652\n",
            "Epoch 9/1000\n",
            "8/8 [==============================] - 0s 50ms/step - loss: 15.8913 - accuracy: 0.8235 - val_loss: 14.9783 - val_accuracy: 0.7130\n",
            "Epoch 10/1000\n",
            "8/8 [==============================] - 0s 53ms/step - loss: 13.9902 - accuracy: 0.8279 - val_loss: 13.2361 - val_accuracy: 0.6957\n",
            "Epoch 11/1000\n",
            "8/8 [==============================] - 0s 54ms/step - loss: 12.3728 - accuracy: 0.8235 - val_loss: 11.8666 - val_accuracy: 0.7826\n",
            "Epoch 12/1000\n",
            "8/8 [==============================] - 0s 43ms/step - loss: 11.0730 - accuracy: 0.8497 - val_loss: 10.6277 - val_accuracy: 0.7391\n",
            "Epoch 13/1000\n",
            "8/8 [==============================] - 0s 51ms/step - loss: 9.9458 - accuracy: 0.8606 - val_loss: 9.5998 - val_accuracy: 0.7217\n",
            "Epoch 14/1000\n",
            "8/8 [==============================] - 0s 53ms/step - loss: 9.0129 - accuracy: 0.8584 - val_loss: 8.7542 - val_accuracy: 0.7304\n",
            "Epoch 15/1000\n",
            "8/8 [==============================] - 1s 70ms/step - loss: 8.2612 - accuracy: 0.8257 - val_loss: 8.0067 - val_accuracy: 0.7304\n",
            "Epoch 16/1000\n",
            "8/8 [==============================] - 0s 41ms/step - loss: 7.5922 - accuracy: 0.8497 - val_loss: 7.4427 - val_accuracy: 0.7391\n",
            "Epoch 17/1000\n",
            "8/8 [==============================] - 0s 51ms/step - loss: 7.0303 - accuracy: 0.8366 - val_loss: 6.9368 - val_accuracy: 0.7130\n",
            "Epoch 18/1000\n",
            "8/8 [==============================] - 0s 58ms/step - loss: 6.5480 - accuracy: 0.8322 - val_loss: 6.5094 - val_accuracy: 0.7217\n",
            "Epoch 19/1000\n",
            "8/8 [==============================] - 1s 71ms/step - loss: 6.1437 - accuracy: 0.8214 - val_loss: 6.1164 - val_accuracy: 0.7478\n",
            "Epoch 20/1000\n",
            "8/8 [==============================] - 0s 57ms/step - loss: 5.7488 - accuracy: 0.8192 - val_loss: 5.7915 - val_accuracy: 0.7565\n",
            "Epoch 21/1000\n",
            "8/8 [==============================] - 0s 52ms/step - loss: 5.4372 - accuracy: 0.7930 - val_loss: 5.5491 - val_accuracy: 0.7652\n",
            "Epoch 22/1000\n",
            "8/8 [==============================] - 0s 62ms/step - loss: 5.1583 - accuracy: 0.8192 - val_loss: 5.1539 - val_accuracy: 0.7652\n",
            "Epoch 23/1000\n",
            "8/8 [==============================] - 1s 65ms/step - loss: 4.8988 - accuracy: 0.8148 - val_loss: 4.8742 - val_accuracy: 0.7478\n",
            "Epoch 24/1000\n",
            "8/8 [==============================] - 0s 58ms/step - loss: 4.6362 - accuracy: 0.8497 - val_loss: 4.7272 - val_accuracy: 0.7130\n",
            "Epoch 25/1000\n",
            "8/8 [==============================] - 0s 50ms/step - loss: 4.4706 - accuracy: 0.7865 - val_loss: 4.4728 - val_accuracy: 0.7391\n",
            "Epoch 26/1000\n",
            "8/8 [==============================] - 0s 56ms/step - loss: 4.2695 - accuracy: 0.8214 - val_loss: 4.3095 - val_accuracy: 0.7391\n",
            "Epoch 27/1000\n",
            "8/8 [==============================] - 0s 54ms/step - loss: 4.1002 - accuracy: 0.8017 - val_loss: 4.1578 - val_accuracy: 0.7739\n",
            "Epoch 28/1000\n",
            "8/8 [==============================] - 0s 54ms/step - loss: 3.9947 - accuracy: 0.8061 - val_loss: 4.0806 - val_accuracy: 0.7652\n",
            "Epoch 29/1000\n",
            "8/8 [==============================] - 1s 71ms/step - loss: 3.8676 - accuracy: 0.8083 - val_loss: 3.8708 - val_accuracy: 0.6957\n",
            "Epoch 30/1000\n",
            "8/8 [==============================] - 0s 56ms/step - loss: 3.7069 - accuracy: 0.8148 - val_loss: 3.7444 - val_accuracy: 0.7304\n",
            "Epoch 31/1000\n",
            "8/8 [==============================] - 0s 48ms/step - loss: 3.5994 - accuracy: 0.8257 - val_loss: 3.6354 - val_accuracy: 0.7304\n",
            "Epoch 32/1000\n",
            "8/8 [==============================] - 0s 53ms/step - loss: 3.4882 - accuracy: 0.8148 - val_loss: 3.5565 - val_accuracy: 0.7304\n",
            "Epoch 33/1000\n",
            "8/8 [==============================] - 0s 58ms/step - loss: 3.4262 - accuracy: 0.7974 - val_loss: 3.4556 - val_accuracy: 0.7130\n",
            "Epoch 34/1000\n",
            "8/8 [==============================] - 0s 54ms/step - loss: 3.3327 - accuracy: 0.8148 - val_loss: 3.4115 - val_accuracy: 0.7130\n",
            "Epoch 35/1000\n",
            "8/8 [==============================] - 0s 48ms/step - loss: 3.2537 - accuracy: 0.7952 - val_loss: 3.3445 - val_accuracy: 0.7478\n",
            "Epoch 36/1000\n",
            "8/8 [==============================] - 0s 54ms/step - loss: 3.1978 - accuracy: 0.7930 - val_loss: 3.2451 - val_accuracy: 0.7739\n",
            "Epoch 37/1000\n",
            "8/8 [==============================] - 0s 50ms/step - loss: 3.1288 - accuracy: 0.8170 - val_loss: 3.1761 - val_accuracy: 0.7652\n",
            "Epoch 38/1000\n",
            "8/8 [==============================] - 0s 58ms/step - loss: 3.0844 - accuracy: 0.7887 - val_loss: 3.1219 - val_accuracy: 0.7478\n",
            "Epoch 39/1000\n",
            "8/8 [==============================] - 0s 54ms/step - loss: 3.0188 - accuracy: 0.7930 - val_loss: 3.0362 - val_accuracy: 0.7304\n",
            "Epoch 40/1000\n",
            "8/8 [==============================] - 0s 53ms/step - loss: 2.9538 - accuracy: 0.7952 - val_loss: 3.0372 - val_accuracy: 0.7391\n",
            "Epoch 41/1000\n",
            "8/8 [==============================] - 0s 50ms/step - loss: 2.9462 - accuracy: 0.7996 - val_loss: 2.9631 - val_accuracy: 0.7391\n",
            "Epoch 42/1000\n",
            "8/8 [==============================] - 0s 63ms/step - loss: 2.8760 - accuracy: 0.7887 - val_loss: 3.0390 - val_accuracy: 0.7739\n",
            "Epoch 43/1000\n",
            "8/8 [==============================] - 0s 59ms/step - loss: 2.8199 - accuracy: 0.7952 - val_loss: 2.8690 - val_accuracy: 0.6957\n",
            "Epoch 44/1000\n",
            "8/8 [==============================] - 0s 50ms/step - loss: 2.7473 - accuracy: 0.7952 - val_loss: 2.7900 - val_accuracy: 0.7478\n",
            "Epoch 45/1000\n",
            "8/8 [==============================] - 1s 72ms/step - loss: 2.7053 - accuracy: 0.7843 - val_loss: 2.7757 - val_accuracy: 0.7478\n",
            "Epoch 46/1000\n",
            "8/8 [==============================] - 0s 50ms/step - loss: 2.6818 - accuracy: 0.7756 - val_loss: 2.7231 - val_accuracy: 0.7652\n",
            "Epoch 47/1000\n",
            "8/8 [==============================] - 0s 59ms/step - loss: 2.6121 - accuracy: 0.7930 - val_loss: 2.6843 - val_accuracy: 0.7391\n",
            "Epoch 48/1000\n",
            "8/8 [==============================] - 0s 42ms/step - loss: 2.6309 - accuracy: 0.7669 - val_loss: 2.7611 - val_accuracy: 0.7826\n",
            "Epoch 49/1000\n",
            "8/8 [==============================] - 0s 43ms/step - loss: 2.5812 - accuracy: 0.7952 - val_loss: 2.6321 - val_accuracy: 0.7304\n",
            "Epoch 50/1000\n",
            "8/8 [==============================] - 0s 54ms/step - loss: 2.4916 - accuracy: 0.7952 - val_loss: 2.5259 - val_accuracy: 0.7913\n",
            "Epoch 51/1000\n",
            "8/8 [==============================] - 0s 59ms/step - loss: 2.4381 - accuracy: 0.8170 - val_loss: 2.5150 - val_accuracy: 0.7217\n",
            "Epoch 52/1000\n",
            "8/8 [==============================] - 0s 56ms/step - loss: 2.3932 - accuracy: 0.7843 - val_loss: 2.4430 - val_accuracy: 0.7478\n",
            "Epoch 53/1000\n",
            "8/8 [==============================] - 0s 51ms/step - loss: 2.4022 - accuracy: 0.7843 - val_loss: 2.4657 - val_accuracy: 0.7391\n",
            "Epoch 54/1000\n",
            "8/8 [==============================] - 0s 61ms/step - loss: 2.3446 - accuracy: 0.8126 - val_loss: 2.3918 - val_accuracy: 0.7478\n",
            "Epoch 55/1000\n",
            "8/8 [==============================] - 0s 57ms/step - loss: 2.2855 - accuracy: 0.8039 - val_loss: 2.3224 - val_accuracy: 0.7478\n",
            "Epoch 56/1000\n",
            "8/8 [==============================] - 0s 64ms/step - loss: 2.2494 - accuracy: 0.8039 - val_loss: 2.3589 - val_accuracy: 0.7043\n",
            "Epoch 57/1000\n",
            "8/8 [==============================] - 0s 42ms/step - loss: 2.2182 - accuracy: 0.7887 - val_loss: 2.2708 - val_accuracy: 0.7739\n",
            "Epoch 58/1000\n",
            "8/8 [==============================] - 0s 50ms/step - loss: 2.1675 - accuracy: 0.7996 - val_loss: 2.2260 - val_accuracy: 0.7217\n",
            "Epoch 59/1000\n",
            "8/8 [==============================] - 0s 60ms/step - loss: 2.1267 - accuracy: 0.7974 - val_loss: 2.1948 - val_accuracy: 0.7565\n",
            "Epoch 60/1000\n",
            "8/8 [==============================] - 0s 51ms/step - loss: 2.1003 - accuracy: 0.8061 - val_loss: 2.1723 - val_accuracy: 0.7217\n",
            "Epoch 61/1000\n",
            "8/8 [==============================] - 0s 55ms/step - loss: 2.0747 - accuracy: 0.8017 - val_loss: 2.1413 - val_accuracy: 0.7304\n",
            "Epoch 62/1000\n",
            "8/8 [==============================] - 0s 54ms/step - loss: 2.0629 - accuracy: 0.7778 - val_loss: 2.1281 - val_accuracy: 0.7565\n",
            "Epoch 63/1000\n",
            "8/8 [==============================] - 1s 66ms/step - loss: 2.0439 - accuracy: 0.8126 - val_loss: 2.2541 - val_accuracy: 0.7043\n",
            "Epoch 64/1000\n",
            "8/8 [==============================] - 0s 42ms/step - loss: 2.0448 - accuracy: 0.7582 - val_loss: 2.1245 - val_accuracy: 0.7565\n",
            "Epoch 65/1000\n",
            "8/8 [==============================] - 0s 46ms/step - loss: 1.9694 - accuracy: 0.8279 - val_loss: 2.0681 - val_accuracy: 0.7130\n",
            "Epoch 66/1000\n",
            "8/8 [==============================] - 0s 59ms/step - loss: 1.9454 - accuracy: 0.7887 - val_loss: 2.0100 - val_accuracy: 0.7304\n",
            "Epoch 67/1000\n",
            "8/8 [==============================] - 0s 54ms/step - loss: 1.9301 - accuracy: 0.7647 - val_loss: 2.0039 - val_accuracy: 0.7391\n",
            "Epoch 68/1000\n",
            "8/8 [==============================] - 0s 50ms/step - loss: 1.8790 - accuracy: 0.8083 - val_loss: 1.9472 - val_accuracy: 0.7217\n",
            "Epoch 69/1000\n",
            "8/8 [==============================] - 0s 48ms/step - loss: 1.8226 - accuracy: 0.8039 - val_loss: 1.9019 - val_accuracy: 0.7304\n",
            "Epoch 70/1000\n",
            "8/8 [==============================] - 0s 44ms/step - loss: 1.7917 - accuracy: 0.8126 - val_loss: 1.8831 - val_accuracy: 0.7043\n",
            "Epoch 71/1000\n",
            "8/8 [==============================] - 0s 57ms/step - loss: 1.7657 - accuracy: 0.8017 - val_loss: 1.8607 - val_accuracy: 0.7391\n",
            "Epoch 72/1000\n",
            "8/8 [==============================] - 0s 52ms/step - loss: 1.7381 - accuracy: 0.8148 - val_loss: 1.8308 - val_accuracy: 0.7217\n",
            "Epoch 73/1000\n",
            "8/8 [==============================] - 0s 52ms/step - loss: 1.7171 - accuracy: 0.7952 - val_loss: 1.8001 - val_accuracy: 0.7130\n",
            "Epoch 74/1000\n",
            "8/8 [==============================] - 0s 45ms/step - loss: 1.6925 - accuracy: 0.7865 - val_loss: 1.7850 - val_accuracy: 0.7478\n",
            "Epoch 75/1000\n",
            "8/8 [==============================] - 0s 40ms/step - loss: 1.6597 - accuracy: 0.8126 - val_loss: 1.7571 - val_accuracy: 0.7130\n",
            "Epoch 76/1000\n",
            "8/8 [==============================] - 0s 53ms/step - loss: 1.6348 - accuracy: 0.8039 - val_loss: 1.7220 - val_accuracy: 0.7478\n",
            "Epoch 77/1000\n",
            "8/8 [==============================] - 0s 48ms/step - loss: 1.6053 - accuracy: 0.8257 - val_loss: 1.7010 - val_accuracy: 0.7130\n",
            "Epoch 78/1000\n",
            "8/8 [==============================] - 0s 53ms/step - loss: 1.5792 - accuracy: 0.7930 - val_loss: 1.6708 - val_accuracy: 0.7478\n",
            "Epoch 79/1000\n",
            "8/8 [==============================] - 0s 56ms/step - loss: 1.5573 - accuracy: 0.8083 - val_loss: 1.6412 - val_accuracy: 0.7304\n",
            "Epoch 80/1000\n",
            "8/8 [==============================] - 0s 43ms/step - loss: 1.5320 - accuracy: 0.8061 - val_loss: 1.6266 - val_accuracy: 0.7130\n",
            "Epoch 81/1000\n",
            "8/8 [==============================] - 0s 50ms/step - loss: 1.5018 - accuracy: 0.8061 - val_loss: 1.6002 - val_accuracy: 0.7217\n",
            "Epoch 82/1000\n",
            "8/8 [==============================] - 0s 51ms/step - loss: 1.4789 - accuracy: 0.8039 - val_loss: 1.5942 - val_accuracy: 0.7217\n",
            "Epoch 83/1000\n",
            "8/8 [==============================] - 0s 55ms/step - loss: 1.4541 - accuracy: 0.8192 - val_loss: 1.5594 - val_accuracy: 0.7130\n",
            "Epoch 84/1000\n",
            "8/8 [==============================] - 0s 50ms/step - loss: 1.4324 - accuracy: 0.8148 - val_loss: 1.5446 - val_accuracy: 0.6957\n",
            "Epoch 85/1000\n",
            "8/8 [==============================] - 0s 53ms/step - loss: 1.4144 - accuracy: 0.8083 - val_loss: 1.5238 - val_accuracy: 0.7130\n",
            "Epoch 86/1000\n",
            "8/8 [==============================] - 0s 52ms/step - loss: 1.4021 - accuracy: 0.8105 - val_loss: 1.5062 - val_accuracy: 0.7043\n",
            "Epoch 87/1000\n",
            "8/8 [==============================] - 0s 55ms/step - loss: 1.3805 - accuracy: 0.8105 - val_loss: 1.4825 - val_accuracy: 0.7391\n",
            "Epoch 88/1000\n",
            "8/8 [==============================] - 1s 66ms/step - loss: 1.3590 - accuracy: 0.8039 - val_loss: 1.4691 - val_accuracy: 0.7130\n",
            "Epoch 89/1000\n",
            "8/8 [==============================] - 0s 50ms/step - loss: 1.3402 - accuracy: 0.8126 - val_loss: 1.4424 - val_accuracy: 0.7391\n",
            "Epoch 90/1000\n",
            "8/8 [==============================] - 0s 50ms/step - loss: 1.3184 - accuracy: 0.8105 - val_loss: 1.4237 - val_accuracy: 0.7391\n",
            "Epoch 91/1000\n",
            "8/8 [==============================] - 0s 59ms/step - loss: 1.2953 - accuracy: 0.8148 - val_loss: 1.4053 - val_accuracy: 0.7130\n",
            "Epoch 92/1000\n",
            "8/8 [==============================] - 0s 58ms/step - loss: 1.2774 - accuracy: 0.8083 - val_loss: 1.3869 - val_accuracy: 0.7130\n",
            "Epoch 93/1000\n",
            "8/8 [==============================] - 0s 48ms/step - loss: 1.2592 - accuracy: 0.8214 - val_loss: 1.3745 - val_accuracy: 0.7304\n",
            "Epoch 94/1000\n",
            "8/8 [==============================] - 0s 54ms/step - loss: 1.2446 - accuracy: 0.8105 - val_loss: 1.3594 - val_accuracy: 0.7217\n",
            "Epoch 95/1000\n",
            "8/8 [==============================] - 0s 55ms/step - loss: 1.2212 - accuracy: 0.8061 - val_loss: 1.3316 - val_accuracy: 0.7217\n",
            "Epoch 96/1000\n",
            "8/8 [==============================] - 0s 54ms/step - loss: 1.2018 - accuracy: 0.8083 - val_loss: 1.3163 - val_accuracy: 0.7130\n",
            "Epoch 97/1000\n",
            "8/8 [==============================] - 0s 49ms/step - loss: 1.1862 - accuracy: 0.8061 - val_loss: 1.2989 - val_accuracy: 0.7304\n",
            "Epoch 98/1000\n",
            "8/8 [==============================] - 0s 52ms/step - loss: 1.1779 - accuracy: 0.8039 - val_loss: 1.2878 - val_accuracy: 0.7217\n",
            "Epoch 99/1000\n",
            "8/8 [==============================] - 0s 54ms/step - loss: 1.1573 - accuracy: 0.8148 - val_loss: 1.2713 - val_accuracy: 0.7391\n",
            "Epoch 100/1000\n",
            "8/8 [==============================] - 1s 64ms/step - loss: 1.1406 - accuracy: 0.8126 - val_loss: 1.2642 - val_accuracy: 0.7217\n",
            "Epoch 101/1000\n",
            "8/8 [==============================] - 0s 49ms/step - loss: 1.1235 - accuracy: 0.8148 - val_loss: 1.2409 - val_accuracy: 0.7304\n",
            "Epoch 102/1000\n",
            "8/8 [==============================] - 0s 55ms/step - loss: 1.1157 - accuracy: 0.8235 - val_loss: 1.2349 - val_accuracy: 0.7130\n",
            "Epoch 103/1000\n",
            "8/8 [==============================] - 0s 52ms/step - loss: 1.0999 - accuracy: 0.8083 - val_loss: 1.2198 - val_accuracy: 0.7217\n",
            "Epoch 104/1000\n",
            "8/8 [==============================] - 0s 54ms/step - loss: 1.0806 - accuracy: 0.8235 - val_loss: 1.2002 - val_accuracy: 0.7304\n",
            "Epoch 105/1000\n",
            "8/8 [==============================] - 0s 43ms/step - loss: 1.0751 - accuracy: 0.8039 - val_loss: 1.1872 - val_accuracy: 0.7304\n",
            "Epoch 106/1000\n",
            "8/8 [==============================] - 0s 56ms/step - loss: 1.0575 - accuracy: 0.8235 - val_loss: 1.1759 - val_accuracy: 0.7304\n",
            "Epoch 107/1000\n",
            "8/8 [==============================] - 0s 55ms/step - loss: 1.0372 - accuracy: 0.8170 - val_loss: 1.1633 - val_accuracy: 0.7130\n",
            "Epoch 108/1000\n",
            "8/8 [==============================] - 0s 56ms/step - loss: 1.0231 - accuracy: 0.8105 - val_loss: 1.1475 - val_accuracy: 0.7304\n",
            "Epoch 109/1000\n",
            "8/8 [==============================] - 0s 53ms/step - loss: 1.0105 - accuracy: 0.8214 - val_loss: 1.1340 - val_accuracy: 0.7217\n",
            "Epoch 110/1000\n",
            "8/8 [==============================] - 0s 55ms/step - loss: 0.9989 - accuracy: 0.8257 - val_loss: 1.1264 - val_accuracy: 0.7217\n",
            "Epoch 111/1000\n",
            "8/8 [==============================] - 0s 61ms/step - loss: 0.9833 - accuracy: 0.8192 - val_loss: 1.1151 - val_accuracy: 0.7217\n",
            "Epoch 112/1000\n",
            "8/8 [==============================] - 0s 47ms/step - loss: 0.9718 - accuracy: 0.8235 - val_loss: 1.1068 - val_accuracy: 0.7130\n",
            "Epoch 113/1000\n",
            "8/8 [==============================] - 0s 50ms/step - loss: 0.9663 - accuracy: 0.8061 - val_loss: 1.1024 - val_accuracy: 0.7043\n",
            "Epoch 114/1000\n",
            "8/8 [==============================] - 0s 57ms/step - loss: 0.9527 - accuracy: 0.8214 - val_loss: 1.0852 - val_accuracy: 0.7304\n",
            "Epoch 115/1000\n",
            "8/8 [==============================] - 0s 49ms/step - loss: 0.9388 - accuracy: 0.8235 - val_loss: 1.0688 - val_accuracy: 0.7217\n",
            "Epoch 116/1000\n",
            "8/8 [==============================] - 0s 53ms/step - loss: 0.9280 - accuracy: 0.8257 - val_loss: 1.0644 - val_accuracy: 0.7217\n",
            "Epoch 117/1000\n",
            "8/8 [==============================] - 0s 59ms/step - loss: 0.9177 - accuracy: 0.8170 - val_loss: 1.0559 - val_accuracy: 0.7217\n",
            "Epoch 118/1000\n",
            "8/8 [==============================] - 0s 60ms/step - loss: 0.9056 - accuracy: 0.8170 - val_loss: 1.0413 - val_accuracy: 0.7304\n",
            "Epoch 119/1000\n",
            "8/8 [==============================] - 0s 47ms/step - loss: 0.8935 - accuracy: 0.8235 - val_loss: 1.0305 - val_accuracy: 0.7217\n",
            "Epoch 120/1000\n",
            "8/8 [==============================] - 0s 55ms/step - loss: 0.8822 - accuracy: 0.8322 - val_loss: 1.0177 - val_accuracy: 0.7304\n"
          ]
        }
      ]
    },
    {
      "cell_type": "code",
      "source": [
        "print(accuracy_score(model.predict(df_test.drop(columns=['Outcome']).values), y_test))"
      ],
      "metadata": {
        "colab": {
          "base_uri": "https://localhost:8080/"
        },
        "id": "xPCyRJrClrs-",
        "outputId": "5ae0d539-839e-4941-bc1d-9c7233e91cc2"
      },
      "execution_count": null,
      "outputs": [
        {
          "output_type": "stream",
          "name": "stdout",
          "text": [
            "0.6666666666666666\n"
          ]
        }
      ]
    },
    {
      "cell_type": "code",
      "source": [
        "plt.figure(figsize=(8, 8))\n",
        "plt.plot(range(len(history.history['accuracy'])), history.history['accuracy'], label='Train accuracy')\n",
        "plt.plot(range(len(history.history['val_accuracy'])), history.history['val_accuracy'], label='Validation accuracy')\n",
        "plt.legend()\n",
        "plt.show()"
      ],
      "metadata": {
        "id": "LOdDJTspmy5x",
        "colab": {
          "base_uri": "https://localhost:8080/",
          "height": 483
        },
        "outputId": "05764398-b861-461c-90cf-69965eefdcef"
      },
      "execution_count": null,
      "outputs": [
        {
          "output_type": "display_data",
          "data": {
            "image/png": "[encoded data removed]",
            "text/plain": [
              "<Figure size 576x576 with 1 Axes>"
            ]
          },
          "metadata": {
            "needs_background": "light"
          }
        }
      ]
    },
    {
      "cell_type": "markdown",
      "source": [
        "# Logisticka regresija"
      ],
      "metadata": {
        "id": "fhJutnUOEOwC"
      }
    },
    {
      "cell_type": "code",
      "source": [
        "from sklearn.preprocessing import MinMaxScaler\n",
        "df = pd.read_csv('diabetes.csv')\n",
        "df_scaled = MinMaxScaler().fit_transform(df)\n",
        "#print(df.head())\n",
        "y = df_scaled[:, 8]\n",
        "X = df_scaled[:, 0:8]"
      ],
      "metadata": {
        "id": "89KmvAcFEVmn"
      },
      "execution_count": 198,
      "outputs": []
    },
    {
      "cell_type": "code",
      "source": [
        "from sklearn.linear_model import LogisticRegression\n",
        "from sklearn.model_selection import train_test_split\n",
        "from sklearn.model_selection import RandomizedSearchCV\n",
        "from sklearn.model_selection import GridSearchCV\n",
        "from scipy.stats import uniform"
      ],
      "metadata": {
        "id": "jVmwafnSEZZ3"
      },
      "execution_count": 199,
      "outputs": []
    },
    {
      "cell_type": "code",
      "source": [
        "X_train, X_test, y_train, y_test = train_test_split(X,y,\n",
        "                                                   test_size=0.25,\n",
        "                                                   random_state=0,\n",
        "                                                   stratify=y)\n",
        "\n",
        "\n",
        "\n",
        "log_reg = LogisticRegression(solver='liblinear', max_iter=1000, \n",
        "                             tol=0.0001, \n",
        "                             )\n",
        "\n",
        "log_reg.fit(X_train, y_train)"
      ],
      "metadata": {
        "colab": {
          "base_uri": "https://localhost:8080/"
        },
        "id": "tpdTdk8vEpIt",
        "outputId": "06de63f2-c119-44a3-e18f-aacf26dae80b"
      },
      "execution_count": 207,
      "outputs": [
        {
          "output_type": "execute_result",
          "data": {
            "text/plain": [
              "LogisticRegression(max_iter=1000, solver='liblinear')"
            ]
          },
          "metadata": {},
          "execution_count": 207
        }
      ]
    },
    {
      "cell_type": "code",
      "source": [
        "print(\"Train score:\", log_reg.score(X_train, y_train))\n",
        "print(\"Test score:\", log_reg.score(X_test, y_test))"
      ],
      "metadata": {
        "colab": {
          "base_uri": "https://localhost:8080/"
        },
        "id": "3-IOK_GyHiF6",
        "outputId": "5eda0cc8-b0bd-4e3a-91fb-f76cc1abec22"
      },
      "execution_count": 209,
      "outputs": [
        {
          "output_type": "stream",
          "name": "stdout",
          "text": [
            "Train score: 0.7673611111111112\n",
            "Test score: 0.7552083333333334\n"
          ]
        }
      ]
    },
    {
      "cell_type": "markdown",
      "source": [
        "Randomized search"
      ],
      "metadata": {
        "id": "pKH7NCQcVT2K"
      }
    },
    {
      "cell_type": "code",
      "source": [
        "hyperparameters = dict(C=uniform(loc=0, scale=4), penalty=['l2'])\n",
        "\n",
        "clf = RandomizedSearchCV(log_reg,\n",
        "                        hyperparameters,\n",
        "                        random_state=0,\n",
        "                        n_iter=100,\n",
        "                        cv=5,\n",
        "                        verbose=0,\n",
        "                        n_jobs=-1,\n",
        "                        )\n",
        "\n",
        "best_model = clf.fit(X_train, y_train)"
      ],
      "metadata": {
        "id": "yXgGth-BH7Iv"
      },
      "execution_count": 210,
      "outputs": []
    },
    {
      "cell_type": "code",
      "source": [
        "#print(best_model.cv_results_)"
      ],
      "metadata": {
        "id": "jqhv1INgM4n1"
      },
      "execution_count": null,
      "outputs": []
    },
    {
      "cell_type": "code",
      "source": [
        "print(best_model.best_params_)\n",
        "print(best_model.score(X_test, y_test))"
      ],
      "metadata": {
        "colab": {
          "base_uri": "https://localhost:8080/"
        },
        "id": "Jgy8OtKELhHx",
        "outputId": "96ab6e4b-3a1c-41eb-9d24-10f688d35265"
      },
      "execution_count": 211,
      "outputs": [
        {
          "output_type": "stream",
          "name": "stdout",
          "text": [
            "{'C': 2.115579679011618, 'penalty': 'l2'}\n",
            "0.7604166666666666\n"
          ]
        }
      ]
    },
    {
      "cell_type": "markdown",
      "source": [
        "Grid Search"
      ],
      "metadata": {
        "id": "y-hwCMv_ViLA"
      }
    },
    {
      "cell_type": "code",
      "source": [
        "param_grid = {'C': [0.001, 0.01, 0.1, 1, 10, 100, 1000], 'penalty': ['l1','l2']}\n",
        "clf2 = GridSearchCV(log_reg, param_grid)\n",
        "best_model_grid = clf2.fit(X_train, y_train)"
      ],
      "metadata": {
        "id": "BWTSBnEYS64f"
      },
      "execution_count": 177,
      "outputs": []
    },
    {
      "cell_type": "code",
      "source": [
        "#print(best_model.cv_results_)"
      ],
      "metadata": {
        "id": "F_EQ9ANETY4n"
      },
      "execution_count": null,
      "outputs": []
    },
    {
      "cell_type": "code",
      "source": [
        "print(best_model_grid.best_params_)\n",
        "print(best_model_grid.score(X_test, y_test))"
      ],
      "metadata": {
        "colab": {
          "base_uri": "https://localhost:8080/"
        },
        "id": "gkWFVR9wTD_w",
        "outputId": "a200e1b2-05e3-471f-bdbc-510d60afcb8d"
      },
      "execution_count": 172,
      "outputs": [
        {
          "output_type": "stream",
          "name": "stdout",
          "text": [
            "{'C': 1, 'penalty': 'l1'}\n",
            "0.78125\n"
          ]
        }
      ]
    },
    {
      "cell_type": "markdown",
      "source": [
        "# Algoritam K najblizih susjeda"
      ],
      "metadata": {
        "id": "zazsE9H0al_m"
      }
    },
    {
      "cell_type": "code",
      "source": [
        "from sklearn.neighbors import KNeighborsClassifier"
      ],
      "metadata": {
        "id": "IoAoqPZ1ayAJ"
      },
      "execution_count": 178,
      "outputs": []
    },
    {
      "cell_type": "code",
      "source": [
        "k_range = list(range(1,100))\n",
        "weight_options = [\"uniform\", \"distance\"]\n",
        "\n",
        "param_grid_knn = dict(n_neighbors = k_range, weights = weight_options)\n",
        "\n",
        "knn = KNeighborsClassifier()\n",
        "knn_model = GridSearchCV(knn, param_grid_knn, cv = 10, scoring = 'accuracy')\n",
        "knn_model.fit(X_train, y_train)"
      ],
      "metadata": {
        "colab": {
          "base_uri": "https://localhost:8080/"
        },
        "id": "UAABq6yZatNK",
        "outputId": "bdc4826e-74b2-4320-89b0-698e12fbfd9c"
      },
      "execution_count": 212,
      "outputs": [
        {
          "output_type": "execute_result",
          "data": {
            "text/plain": [
              "GridSearchCV(cv=10, estimator=KNeighborsClassifier(),\n",
              "             param_grid={'n_neighbors': [1, 2, 3, 4, 5, 6, 7, 8, 9, 10, 11, 12,\n",
              "                                         13, 14, 15, 16, 17, 18, 19, 20, 21, 22,\n",
              "                                         23, 24, 25, 26, 27, 28, 29, 30, ...],\n",
              "                         'weights': ['uniform', 'distance']},\n",
              "             scoring='accuracy')"
            ]
          },
          "metadata": {},
          "execution_count": 212
        }
      ]
    },
    {
      "cell_type": "code",
      "source": [
        "print(knn_model.best_params_)\n",
        "print(knn_model.score(X_test, y_test))"
      ],
      "metadata": {
        "colab": {
          "base_uri": "https://localhost:8080/"
        },
        "id": "qF5W8U3jbc3g",
        "outputId": "fefbe409-68fa-40f8-81fe-78fe09cd4271"
      },
      "execution_count": 213,
      "outputs": [
        {
          "output_type": "stream",
          "name": "stdout",
          "text": [
            "{'n_neighbors': 20, 'weights': 'uniform'}\n",
            "0.734375\n"
          ]
        }
      ]
    },
    {
      "cell_type": "markdown",
      "source": [
        "# Ansambli"
      ],
      "metadata": {
        "id": "UkbBf8TrXkEQ"
      }
    },
    {
      "cell_type": "code",
      "source": [
        "from sklearn import svm, tree\n",
        "from sklearn.naive_bayes import GaussianNB\n",
        "from sklearn.ensemble import RandomForestClassifier\n",
        "from sklearn.model_selection import StratifiedKFold\n",
        "from sklearn.ensemble import VotingClassifier\n",
        "from sklearn.model_selection import cross_val_score"
      ],
      "metadata": {
        "id": "JqFNnNdpYmDL"
      },
      "execution_count": 224,
      "outputs": []
    },
    {
      "cell_type": "code",
      "source": [
        "model1 = log_reg = LogisticRegression(max_iter=1000, tol=0.0001)\n",
        "\n",
        "model2 = KNeighborsClassifier(n_neighbors = 16, weights = 'uniform')\n",
        "\n",
        "model3 = svm.SVC(C = 64, gamma = 0.03125, kernel = 'rbf')\n",
        "\n",
        "model4 = tree.DecisionTreeClassifier()\n",
        "\n",
        "model5 = GaussianNB()\n",
        "\n",
        "model6 = RandomForestClassifier()"
      ],
      "metadata": {
        "id": "TUsGph8gXnXC"
      },
      "execution_count": 215,
      "outputs": []
    },
    {
      "cell_type": "code",
      "source": [
        "estimators = [('LR',model1), ('KNN',model2), ('SVC',model3),\n",
        "              ('DT',model4), ('NB',model5), ('RF',model6)]"
      ],
      "metadata": {
        "id": "eu-1ZgINZU4V"
      },
      "execution_count": 216,
      "outputs": []
    },
    {
      "cell_type": "code",
      "source": [
        "X_train_sc, X_test_sc, y_train_sc, y_test_sc = train_test_split(X,y,\n",
        "                                                   test_size=0.25,\n",
        "                                                   random_state=0,\n",
        "                                                   stratify=y)"
      ],
      "metadata": {
        "id": "gKO8KRRig_Pc"
      },
      "execution_count": 228,
      "outputs": []
    },
    {
      "cell_type": "code",
      "source": [
        "kfold = StratifiedKFold(n_splits=10)\n",
        "ensemble = VotingClassifier(estimators)\n",
        "results = cross_val_score(ensemble, X_train_sc, y_train_sc, cv=kfold)\n",
        "print('Accuracy on train: ', results.mean())\n",
        "ensemble_model = ensemble.fit(X_train_sc, y_train_sc)\n",
        "pred = ensemble_model.predict(X_test_sc)\n",
        "print('Accuracy on test:' , (y_test_sc == pred).mean())"
      ],
      "metadata": {
        "colab": {
          "base_uri": "https://localhost:8080/"
        },
        "id": "u4OqxfFRZT5J",
        "outputId": "86dde7a7-a228-46d2-ba94-c301925aaf8d"
      },
      "execution_count": 229,
      "outputs": [
        {
          "output_type": "stream",
          "name": "stdout",
          "text": [
            "Accuracy on train:  0.7621899576527525\n",
            "Accuracy on test: 0.7760416666666666\n"
          ]
        }
      ]
    }
  ]
}